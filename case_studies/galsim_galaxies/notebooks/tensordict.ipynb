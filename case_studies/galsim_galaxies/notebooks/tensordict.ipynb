{
 "cells": [
  {
   "cell_type": "code",
   "execution_count": null,
   "metadata": {},
   "outputs": [],
   "source": [
    "from tensordict import TensorDict\n",
    "import torch"
   ]
  },
  {
   "cell_type": "code",
   "execution_count": null,
   "metadata": {},
   "outputs": [
    {
     "data": {
      "text/plain": [
       "TensorDict(\n",
       "    fields={\n",
       "        a: Tensor(shape=torch.Size([10000, 3]), device=cpu, dtype=torch.float32, is_shared=False),\n",
       "        b: Tensor(shape=torch.Size([10000, 4]), device=cpu, dtype=torch.bool, is_shared=False),\n",
       "        c: TensorDict(\n",
       "            fields={\n",
       "                d: Tensor(shape=torch.Size([10000, 3]), device=cpu, dtype=torch.float32, is_shared=False),\n",
       "                g: Tensor(shape=torch.Size([10000, 5]), device=cpu, dtype=torch.float32, is_shared=False)},\n",
       "            batch_size=torch.Size([10000]),\n",
       "            device=None,\n",
       "            is_shared=False)},\n",
       "    batch_size=torch.Size([10000]),\n",
       "    device=None,\n",
       "    is_shared=False)"
      ]
     },
     "execution_count": null,
     "metadata": {},
     "output_type": "execute_result"
    }
   ],
   "source": [
    "d1 = TensorDict({\n",
    "\"a\": torch.ones(1, 3),\n",
    "\"b\": torch.zeros(1, 4, dtype=torch.bool),\n",
    "\"c\": {\"d\": torch.ones((1, 3)), \"g\": torch.ones((1, 5))}\n",
    "}, batch_size=[1])\n",
    "\n",
    "d1_s = [d1 for _ in range(10000)]\n",
    "\n",
    "\n",
    "\n",
    "# d2 = TensorDict({\n",
    "# \"key 1\": torch.ones(1, 3),\n",
    "# \"key 2\": torch.zeros(1, 4, dtype=torch.bool),\n",
    "# }, batch_size=[1])\n",
    "d = torch.cat(d1_s)\n",
    "d"
   ]
  },
  {
   "cell_type": "code",
   "execution_count": null,
   "metadata": {},
   "outputs": [
    {
     "data": {
      "text/plain": [
       "torch.Size([10000])"
      ]
     },
     "execution_count": null,
     "metadata": {},
     "output_type": "execute_result"
    }
   ],
   "source": [
    "d.shape"
   ]
  },
  {
   "cell_type": "code",
   "execution_count": null,
   "metadata": {},
   "outputs": [
    {
     "data": {
      "text/plain": [
       "10000"
      ]
     },
     "execution_count": null,
     "metadata": {},
     "output_type": "execute_result"
    }
   ],
   "source": [
    "d.shape[0]"
   ]
  },
  {
   "cell_type": "code",
   "execution_count": null,
   "metadata": {},
   "outputs": [],
   "source": []
  }
 ],
 "metadata": {
  "kernelspec": {
   "display_name": "bliss-deblender-W0ocb7P7-py3.10",
   "language": "python",
   "name": "python3"
  },
  "language_info": {
   "codemirror_mode": {
    "name": "ipython",
    "version": 3
   },
   "file_extension": ".py",
   "mimetype": "text/x-python",
   "name": "python",
   "nbconvert_exporter": "python",
   "pygments_lexer": "ipython3",
   "version": "3.10.12"
  }
 },
 "nbformat": 4,
 "nbformat_minor": 2
}
