{
 "cells": [
  {
   "cell_type": "code",
   "execution_count": null,
   "metadata": {},
   "outputs": [],
   "source": [
    "import btk\n",
    "from galcheat.utilities import mean_sky_level\n",
    "import matplotlib.pyplot as plt\n",
    "import numpy as np\n",
    "\n",
    "from btk.measure import get_snr"
   ]
  },
  {
   "cell_type": "code",
   "execution_count": null,
   "metadata": {},
   "outputs": [
    {
     "data": {
      "text/plain": [
       "14.3246593475"
      ]
     },
     "execution_count": null,
     "metadata": {},
     "output_type": "execute_result"
    }
   ],
   "source": [
    "max_n_sources = 1\n",
    "min_n_sources = 1 # always once source\n",
    "stamp_size =  53 * 0.2 # arcsecs\n",
    "max_shift = 0.0 # shift from center (so centered)\n",
    "seed = 0\n",
    "\n",
    "catalog = btk.catalog.CatsimCatalog.from_file('../../../data/OneDegSq.fits')\n",
    "catalog.get_raw_catalog()['i_ab'].min()"
   ]
  },
  {
   "cell_type": "code",
   "execution_count": null,
   "metadata": {},
   "outputs": [],
   "source": [
    "sampling_function = btk.sampling_functions.DefaultSampling(\n",
    "    max_number=max_n_sources,\n",
    "    min_number=min_n_sources,\n",
    "    stamp_size=stamp_size, \n",
    "    max_shift=max_shift, \n",
    "    min_mag = 0,  # min mag in i-band is 14.32\n",
    "    max_mag = 27.3, # see document for high level responses \n",
    "    seed = seed)\n"
   ]
  },
  {
   "cell_type": "code",
   "execution_count": null,
   "metadata": {},
   "outputs": [],
   "source": [
    "LSST = btk.survey.get_surveys('LSST')\n",
    "i_filt = LSST.get_filter('i')"
   ]
  },
  {
   "cell_type": "code",
   "execution_count": null,
   "metadata": {},
   "outputs": [],
   "source": [
    "# get sky level in e- counts \n",
    "sky_level = mean_sky_level('LSST', 'i').to_value('electron')"
   ]
  },
  {
   "cell_type": "code",
   "execution_count": null,
   "metadata": {},
   "outputs": [
    {
     "data": {
      "text/latex": [
       "$0.79 \\; \\mathrm{{}^{\\prime\\prime}}$"
      ],
      "text/plain": [
       "<Quantity 0.79 arcsec>"
      ]
     },
     "execution_count": null,
     "metadata": {},
     "output_type": "execute_result"
    }
   ],
   "source": [
    "i_filt.psf_fwhm"
   ]
  },
  {
   "cell_type": "code",
   "execution_count": null,
   "metadata": {},
   "outputs": [],
   "source": [
    "\n",
    "batch_size = 100\n",
    "\n",
    "draw_generator = btk.draw_blends.CatsimGenerator(\n",
    "    catalog,\n",
    "    sampling_function,\n",
    "    LSST,\n",
    "    batch_size=batch_size,\n",
    "    stamp_size=stamp_size,\n",
    "    njobs=1,\n",
    "    add_noise=\"all\",\n",
    "    seed=seed, # use same seed here\n",
    ")\n"
   ]
  },
  {
   "cell_type": "code",
   "execution_count": null,
   "metadata": {},
   "outputs": [
    {
     "data": {
      "text/plain": [
       "BlendBatch(survey_name=LSST, \n",
       "\t blend_images: np.ndarray, shape [100, 6, 53, 53]\n",
       "\t isolated_images: np.ndarray, shape [100, 1, 6, 53, 53]\n",
       "\t catalog_list: list of <class 'astropy.table.table.Table'>, size 100\n",
       "\t psfs: list of <class 'galsim.gsobject.GSObject'>, size 6\n",
       "\t wcs: <class 'astropy.wcs.wcs.WCS'>)"
      ]
     },
     "execution_count": null,
     "metadata": {},
     "output_type": "execute_result"
    }
   ],
   "source": [
    "batch = next(draw_generator)\n",
    "batch"
   ]
  },
  {
   "cell_type": "code",
   "execution_count": null,
   "metadata": {},
   "outputs": [
    {
     "data": {
      "text/plain": [
       "{'galtileid': tensor([402705367267]),\n",
       " 'ra': tensor([0.]),\n",
       " 'dec': tensor([0.]),\n",
       " 'redshift': tensor([0.3142]),\n",
       " 'fluxnorm_bulge': tensor([0.]),\n",
       " 'fluxnorm_disk': tensor([2.1799e-18]),\n",
       " 'fluxnorm_agn': tensor([0.]),\n",
       " 'a_b': tensor([0.]),\n",
       " 'a_d': tensor([0.9253]),\n",
       " 'b_b': tensor([0.]),\n",
       " 'b_d': tensor([0.6205]),\n",
       " 'pa_bulge': tensor([0.]),\n",
       " 'pa_disk': tensor([339.9250]),\n",
       " 'u_ab': tensor([25.9116]),\n",
       " 'g_ab': tensor([25.8384]),\n",
       " 'r_ab': tensor([25.6581]),\n",
       " 'i_ab': tensor([25.6921]),\n",
       " 'z_ab': tensor([25.7327]),\n",
       " 'y_ab': tensor([25.7524]),\n",
       " 'x_peak': tensor([26.], dtype=torch.float64),\n",
       " 'y_peak': tensor([26.0000], dtype=torch.float64),\n",
       " 'btk_rotation': tensor([0.], dtype=torch.float64),\n",
       " 'not_drawn_u': tensor([0.], dtype=torch.float64),\n",
       " 'not_drawn_g': tensor([0.], dtype=torch.float64),\n",
       " 'not_drawn_r': tensor([0.], dtype=torch.float64),\n",
       " 'not_drawn_i': tensor([0.], dtype=torch.float64),\n",
       " 'not_drawn_z': tensor([0.], dtype=torch.float64),\n",
       " 'not_drawn_y': tensor([0.], dtype=torch.float64)}"
      ]
     },
     "execution_count": null,
     "metadata": {},
     "output_type": "execute_result"
    }
   ],
   "source": [
    "table_to_dict(batch.catalog_list[0])"
   ]
  },
  {
   "cell_type": "code",
   "execution_count": null,
   "metadata": {},
   "outputs": [
    {
     "name": "stdout",
     "output_type": "stream",
     "text": [
      "galtileid\n",
      "ra\n",
      "dec\n",
      "redshift\n",
      "fluxnorm_bulge\n",
      "fluxnorm_disk\n",
      "fluxnorm_agn\n",
      "a_b\n",
      "a_d\n",
      "b_b\n",
      "b_d\n",
      "pa_bulge\n",
      "pa_disk\n",
      "u_ab\n",
      "g_ab\n",
      "r_ab\n",
      "i_ab\n",
      "z_ab\n",
      "y_ab\n",
      "x_peak\n",
      "y_peak\n",
      "btk_rotation\n",
      "not_drawn_u\n",
      "not_drawn_g\n",
      "not_drawn_r\n",
      "not_drawn_i\n",
      "not_drawn_z\n",
      "not_drawn_y\n"
     ]
    }
   ],
   "source": [
    "for p in batch.catalog_list[0].columns:\n",
    "    print(p)"
   ]
  },
  {
   "cell_type": "code",
   "execution_count": null,
   "metadata": {},
   "outputs": [
    {
     "name": "stdout",
     "output_type": "stream",
     "text": [
      "[402705398628]\n",
      "[0.]\n",
      "[0.]\n",
      "[1.14676905]\n",
      "[7.85807985e-19]\n",
      "[3.47660082e-18]\n",
      "[0.]\n",
      "[0.140708]\n",
      "[0.0741542]\n",
      "[0.13489901]\n",
      "[0.0360952]\n",
      "[164.47412109]\n",
      "[164.47412109]\n",
      "[26.76430893]\n",
      "[26.8392849]\n",
      "[26.35802841]\n",
      "[25.86438751]\n",
      "[25.11486053]\n",
      "[24.75091934]\n",
      "[26.]\n",
      "[26.]\n",
      "[0.]\n",
      "[0.]\n",
      "[0.]\n",
      "[0.]\n",
      "[0.]\n",
      "[0.]\n",
      "[0.]\n"
     ]
    }
   ],
   "source": [
    "d = dict(batch.catalog_list[0])\n",
    "for p in d:\n",
    "    print(d[p].value)"
   ]
  },
  {
   "cell_type": "code",
   "execution_count": null,
   "metadata": {},
   "outputs": [],
   "source": [
    "snrs = get_snr(batch.isolated_images[:, 0, 3], sky_level)"
   ]
  },
  {
   "cell_type": "code",
   "execution_count": null,
   "metadata": {},
   "outputs": [
    {
     "name": "stdout",
     "output_type": "stream",
     "text": [
      "23.8654327393 48.499043887065426\n"
     ]
    },
    {
     "data": {
      "image/png": "[encoded data removed]",
      "text/plain": [
       "<Figure size 640x480 with 1 Axes>"
      ]
     },
     "metadata": {},
     "output_type": "display_data"
    }
   ],
   "source": [
    "idx = np.random.randint(0, 100)\n",
    "plt.imshow(batch.blend_images[idx, 3]) # i-band, is indx = 3\n",
    "plt.scatter(26, 26, color='r', marker='x')\n",
    "print(batch.catalog_list[idx]['i_ab'].value.item(), snrs[idx])"
   ]
  },
  {
   "cell_type": "code",
   "execution_count": null,
   "metadata": {},
   "outputs": [
    {
     "data": {
      "text/plain": [
       "(array([4.00000e+00, 7.00000e+00, 1.30000e+01, 1.90000e+01, 5.70000e+01,\n",
       "        1.17000e+02, 2.06000e+02, 4.18000e+02, 8.79000e+02, 1.59600e+03,\n",
       "        2.98700e+03, 5.26700e+03, 9.14900e+03, 1.50610e+04, 2.41320e+04,\n",
       "        3.79030e+04, 5.75850e+04, 8.56110e+04, 1.21414e+05, 1.69334e+05,\n",
       "        1.89156e+05, 1.30416e+05, 6.35000e+03, 4.45000e+02, 3.76000e+02]),\n",
       " array([14.32465935, 14.95125435, 15.57784935, 16.20444435, 16.83103935,\n",
       "        17.45763435, 18.08422935, 18.71082436, 19.33741936, 19.96401436,\n",
       "        20.59060936, 21.21720436, 21.84379936, 22.47039436, 23.09698936,\n",
       "        23.72358437, 24.35017937, 24.97677437, 25.60336937, 26.22996437,\n",
       "        26.85655937, 27.48315437, 28.10974937, 28.73634438, 29.36293938,\n",
       "        29.98953438]),\n",
       " <BarContainer object of 25 artists>)"
      ]
     },
     "execution_count": null,
     "metadata": {},
     "output_type": "execute_result"
    },
    {
     "data": {
      "image/png": "[encoded data removed]",
      "text/plain": [
       "<Figure size 640x480 with 1 Axes>"
      ]
     },
     "metadata": {},
     "output_type": "display_data"
    }
   ],
   "source": [
    "plt.hist(catalog.get_raw_catalog()['i_ab'], bins=25)"
   ]
  },
  {
   "cell_type": "code",
   "execution_count": null,
   "metadata": {},
   "outputs": [
    {
     "data": {
      "text/plain": [
       "24.3130187988"
      ]
     },
     "execution_count": null,
     "metadata": {},
     "output_type": "execute_result"
    }
   ],
   "source": [
    "batch.catalog_list[0]['i_ab'].value.item()"
   ]
  },
  {
   "cell_type": "code",
   "execution_count": null,
   "metadata": {},
   "outputs": [],
   "source": []
  }
 ],
 "metadata": {
  "kernelspec": {
   "display_name": "bliss-deblender-W0ocb7P7-py3.10",
   "language": "python",
   "name": "python3"
  },
  "language_info": {
   "codemirror_mode": {
    "name": "ipython",
    "version": 3
   },
   "file_extension": ".py",
   "mimetype": "text/x-python",
   "name": "python",
   "nbconvert_exporter": "python",
   "pygments_lexer": "ipython3",
   "version": "3.10.12"
  }
 },
 "nbformat": 4,
 "nbformat_minor": 2
}
