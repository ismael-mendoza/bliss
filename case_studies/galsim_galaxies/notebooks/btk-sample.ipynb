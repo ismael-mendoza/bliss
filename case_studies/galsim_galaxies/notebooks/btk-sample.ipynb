{
 "cells": [
  {
   "cell_type": "code",
   "execution_count": null,
   "metadata": {},
   "outputs": [],
   "source": [
    "%load_ext autoreload\n",
    "%autoreload 2\n"
   ]
  },
  {
   "cell_type": "code",
   "execution_count": null,
   "metadata": {},
   "outputs": [],
   "source": [
    "import btk\n",
    "from galcheat.utilities import mean_sky_level\n",
    "import matplotlib.pyplot as plt\n",
    "import numpy as np\n",
    "\n",
    "from btk.measure import get_snr\n",
    "import torch"
   ]
  },
  {
   "cell_type": "markdown",
   "metadata": {},
   "source": [
    "## BTK dataset"
   ]
  },
  {
   "cell_type": "code",
   "execution_count": null,
   "metadata": {},
   "outputs": [
    {
     "data": {
      "text/plain": [
       "(14.3246593475, 29.9895343781)"
      ]
     },
     "execution_count": null,
     "metadata": {},
     "output_type": "execute_result"
    }
   ],
   "source": [
    "max_n_sources = 1\n",
    "min_n_sources = 1 # always once source\n",
    "stamp_size =  53 * 0.2 # arcsecs\n",
    "max_shift = 0.0 # shift from center (so centered)\n",
    "seed = 0\n",
    "\n",
    "catalog = btk.catalog.CatsimCatalog.from_file('../../../data/OneDegSq.fits')\n",
    "catalog.get_raw_catalog()['i_ab'].min(), catalog.get_raw_catalog()['i_ab'].max()"
   ]
  },
  {
   "cell_type": "code",
   "execution_count": null,
   "metadata": {},
   "outputs": [
    {
     "data": {
      "text/plain": [
       "<matplotlib.lines.Line2D at 0x7fac84c1e230>"
      ]
     },
     "execution_count": null,
     "metadata": {},
     "output_type": "execute_result"
    },
    {
     "data": {
      "image/png": "[encoded data removed]",
      "text/plain": [
       "<Figure size 640x480 with 1 Axes>"
      ]
     },
     "metadata": {},
     "output_type": "display_data"
    }
   ],
   "source": [
    "cat = catalog.get_raw_catalog()\n",
    "plt.hist(cat['i_ab'], bins=31)\n",
    "plt.axvline(27.3, color='r')"
   ]
  },
  {
   "cell_type": "code",
   "execution_count": null,
   "metadata": {},
   "outputs": [
    {
     "data": {
      "text/plain": [
       "0.9999989267439844"
      ]
     },
     "execution_count": null,
     "metadata": {},
     "output_type": "execute_result"
    }
   ],
   "source": [
    "ra = cat['ra']\n",
    "ra = (ra + ra.mean()) % 360\n",
    "ra.max() - ra.min()"
   ]
  },
  {
   "cell_type": "code",
   "execution_count": null,
   "metadata": {},
   "outputs": [
    {
     "data": {
      "text/plain": [
       "185.13194444444446"
      ]
     },
     "execution_count": null,
     "metadata": {},
     "output_type": "execute_result"
    }
   ],
   "source": [
    "len(cat[cat['i_ab'] < 27.3]) / (3600) # 1 sq deg"
   ]
  },
  {
   "cell_type": "code",
   "execution_count": null,
   "metadata": {},
   "outputs": [],
   "source": [
    "sampling_function = btk.sampling_functions.DefaultSampling(\n",
    "    max_number=max_n_sources,\n",
    "    min_number=min_n_sources,\n",
    "    stamp_size=stamp_size, \n",
    "    max_shift=max_shift, \n",
    "    min_mag = 0,  # min mag in i-band is 14.32\n",
    "    max_mag = 27.3, # see document for high level responses \n",
    "    seed = seed)\n"
   ]
  },
  {
   "cell_type": "code",
   "execution_count": null,
   "metadata": {},
   "outputs": [],
   "source": [
    "LSST = btk.survey.get_surveys('LSST')\n",
    "i_filt = LSST.get_filter('i')"
   ]
  },
  {
   "cell_type": "code",
   "execution_count": null,
   "metadata": {},
   "outputs": [],
   "source": [
    "# get sky level in e- counts \n",
    "sky_level = mean_sky_level('LSST', 'i').to_value('electron')"
   ]
  },
  {
   "cell_type": "code",
   "execution_count": null,
   "metadata": {},
   "outputs": [
    {
     "data": {
      "text/latex": [
       "$0.79 \\; \\mathrm{{}^{\\prime\\prime}}$"
      ],
      "text/plain": [
       "<Quantity 0.79 arcsec>"
      ]
     },
     "execution_count": null,
     "metadata": {},
     "output_type": "execute_result"
    }
   ],
   "source": [
    "i_filt.psf_fwhm"
   ]
  },
  {
   "cell_type": "code",
   "execution_count": null,
   "metadata": {},
   "outputs": [],
   "source": [
    "\n",
    "batch_size = 100\n",
    "\n",
    "draw_generator = btk.draw_blends.CatsimGenerator(\n",
    "    catalog,\n",
    "    sampling_function,\n",
    "    LSST,\n",
    "    batch_size=batch_size,\n",
    "    stamp_size=stamp_size,\n",
    "    njobs=1,\n",
    "    add_noise=\"all\",\n",
    "    seed=seed, # use same seed here\n",
    ")\n"
   ]
  },
  {
   "cell_type": "code",
   "execution_count": null,
   "metadata": {},
   "outputs": [
    {
     "data": {
      "text/plain": [
       "BlendBatch(survey_name=LSST, \n",
       "\t blend_images: np.ndarray, shape [100, 6, 53, 53]\n",
       "\t isolated_images: np.ndarray, shape [100, 1, 6, 53, 53]\n",
       "\t catalog_list: list of <class 'astropy.table.table.Table'>, size 100\n",
       "\t psfs: list of <class 'galsim.gsobject.GSObject'>, size 6\n",
       "\t wcs: <class 'astropy.wcs.wcs.WCS'>)"
      ]
     },
     "execution_count": null,
     "metadata": {},
     "output_type": "execute_result"
    }
   ],
   "source": [
    "batch = next(draw_generator)\n",
    "batch"
   ]
  },
  {
   "cell_type": "code",
   "execution_count": null,
   "metadata": {},
   "outputs": [
    {
     "data": {
      "text/plain": [
       "dtype('float64')"
      ]
     },
     "execution_count": null,
     "metadata": {},
     "output_type": "execute_result"
    }
   ],
   "source": [
    "batch.blend_images.dtype"
   ]
  },
  {
   "cell_type": "code",
   "execution_count": null,
   "metadata": {},
   "outputs": [
    {
     "name": "stdout",
     "output_type": "stream",
     "text": [
      "galtileid\n",
      "ra\n",
      "dec\n",
      "redshift\n",
      "fluxnorm_bulge\n",
      "fluxnorm_disk\n",
      "fluxnorm_agn\n",
      "a_b\n",
      "a_d\n",
      "b_b\n",
      "b_d\n",
      "pa_bulge\n",
      "pa_disk\n",
      "u_ab\n",
      "g_ab\n",
      "r_ab\n",
      "i_ab\n",
      "z_ab\n",
      "y_ab\n",
      "x_peak\n",
      "y_peak\n",
      "btk_rotation\n",
      "not_drawn_u\n",
      "not_drawn_g\n",
      "not_drawn_r\n",
      "not_drawn_i\n",
      "not_drawn_z\n",
      "not_drawn_y\n"
     ]
    }
   ],
   "source": [
    "for p in batch.catalog_list[0].columns:\n",
    "    print(p)"
   ]
  },
  {
   "cell_type": "code",
   "execution_count": null,
   "metadata": {},
   "outputs": [
    {
     "name": "stdout",
     "output_type": "stream",
     "text": [
      "[402705367267]\n",
      "[0.]\n",
      "[0.]\n",
      "[0.31423011]\n",
      "[0.]\n",
      "[2.17991994e-18]\n",
      "[0.]\n",
      "[0.]\n",
      "[0.92527241]\n",
      "[0.]\n",
      "[0.62053549]\n",
      "[0.]\n",
      "[339.92495727]\n",
      "[25.91155052]\n",
      "[25.8383522]\n",
      "[25.65806389]\n",
      "[25.69213867]\n",
      "[25.73265648]\n",
      "[25.75240326]\n",
      "[26.]\n",
      "[26.]\n",
      "[0.]\n",
      "[0.]\n",
      "[0.]\n",
      "[0.]\n",
      "[0.]\n",
      "[0.]\n",
      "[0.]\n"
     ]
    }
   ],
   "source": [
    "d = dict(batch.catalog_list[0])\n",
    "for p in d:\n",
    "    print(d[p].value)"
   ]
  },
  {
   "cell_type": "code",
   "execution_count": null,
   "metadata": {},
   "outputs": [],
   "source": [
    "snrs = get_snr(batch.isolated_images[:, 0, 3], sky_level)"
   ]
  },
  {
   "cell_type": "code",
   "execution_count": null,
   "metadata": {},
   "outputs": [
    {
     "data": {
      "text/plain": [
       "array([[1, 4],\n",
       "       [2, 5],\n",
       "       [3, 6]])"
      ]
     },
     "execution_count": null,
     "metadata": {},
     "output_type": "execute_result"
    }
   ],
   "source": [
    "a = np.array([1,2,3])\n",
    "b = np.array([4,5,6])\n",
    "np.vstack((a,b)).T"
   ]
  },
  {
   "cell_type": "code",
   "execution_count": null,
   "metadata": {},
   "outputs": [
    {
     "name": "stdout",
     "output_type": "stream",
     "text": [
      "27.0603847504 3.0134590567345487\n"
     ]
    },
    {
     "data": {
      "image/png": "[encoded data removed]",
      "text/plain": [
       "<Figure size 640x480 with 1 Axes>"
      ]
     },
     "metadata": {},
     "output_type": "display_data"
    }
   ],
   "source": [
    "idx = np.random.randint(0, 100)\n",
    "plt.imshow(batch.blend_images[idx, 3]) # i-band, is indx = 3\n",
    "plt.scatter(26, 30, color='r', marker='x')\n",
    "print(batch.catalog_list[idx]['i_ab'].value.item(), snrs[idx])"
   ]
  },
  {
   "cell_type": "code",
   "execution_count": null,
   "metadata": {},
   "outputs": [
    {
     "data": {
      "text/plain": [
       "(array([4.00000e+00, 7.00000e+00, 1.30000e+01, 1.90000e+01, 5.70000e+01,\n",
       "        1.17000e+02, 2.06000e+02, 4.18000e+02, 8.79000e+02, 1.59600e+03,\n",
       "        2.98700e+03, 5.26700e+03, 9.14900e+03, 1.50610e+04, 2.41320e+04,\n",
       "        3.79030e+04, 5.75850e+04, 8.56110e+04, 1.21414e+05, 1.69334e+05,\n",
       "        1.89156e+05, 1.30416e+05, 6.35000e+03, 4.45000e+02, 3.76000e+02]),\n",
       " array([14.32465935, 14.95125435, 15.57784935, 16.20444435, 16.83103935,\n",
       "        17.45763435, 18.08422935, 18.71082436, 19.33741936, 19.96401436,\n",
       "        20.59060936, 21.21720436, 21.84379936, 22.47039436, 23.09698936,\n",
       "        23.72358437, 24.35017937, 24.97677437, 25.60336937, 26.22996437,\n",
       "        26.85655937, 27.48315437, 28.10974937, 28.73634438, 29.36293938,\n",
       "        29.98953438]),\n",
       " <BarContainer object of 25 artists>)"
      ]
     },
     "execution_count": null,
     "metadata": {},
     "output_type": "execute_result"
    },
    {
     "data": {
      "image/png": "[encoded data removed]",
      "text/plain": [
       "<Figure size 640x480 with 1 Axes>"
      ]
     },
     "metadata": {},
     "output_type": "display_data"
    }
   ],
   "source": [
    "plt.hist(catalog.get_raw_catalog()['i_ab'], bins=25)"
   ]
  },
  {
   "cell_type": "code",
   "execution_count": null,
   "metadata": {},
   "outputs": [
    {
     "data": {
      "text/plain": [
       "24.3130187988"
      ]
     },
     "execution_count": null,
     "metadata": {},
     "output_type": "execute_result"
    }
   ],
   "source": [
    "batch.catalog_list[0]['i_ab'].value.item()"
   ]
  },
  {
   "cell_type": "markdown",
   "metadata": {},
   "source": [
    "## stars"
   ]
  },
  {
   "cell_type": "code",
   "execution_count": null,
   "metadata": {},
   "outputs": [],
   "source": [
    "from astropy.table import Table\n",
    "\n",
    "star_data = \"../../../data/stars_med_june2018.fits\"\n",
    "stars = Table.read(star_data)"
   ]
  },
  {
   "cell_type": "code",
   "execution_count": null,
   "metadata": {},
   "outputs": [
    {
     "data": {
      "text/plain": [
       "<matplotlib.lines.Line2D at 0x7f8c644322f0>"
      ]
     },
     "execution_count": null,
     "metadata": {},
     "output_type": "execute_result"
    },
    {
     "data": {
      "image/png": "[encoded data removed]",
      "text/plain": [
       "<Figure size 640x480 with 1 Axes>"
      ]
     },
     "metadata": {},
     "output_type": "display_data"
    }
   ],
   "source": [
    "plt.hist(stars['i_ab'], bins=31)\n",
    "plt.axvline(26.0, color='r')"
   ]
  },
  {
   "cell_type": "markdown",
   "metadata": {},
   "source": [
    "## Poisson distribution"
   ]
  },
  {
   "cell_type": "code",
   "execution_count": null,
   "metadata": {},
   "outputs": [],
   "source": [
    "import numpy as np \n",
    "import scipy.special\n",
    "import matplotlib.pyplot as plt\n",
    "\n",
    "density = 185 \n",
    "exp_count = 30\n",
    "x = np.arange(0, 30)\n",
    "px = (exp_count ** x) * np.exp(-exp_count) / scipy.special.factorial(x)"
   ]
  },
  {
   "cell_type": "code",
   "execution_count": null,
   "metadata": {},
   "outputs": [
    {
     "data": {
      "text/plain": [
       "array([1.00000000e+00, 1.00000000e+00, 2.00000000e+00, 6.00000000e+00,\n",
       "       2.40000000e+01, 1.20000000e+02, 7.20000000e+02, 5.04000000e+03,\n",
       "       4.03200000e+04, 3.62880000e+05, 3.62880000e+06, 3.99168000e+07,\n",
       "       4.79001600e+08, 6.22702080e+09, 8.71782912e+10, 1.30767437e+12,\n",
       "       2.09227899e+13, 3.55687428e+14, 6.40237371e+15, 1.21645100e+17,\n",
       "       2.43290201e+18, 5.10909422e+19, 1.12400073e+21, 2.58520167e+22,\n",
       "       6.20448402e+23, 1.55112100e+25, 4.03291461e+26, 1.08888695e+28,\n",
       "       3.04888345e+29, 8.84176199e+30])"
      ]
     },
     "execution_count": null,
     "metadata": {},
     "output_type": "execute_result"
    }
   ],
   "source": [
    "scipy.special.factorial(x)"
   ]
  },
  {
   "cell_type": "code",
   "execution_count": null,
   "metadata": {},
   "outputs": [
    {
     "data": {
      "text/plain": [
       "34"
      ]
     },
     "execution_count": null,
     "metadata": {},
     "output_type": "execute_result"
    }
   ],
   "source": [
    "np.random.poisson(exp_count)"
   ]
  },
  {
   "cell_type": "markdown",
   "metadata": {},
   "source": [
    "# test new BLISS datasets"
   ]
  },
  {
   "cell_type": "markdown",
   "metadata": {},
   "source": [
    "## Single galaxies"
   ]
  },
  {
   "cell_type": "code",
   "execution_count": null,
   "metadata": {},
   "outputs": [],
   "source": [
    "from bliss.datasets.single_galaxies import SingleGalsimGalaxies\n",
    "\n",
    "single_dataset = SingleGalsimGalaxies(catalog_file='../../../data/OneDegSq.fits', slen=88, seed=0)"
   ]
  },
  {
   "cell_type": "code",
   "execution_count": null,
   "metadata": {},
   "outputs": [
    {
     "data": {
      "text/plain": [
       "{'galtileid': tensor([402702727452]),\n",
       " 'ra': tensor([0.]),\n",
       " 'dec': tensor([0.]),\n",
       " 'redshift': tensor([3.0691]),\n",
       " 'fluxnorm_bulge': tensor([0.]),\n",
       " 'fluxnorm_disk': tensor([3.0228e-18]),\n",
       " 'fluxnorm_agn': tensor([0.]),\n",
       " 'a_b': tensor([0.]),\n",
       " 'a_d': tensor([0.3150]),\n",
       " 'b_b': tensor([0.]),\n",
       " 'b_d': tensor([0.1918]),\n",
       " 'pa_bulge': tensor([0.]),\n",
       " 'pa_disk': tensor([308.9677]),\n",
       " 'u_ab': tensor([26.4468]),\n",
       " 'g_ab': tensor([25.1747]),\n",
       " 'r_ab': tensor([24.9127]),\n",
       " 'i_ab': tensor([24.9602]),\n",
       " 'z_ab': tensor([25.1006]),\n",
       " 'y_ab': tensor([25.0884]),\n",
       " 'x_peak': tensor([43.5000], dtype=torch.float64),\n",
       " 'y_peak': tensor([43.5000], dtype=torch.float64),\n",
       " 'btk_rotation': tensor([0.], dtype=torch.float64),\n",
       " 'not_drawn_u': tensor([0.], dtype=torch.float64),\n",
       " 'not_drawn_g': tensor([0.], dtype=torch.float64),\n",
       " 'not_drawn_r': tensor([0.], dtype=torch.float64),\n",
       " 'not_drawn_i': tensor([0.], dtype=torch.float64),\n",
       " 'not_drawn_z': tensor([0.], dtype=torch.float64),\n",
       " 'not_drawn_y': tensor([0.], dtype=torch.float64)}"
      ]
     },
     "execution_count": null,
     "metadata": {},
     "output_type": "execute_result"
    }
   ],
   "source": [
    "batch['params']"
   ]
  },
  {
   "cell_type": "code",
   "execution_count": null,
   "metadata": {},
   "outputs": [
    {
     "name": "stdout",
     "output_type": "stream",
     "text": [
      " galtileid  \n",
      "------------\n",
      "402707889055 galtileid\n",
      " ra\n",
      "---\n",
      "0.0 ra\n",
      "dec\n",
      "---\n",
      "0.0 dec\n",
      "   redshift  \n",
      "-------------\n",
      "2.24137401581 redshift\n",
      " fluxnorm_bulge \n",
      "----------------\n",
      "6.9704028678e-18 fluxnorm_bulge\n",
      "  fluxnorm_disk  \n",
      "-----------------\n",
      "1.66535693699e-17 fluxnorm_disk\n",
      "fluxnorm_agn\n",
      "------------\n",
      "         0.0 fluxnorm_agn\n",
      "     a_b     \n",
      "-------------\n",
      "1.05356252193 a_b\n",
      "     a_d     \n",
      "-------------\n",
      "1.29824328423 a_d\n",
      "     b_b     \n",
      "-------------\n",
      "1.02388548851 b_b\n",
      "     b_d     \n",
      "-------------\n",
      "0.41492420435 b_d\n",
      "   pa_bulge  \n",
      "-------------\n",
      "310.696014404 pa_bulge\n",
      "   pa_disk   \n",
      "-------------\n",
      "310.696014404 pa_disk\n",
      "     u_ab    \n",
      "-------------\n",
      "30.5375728607 u_ab\n",
      "     g_ab    \n",
      "-------------\n",
      "28.1572227478 g_ab\n",
      "     r_ab    \n",
      "-------------\n",
      "26.8970546722 r_ab\n",
      "     i_ab    \n",
      "-------------\n",
      "26.3998508453 i_ab\n",
      "     z_ab    \n",
      "-------------\n",
      "25.5874519348 z_ab\n",
      "     y_ab    \n",
      "-------------\n",
      "24.7236404419 y_ab\n",
      "x_peak\n",
      "------\n",
      "  43.5 x_peak\n",
      "      y_peak     \n",
      "-----------------\n",
      "43.49999999993685 y_peak\n",
      "btk_rotation\n",
      "------------\n",
      "         0.0 btk_rotation\n",
      "not_drawn_u\n",
      "-----------\n",
      "        0.0 not_drawn_u\n",
      "not_drawn_g\n",
      "-----------\n",
      "        0.0 not_drawn_g\n",
      "not_drawn_r\n",
      "-----------\n",
      "        0.0 not_drawn_r\n",
      "not_drawn_i\n",
      "-----------\n",
      "        0.0 not_drawn_i\n",
      "not_drawn_z\n",
      "-----------\n",
      "        0.0 not_drawn_z\n",
      "not_drawn_y\n",
      "-----------\n",
      "        0.0 not_drawn_y\n",
      "2.8253382965013913\n"
     ]
    },
    {
     "data": {
      "image/png": "[encoded data removed]",
      "text/plain": [
       "<Figure size 640x480 with 1 Axes>"
      ]
     },
     "metadata": {},
     "output_type": "display_data"
    }
   ],
   "source": [
    "batch = single_dataset[0]\n",
    "plt.imshow(batch['images'][0])\n",
    "print(batch['snr'])"
   ]
  },
  {
   "cell_type": "code",
   "execution_count": null,
   "metadata": {},
   "outputs": [
    {
     "data": {
      "text/plain": [
       "<matplotlib.image.AxesImage at 0x7fc9d8565090>"
      ]
     },
     "execution_count": null,
     "metadata": {},
     "output_type": "execute_result"
    },
    {
     "data": {
      "image/png": "[encoded data removed]",
      "text/plain": [
       "<Figure size 640x480 with 1 Axes>"
      ]
     },
     "metadata": {},
     "output_type": "display_data"
    }
   ],
   "source": [
    "plt.imshow(batch['noiseless'][0])"
   ]
  },
  {
   "cell_type": "code",
   "execution_count": null,
   "metadata": {},
   "outputs": [
    {
     "data": {
      "text/plain": [
       "{'galtileid': tensor([402700538259]),\n",
       " 'ra': tensor([0.]),\n",
       " 'dec': tensor([0.]),\n",
       " 'redshift': tensor([0.4687]),\n",
       " 'fluxnorm_bulge': tensor([1.1689e-17]),\n",
       " 'fluxnorm_disk': tensor([4.8684e-17]),\n",
       " 'fluxnorm_agn': tensor([0.]),\n",
       " 'a_b': tensor([0.4347]),\n",
       " 'a_d': tensor([0.2333]),\n",
       " 'b_b': tensor([0.4260]),\n",
       " 'b_d': tensor([0.0539]),\n",
       " 'pa_bulge': tensor([267.8273]),\n",
       " 'pa_disk': tensor([267.8273]),\n",
       " 'u_ab': tensor([25.0771]),\n",
       " 'g_ab': tensor([24.2188]),\n",
       " 'r_ab': tensor([23.1173]),\n",
       " 'i_ab': tensor([22.5682]),\n",
       " 'z_ab': tensor([22.2310]),\n",
       " 'y_ab': tensor([22.0364]),\n",
       " 'x_peak': tensor([43.5000], dtype=torch.float64),\n",
       " 'y_peak': tensor([43.5000], dtype=torch.float64),\n",
       " 'btk_rotation': tensor([0.], dtype=torch.float64),\n",
       " 'not_drawn_u': tensor([0.], dtype=torch.float64),\n",
       " 'not_drawn_g': tensor([0.], dtype=torch.float64),\n",
       " 'not_drawn_r': tensor([0.], dtype=torch.float64),\n",
       " 'not_drawn_i': tensor([0.], dtype=torch.float64),\n",
       " 'not_drawn_z': tensor([0.], dtype=torch.float64),\n",
       " 'not_drawn_y': tensor([0.], dtype=torch.float64)}"
      ]
     },
     "execution_count": null,
     "metadata": {},
     "output_type": "execute_result"
    }
   ],
   "source": [
    "batch['params']"
   ]
  },
  {
   "cell_type": "markdown",
   "metadata": {},
   "source": [
    "## Blends"
   ]
  },
  {
   "cell_type": "code",
   "execution_count": null,
   "metadata": {},
   "outputs": [],
   "source": [
    "from bliss.datasets.blends import GalsimBlends\n",
    "from bliss.catalog import TileCatalog"
   ]
  },
  {
   "cell_type": "code",
   "execution_count": null,
   "metadata": {},
   "outputs": [],
   "source": [
    "ds = GalsimBlends(catalog_file='../../../data/OneDegSq.fits', stars_file='../../../data/stars_med_june2018.fits', tile_slen=4, max_sources_per_tile=1, num_workers=1, batch_size=2, n_batches=1, bp=24, slen=40, seed=0)"
   ]
  },
  {
   "cell_type": "code",
   "execution_count": null,
   "metadata": {},
   "outputs": [
    {
     "name": "stdout",
     "output_type": "stream",
     "text": [
      "torch.Size([8]) torch.Size([8, 1]) torch.Size([8, 1])\n"
     ]
    },
    {
     "data": {
      "text/plain": [
       "(tensor(2.), tensor(0.))"
      ]
     },
     "execution_count": null,
     "metadata": {},
     "output_type": "execute_result"
    }
   ],
   "source": [
    "batch = ds[0]\n",
    "tile_params = {k:v.unsqueeze(0) for k,v in batch.items() if k not in {'images', 'background'}}\n",
    "tile_catalog = TileCatalog(4, tile_params) \n",
    "full_cat = tile_catalog.to_full_params()\n",
    "\n",
    "batch['galaxy_bools'].sum(), batch['star_bools'].sum(), batch['star_bools']"
   ]
  },
  {
   "cell_type": "code",
   "execution_count": null,
   "metadata": {},
   "outputs": [],
   "source": [
    "# full_cat.keys()\n",
    "# full_cat['star_bools'].shape, full_cat['galaxy_bools'].shape\n",
    "# batch['star_bools'].shape, batch['star_fluxes'].shape, batch['galaxy_bools'].shape\n"
   ]
  },
  {
   "cell_type": "code",
   "execution_count": null,
   "metadata": {},
   "outputs": [
    {
     "data": {
      "text/plain": [
       "(tensor([[[22.2567],\n",
       "          [26.1220]]]),\n",
       " tensor([[[23.8673, 27.4211],\n",
       "          [62.6698, 51.5954]]]))"
      ]
     },
     "execution_count": null,
     "metadata": {},
     "output_type": "execute_result"
    }
   ],
   "source": [
    "full_cat['mags'], full_cat.plocs + 24 -0.5"
   ]
  },
  {
   "cell_type": "code",
   "execution_count": null,
   "metadata": {},
   "outputs": [
    {
     "data": {
      "text/plain": [
       "<matplotlib.collections.PathCollection at 0x7f3d529d0490>"
      ]
     },
     "execution_count": null,
     "metadata": {},
     "output_type": "execute_result"
    },
    {
     "data": {
      "image/png": "[encoded data removed]",
      "text/plain": [
       "<Figure size 640x480 with 2 Axes>"
      ]
     },
     "metadata": {},
     "output_type": "display_data"
    }
   ],
   "source": [
    "bp = 24 \n",
    "\n",
    "\n",
    "# print(batch['n_sources'].sum().item())\n",
    "\n",
    "plt.imshow(batch['images'][0] - batch['background'][0])\n",
    "plt.colorbar()\n",
    "\n",
    "# need to make sure locs are correct\n",
    "\n",
    "\n",
    "# x1 = tplocs[indx, :, 1] + bp - 0.5 - trim\n",
    "\n",
    "\n",
    "x, y = full_cat.plocs[0, :,1] + 24 - 0.5, full_cat.plocs[0, :, 0] + 24 - 0.5\n",
    "\n",
    "plt.scatter(x, y, marker=\"x\", color=\"r\", s=20)"
   ]
  },
  {
   "cell_type": "code",
   "execution_count": null,
   "metadata": {},
   "outputs": [
    {
     "data": {
      "text/plain": [
       "dict_keys(['n_sources', 'locs', 'galaxy_bools', 'star_bools', 'star_fluxes', 'star_log_fluxes', 'galaxy_params', 'mags', 'ellips', 'snr', 'blendedness', 'fluxes'])"
      ]
     },
     "execution_count": null,
     "metadata": {},
     "output_type": "execute_result"
    }
   ],
   "source": [
    "tile_params.keys()"
   ]
  },
  {
   "cell_type": "code",
   "execution_count": null,
   "metadata": {},
   "outputs": [
    {
     "data": {
      "text/plain": [
       "tensor([[183312.7531, 184034.1672, 183561.0552,  ..., 183548.6127,\n",
       "         184127.8142, 183348.9175],\n",
       "        [183471.6655, 183605.2105, 183485.8907,  ..., 183401.6336,\n",
       "         183453.9241, 183371.3914],\n",
       "        [184064.4842, 183859.4757, 183854.8985,  ..., 184115.1714,\n",
       "         183225.6894, 184317.0490],\n",
       "        ...,\n",
       "        [183205.7351, 183682.0272, 183740.9838,  ..., 183633.1050,\n",
       "         183190.3656, 183265.0289],\n",
       "        [183892.0551, 183153.8765, 184209.4282,  ..., 184167.3542,\n",
       "         183769.6804, 183028.3487],\n",
       "        [184303.6548, 183594.7333, 183941.1743,  ..., 183036.5333,\n",
       "         183227.9066, 183459.8060]], dtype=torch.float64)"
      ]
     },
     "execution_count": null,
     "metadata": {},
     "output_type": "execute_result"
    }
   ],
   "source": [
    "batch['images'][0]"
   ]
  },
  {
   "cell_type": "code",
   "execution_count": null,
   "metadata": {},
   "outputs": [
    {
     "data": {
      "text/plain": [
       "tensor([[0.0000e+00, 0.0000e+00, 0.0000e+00, 0.0000e+00, 0.0000e+00, 0.0000e+00,\n",
       "         0.0000e+00, 0.0000e+00, 0.0000e+00, 0.0000e+00],\n",
       "        [0.0000e+00, 0.0000e+00, 0.0000e+00, 0.0000e+00, 0.0000e+00, 0.0000e+00,\n",
       "         0.0000e+00, 0.0000e+00, 0.0000e+00, 0.0000e+00],\n",
       "        [0.0000e+00, 1.1648e+04, 0.0000e+00, 0.0000e+00, 0.0000e+00, 0.0000e+00,\n",
       "         0.0000e+00, 0.0000e+00, 0.0000e+00, 0.0000e+00],\n",
       "        [0.0000e+00, 0.0000e+00, 0.0000e+00, 0.0000e+00, 0.0000e+00, 0.0000e+00,\n",
       "         1.7071e+05, 0.0000e+00, 0.0000e+00, 0.0000e+00],\n",
       "        [0.0000e+00, 0.0000e+00, 0.0000e+00, 0.0000e+00, 0.0000e+00, 0.0000e+00,\n",
       "         0.0000e+00, 0.0000e+00, 0.0000e+00, 0.0000e+00],\n",
       "        [0.0000e+00, 0.0000e+00, 0.0000e+00, 0.0000e+00, 0.0000e+00, 0.0000e+00,\n",
       "         0.0000e+00, 0.0000e+00, 0.0000e+00, 0.0000e+00],\n",
       "        [0.0000e+00, 0.0000e+00, 0.0000e+00, 0.0000e+00, 0.0000e+00, 0.0000e+00,\n",
       "         0.0000e+00, 0.0000e+00, 0.0000e+00, 0.0000e+00],\n",
       "        [0.0000e+00, 0.0000e+00, 0.0000e+00, 0.0000e+00, 0.0000e+00, 0.0000e+00,\n",
       "         0.0000e+00, 0.0000e+00, 0.0000e+00, 0.0000e+00],\n",
       "        [0.0000e+00, 5.4432e+04, 0.0000e+00, 0.0000e+00, 0.0000e+00, 0.0000e+00,\n",
       "         0.0000e+00, 5.0260e+07, 1.9750e+04, 0.0000e+00],\n",
       "        [0.0000e+00, 0.0000e+00, 0.0000e+00, 0.0000e+00, 0.0000e+00, 0.0000e+00,\n",
       "         0.0000e+00, 0.0000e+00, 0.0000e+00, 0.0000e+00]])"
      ]
     },
     "execution_count": null,
     "metadata": {},
     "output_type": "execute_result"
    }
   ],
   "source": [
    "batch['fluxes'].squeeze()"
   ]
  },
  {
   "cell_type": "code",
   "execution_count": null,
   "metadata": {},
   "outputs": [
    {
     "data": {
      "text/plain": [
       "tensor([[0, 0, 0, 0, 0, 0, 0, 0, 0, 0],\n",
       "        [0, 0, 0, 0, 0, 0, 0, 0, 0, 0],\n",
       "        [0, 0, 0, 0, 0, 0, 0, 0, 0, 0],\n",
       "        [0, 0, 0, 0, 0, 0, 1, 0, 0, 0],\n",
       "        [0, 0, 0, 0, 0, 0, 0, 0, 0, 0],\n",
       "        [0, 0, 0, 0, 0, 0, 0, 0, 0, 0],\n",
       "        [0, 0, 0, 0, 0, 0, 0, 0, 0, 1],\n",
       "        [0, 0, 0, 0, 0, 0, 0, 0, 0, 0],\n",
       "        [0, 0, 0, 0, 0, 0, 0, 0, 0, 0],\n",
       "        [0, 0, 0, 0, 0, 0, 0, 0, 0, 0]])"
      ]
     },
     "execution_count": null,
     "metadata": {},
     "output_type": "execute_result"
    }
   ],
   "source": [
    "batch['n_sources']"
   ]
  },
  {
   "cell_type": "markdown",
   "metadata": {},
   "source": [
    "### Playing with mags"
   ]
  },
  {
   "cell_type": "code",
   "execution_count": null,
   "metadata": {},
   "outputs": [],
   "source": [
    "import galcheat\n",
    "\n",
    "import astropy.units as u"
   ]
  },
  {
   "cell_type": "code",
   "execution_count": null,
   "metadata": {},
   "outputs": [],
   "source": [
    "lsst=galcheat.get_survey('LSST')\n",
    "i_band = lsst.get_filter('i')"
   ]
  },
  {
   "cell_type": "code",
   "execution_count": null,
   "metadata": {},
   "outputs": [
    {
     "data": {
      "text/latex": [
       "$27.78 \\; \\mathrm{mag}$"
      ],
      "text/plain": [
       "<Quantity 27.78 mag>"
      ]
     },
     "execution_count": null,
     "metadata": {},
     "output_type": "execute_result"
    }
   ],
   "source": [
    "i_band.zeropoint"
   ]
  },
  {
   "cell_type": "code",
   "execution_count": null,
   "metadata": {},
   "outputs": [
    {
     "data": {
      "text/latex": [
       "$24 \\; \\mathrm{mag}$$\\mathrm{\\left( \\mathrm{\\frac{e^{-}}{s}} \\right)}$"
      ],
      "text/plain": [
       "<Magnitude 24. mag(electron / s)>"
      ]
     },
     "execution_count": null,
     "metadata": {},
     "output_type": "execute_result"
    }
   ],
   "source": [
    "u.mag(u.electron / u.s) * 24 "
   ]
  },
  {
   "cell_type": "code",
   "execution_count": null,
   "metadata": {},
   "outputs": [
    {
     "name": "stdout",
     "output_type": "stream",
     "text": [
      "24.0 mag(electron / s)\n"
     ]
    }
   ],
   "source": [
    "mag = 24 * u.mag(u.electron / u.s)\n",
    "print(mag)"
   ]
  },
  {
   "cell_type": "code",
   "execution_count": null,
   "metadata": {},
   "outputs": [
    {
     "data": {
      "text/latex": [
       "$24 \\; \\mathrm{\\frac{e^{-}}{s}}$"
      ],
      "text/plain": [
       "<Quantity 24. electron / s>"
      ]
     },
     "execution_count": null,
     "metadata": {},
     "output_type": "execute_result"
    }
   ],
   "source": [
    "24 * u.electron / u.s"
   ]
  },
  {
   "cell_type": "code",
   "execution_count": null,
   "metadata": {},
   "outputs": [
    {
     "data": {
      "text/latex": [
       "$-3.78 \\; \\mathrm{mag}$$\\mathrm{\\left( \\mathrm{\\frac{e^{-}}{s}} \\right)}$"
      ],
      "text/plain": [
       "<Magnitude -3.78 mag(electron / s)>"
      ]
     },
     "execution_count": null,
     "metadata": {},
     "output_type": "execute_result"
    }
   ],
   "source": [
    "24 * u.mag(u.electron / u.s)  - i_band.zeropoint"
   ]
  },
  {
   "cell_type": "code",
   "execution_count": null,
   "metadata": {},
   "outputs": [
    {
     "data": {
      "text/latex": [
       "$24.000001 \\; \\mathrm{mag}$$\\mathrm{\\left( \\mathrm{\\frac{e^{-}}{s}} \\right)}$"
      ],
      "text/plain": [
       "<Magnitude 24.00000114 mag(electron / s)>"
      ]
     },
     "execution_count": null,
     "metadata": {},
     "output_type": "execute_result"
    }
   ],
   "source": [
    "flux_s = 179448 * u.electron/ i_band.full_exposure_time\n",
    "flux_s.to(u.mag(u.electron / u.s)) + i_band.zeropoint"
   ]
  },
  {
   "cell_type": "code",
   "execution_count": null,
   "metadata": {},
   "outputs": [
    {
     "name": "stdout",
     "output_type": "stream",
     "text": [
      "tensor([179448,  71439]) tensor([24.0000, 25.0000], dtype=torch.float64)\n"
     ]
    }
   ],
   "source": [
    "import torch\n",
    "from bliss.datasets.lsst import convert_mag_to_flux, convert_flux_to_mag\n",
    "fluxes = convert_mag_to_flux(torch.tensor([24, 25]))\n",
    "mags = convert_flux_to_mag(fluxes)\n",
    "print(fluxes, mags)"
   ]
  },
  {
   "cell_type": "code",
   "execution_count": null,
   "metadata": {},
   "outputs": [],
   "source": []
  },
  {
   "cell_type": "markdown",
   "metadata": {},
   "source": [
    "## stackings dicts for easier io "
   ]
  },
  {
   "cell_type": "code",
   "execution_count": null,
   "metadata": {},
   "outputs": [],
   "source": [
    "import torch\n",
    "d1 = {'a':torch.zeros(2,2), 'b':{'c':torch.zeros((2,3)), 'd':torch.ones((3,3))}}\n",
    "d2 = {'a':torch.ones(2,2), 'b':{'c':torch.ones((2,3)), 'd':torch.zeros((3,3))}}"
   ]
  },
  {
   "cell_type": "code",
   "execution_count": null,
   "metadata": {},
   "outputs": [],
   "source": [
    "d = {} \n",
    "from case_studies.galsim_galaxies.get_datasets import _stack_tensor_dict\n",
    "d =_stack_tensor_dict(d, d1)\n",
    "d = _stack_tensor_dict(d, d2)"
   ]
  },
  {
   "cell_type": "code",
   "execution_count": null,
   "metadata": {},
   "outputs": [
    {
     "data": {
      "text/plain": [
       "(torch.Size([2, 2, 2]), torch.Size([2, 2, 3]), torch.Size([2, 3, 3]))"
      ]
     },
     "execution_count": null,
     "metadata": {},
     "output_type": "execute_result"
    }
   ],
   "source": [
    "d['a'].shape, d['b']['c'].shape, d['b']['d'].shape"
   ]
  },
  {
   "cell_type": "code",
   "execution_count": null,
   "metadata": {},
   "outputs": [
    {
     "data": {
      "text/plain": [
       "tensor([[1., 1.],\n",
       "        [1., 1.]])"
      ]
     },
     "execution_count": null,
     "metadata": {},
     "output_type": "execute_result"
    }
   ],
   "source": [
    "d['a'][1]"
   ]
  },
  {
   "cell_type": "code",
   "execution_count": null,
   "metadata": {},
   "outputs": [
    {
     "data": {
      "text/plain": [
       "tensor([[0., 0.],\n",
       "        [0., 0.]])"
      ]
     },
     "execution_count": null,
     "metadata": {},
     "output_type": "execute_result"
    }
   ],
   "source": [
    "d1['a']"
   ]
  },
  {
   "cell_type": "markdown",
   "metadata": {},
   "source": [
    "## Look at saved blends datasets\n"
   ]
  },
  {
   "cell_type": "code",
   "execution_count": null,
   "metadata": {},
   "outputs": [],
   "source": [
    "import torch\n",
    "import matplotlib.pyplot as plt"
   ]
  },
  {
   "cell_type": "code",
   "execution_count": null,
   "metadata": {},
   "outputs": [],
   "source": [
    "from pathlib import Path\n",
    "for fname in ['train_blends.pt', 'val_blends.pt', 'test_blends.pt', 'train_single_galaxies.pt', 'val_single_galaxies.pt', 'test_single_galaxies.pt']: \n",
    "    path = \"../data\" / Path(fname)\n",
    "    d = torch.load(path)\n",
    "    torch.save(d.float(), path)"
   ]
  },
  {
   "cell_type": "code",
   "execution_count": null,
   "metadata": {},
   "outputs": [],
   "source": [
    "d1 = torch.load(\"../data/test_blends.pt\")\n",
    "d2 = torch.load(\"../data/val_blends.pt\")"
   ]
  },
  {
   "cell_type": "code",
   "execution_count": null,
   "metadata": {},
   "outputs": [
    {
     "data": {
      "image/png": "[encoded data removed]",
      "text/plain": [
       "<Figure size 640x480 with 1 Axes>"
      ]
     },
     "metadata": {},
     "output_type": "display_data"
    }
   ],
   "source": [
    "snr = d1['full_params']['snr']\n",
    "snr = snr.flatten() \n",
    "snr = snr[snr > 0] \n",
    "plt.hist(snr, range=(0, 100))\n",
    "plt.yscale('log')"
   ]
  },
  {
   "cell_type": "code",
   "execution_count": null,
   "metadata": {},
   "outputs": [
    {
     "data": {
      "image/png": "[encoded data removed]",
      "text/plain": [
       "<Figure size 640x480 with 1 Axes>"
      ]
     },
     "metadata": {},
     "output_type": "display_data"
    }
   ],
   "source": [
    "bl = d1['full_params']['blendedness']\n",
    "bl = bl.flatten() \n",
    "bl = bl[bl > 0]\n",
    "plt.hist(bl)\n",
    "plt.yscale('log')"
   ]
  },
  {
   "cell_type": "code",
   "execution_count": null,
   "metadata": {},
   "outputs": [
    {
     "data": {
      "text/plain": [
       "<matplotlib.image.AxesImage at 0x7fe2bc624490>"
      ]
     },
     "execution_count": null,
     "metadata": {},
     "output_type": "execute_result"
    },
    {
     "data": {
      "image/png": "[encoded data removed]",
      "text/plain": [
       "<Figure size 640x480 with 1 Axes>"
      ]
     },
     "metadata": {},
     "output_type": "display_data"
    }
   ],
   "source": [
    "plt.imshow(d1['images'][3, 0])"
   ]
  },
  {
   "cell_type": "code",
   "execution_count": null,
   "metadata": {},
   "outputs": [
    {
     "data": {
      "text/plain": [
       "<matplotlib.image.AxesImage at 0x7fd07dc7fdc0>"
      ]
     },
     "execution_count": null,
     "metadata": {},
     "output_type": "execute_result"
    },
    {
     "data": {
      "image/png": "[encoded data removed]",
      "text/plain": [
       "<Figure size 640x480 with 1 Axes>"
      ]
     },
     "metadata": {},
     "output_type": "display_data"
    }
   ],
   "source": [
    "plt.imshow(d2['images'][13, 0])"
   ]
  },
  {
   "cell_type": "code",
   "execution_count": null,
   "metadata": {},
   "outputs": [
    {
     "data": {
      "text/plain": [
       "TensorDict(\n",
       "    fields={\n",
       "        blendedness: Tensor(shape=torch.Size([100, 8, 1]), device=cpu, dtype=torch.float32, is_shared=False),\n",
       "        ellips: Tensor(shape=torch.Size([100, 8, 2]), device=cpu, dtype=torch.float32, is_shared=False),\n",
       "        fluxes: Tensor(shape=torch.Size([100, 8, 1]), device=cpu, dtype=torch.float32, is_shared=False),\n",
       "        galaxy_bools: Tensor(shape=torch.Size([100, 8, 1]), device=cpu, dtype=torch.float32, is_shared=False),\n",
       "        galaxy_params: Tensor(shape=torch.Size([100, 8, 10]), device=cpu, dtype=torch.float32, is_shared=False),\n",
       "        mags: Tensor(shape=torch.Size([100, 8, 1]), device=cpu, dtype=torch.float32, is_shared=False),\n",
       "        n_sources: Tensor(shape=torch.Size([100]), device=cpu, dtype=torch.int64, is_shared=False),\n",
       "        plocs: Tensor(shape=torch.Size([100, 8, 2]), device=cpu, dtype=torch.float32, is_shared=False),\n",
       "        snr: Tensor(shape=torch.Size([100, 8, 1]), device=cpu, dtype=torch.float32, is_shared=False),\n",
       "        star_bools: Tensor(shape=torch.Size([100, 8, 1]), device=cpu, dtype=torch.float32, is_shared=False),\n",
       "        star_fluxes: Tensor(shape=torch.Size([100, 8, 1]), device=cpu, dtype=torch.float32, is_shared=False),\n",
       "        star_log_fluxes: Tensor(shape=torch.Size([100, 8, 1]), device=cpu, dtype=torch.float32, is_shared=False)},\n",
       "    batch_size=torch.Size([100]),\n",
       "    device=None,\n",
       "    is_shared=False)"
      ]
     },
     "execution_count": null,
     "metadata": {},
     "output_type": "execute_result"
    }
   ],
   "source": [
    "d1['full_params']"
   ]
  },
  {
   "cell_type": "code",
   "execution_count": null,
   "metadata": {},
   "outputs": [],
   "source": []
  },
  {
   "cell_type": "code",
   "execution_count": null,
   "metadata": {},
   "outputs": [
    {
     "data": {
      "text/plain": [
       "tensor([[     0.,      0.,      0.,      0.,      0.,      0., 121623.,      0.,\n",
       "              0.,      0.],\n",
       "        [     0.,      0.,      0.,      0.,      0.,      0.,      0.,      0.,\n",
       "              0.,      0.],\n",
       "        [     0.,      0.,      0.,      0.,      0.,      0.,      0.,      0.,\n",
       "              0.,      0.],\n",
       "        [     0.,      0.,      0.,      0.,      0.,      0.,      0.,      0.,\n",
       "              0.,  10920.],\n",
       "        [     0.,      0.,      0.,      0.,      0.,      0.,      0.,      0.,\n",
       "              0.,      0.],\n",
       "        [     0.,      0.,      0.,      0.,      0.,      0.,      0., 129308.,\n",
       "              0.,      0.],\n",
       "        [     0.,  39797.,      0.,      0.,      0.,      0.,      0.,      0.,\n",
       "              0.,      0.],\n",
       "        [     0.,      0.,      0.,      0.,      0.,      0.,      0.,      0.,\n",
       "          18615.,      0.],\n",
       "        [     0.,      0.,      0.,      0.,  14504.,      0.,      0.,      0.,\n",
       "              0.,      0.],\n",
       "        [     0.,      0.,      0.,      0.,      0.,      0.,      0.,      0.,\n",
       "              0.,      0.]])"
      ]
     },
     "execution_count": null,
     "metadata": {},
     "output_type": "execute_result"
    }
   ],
   "source": [
    "d1['tile_params']['fluxes'][13].squeeze()"
   ]
  },
  {
   "cell_type": "code",
   "execution_count": null,
   "metadata": {},
   "outputs": [
    {
     "data": {
      "text/plain": [
       "(torch.Size([100]), torch.Size([100, 10, 10]), torch.Size([100, 1, 88, 88]))"
      ]
     },
     "execution_count": null,
     "metadata": {},
     "output_type": "execute_result"
    }
   ],
   "source": [
    "d1['full_params']['n_sources'].shape, d1['tile_params']['n_sources'].shape, d1['images'].shape"
   ]
  },
  {
   "cell_type": "code",
   "execution_count": null,
   "metadata": {},
   "outputs": [
    {
     "data": {
      "text/plain": [
       "_StringKeys({'background': tensor([[[[183653.4400, 183653.4400, 183653.4400,  ..., 183653.4400,\n",
       "           183653.4400, 183653.4400],\n",
       "          [183653.4400, 183653.4400, 183653.4400,  ..., 183653.4400,\n",
       "           183653.4400, 183653.4400],\n",
       "          [183653.4400, 183653.4400, 183653.4400,  ..., 183653.4400,\n",
       "           183653.4400, 183653.4400],\n",
       "          ...,\n",
       "          [183653.4400, 183653.4400, 183653.4400,  ..., 183653.4400,\n",
       "           183653.4400, 183653.4400],\n",
       "          [183653.4400, 183653.4400, 183653.4400,  ..., 183653.4400,\n",
       "           183653.4400, 183653.4400],\n",
       "          [183653.4400, 183653.4400, 183653.4400,  ..., 183653.4400,\n",
       "           183653.4400, 183653.4400]]],\n",
       "\n",
       "\n",
       "        [[[183653.4400, 183653.4400, 183653.4400,  ..., 183653.4400,\n",
       "           183653.4400, 183653.4400],\n",
       "          [183653.4400, 183653.4400, 183653.4400,  ..., 183653.4400,\n",
       "           183653.4400, 183653.4400],\n",
       "          [183653.4400, 183653.4400, 183653.4400,  ..., 183653.4400,\n",
       "           183653.4400, 183653.4400],\n",
       "          ...,\n",
       "          [183653.4400, 183653.4400, 183653.4400,  ..., 183653.4400,\n",
       "           183653.4400, 183653.4400],\n",
       "          [183653.4400, 183653.4400, 183653.4400,  ..., 183653.4400,\n",
       "           183653.4400, 183653.4400],\n",
       "          [183653.4400, 183653.4400, 183653.4400,  ..., 183653.4400,\n",
       "           183653.4400, 183653.4400]]],\n",
       "\n",
       "\n",
       "        [[[183653.4400, 183653.4400, 183653.4400,  ..., 183653.4400,\n",
       "           183653.4400, 183653.4400],\n",
       "          [183653.4400, 183653.4400, 183653.4400,  ..., 183653.4400,\n",
       "           183653.4400, 183653.4400],\n",
       "          [183653.4400, 183653.4400, 183653.4400,  ..., 183653.4400,\n",
       "           183653.4400, 183653.4400],\n",
       "          ...,\n",
       "          [183653.4400, 183653.4400, 183653.4400,  ..., 183653.4400,\n",
       "           183653.4400, 183653.4400],\n",
       "          [183653.4400, 183653.4400, 183653.4400,  ..., 183653.4400,\n",
       "           183653.4400, 183653.4400],\n",
       "          [183653.4400, 183653.4400, 183653.4400,  ..., 183653.4400,\n",
       "           183653.4400, 183653.4400]]],\n",
       "\n",
       "\n",
       "        ...,\n",
       "\n",
       "\n",
       "        [[[183653.4400, 183653.4400, 183653.4400,  ..., 183653.4400,\n",
       "           183653.4400, 183653.4400],\n",
       "          [183653.4400, 183653.4400, 183653.4400,  ..., 183653.4400,\n",
       "           183653.4400, 183653.4400],\n",
       "          [183653.4400, 183653.4400, 183653.4400,  ..., 183653.4400,\n",
       "           183653.4400, 183653.4400],\n",
       "          ...,\n",
       "          [183653.4400, 183653.4400, 183653.4400,  ..., 183653.4400,\n",
       "           183653.4400, 183653.4400],\n",
       "          [183653.4400, 183653.4400, 183653.4400,  ..., 183653.4400,\n",
       "           183653.4400, 183653.4400],\n",
       "          [183653.4400, 183653.4400, 183653.4400,  ..., 183653.4400,\n",
       "           183653.4400, 183653.4400]]],\n",
       "\n",
       "\n",
       "        [[[183653.4400, 183653.4400, 183653.4400,  ..., 183653.4400,\n",
       "           183653.4400, 183653.4400],\n",
       "          [183653.4400, 183653.4400, 183653.4400,  ..., 183653.4400,\n",
       "           183653.4400, 183653.4400],\n",
       "          [183653.4400, 183653.4400, 183653.4400,  ..., 183653.4400,\n",
       "           183653.4400, 183653.4400],\n",
       "          ...,\n",
       "          [183653.4400, 183653.4400, 183653.4400,  ..., 183653.4400,\n",
       "           183653.4400, 183653.4400],\n",
       "          [183653.4400, 183653.4400, 183653.4400,  ..., 183653.4400,\n",
       "           183653.4400, 183653.4400],\n",
       "          [183653.4400, 183653.4400, 183653.4400,  ..., 183653.4400,\n",
       "           183653.4400, 183653.4400]]],\n",
       "\n",
       "\n",
       "        [[[183653.4400, 183653.4400, 183653.4400,  ..., 183653.4400,\n",
       "           183653.4400, 183653.4400],\n",
       "          [183653.4400, 183653.4400, 183653.4400,  ..., 183653.4400,\n",
       "           183653.4400, 183653.4400],\n",
       "          [183653.4400, 183653.4400, 183653.4400,  ..., 183653.4400,\n",
       "           183653.4400, 183653.4400],\n",
       "          ...,\n",
       "          [183653.4400, 183653.4400, 183653.4400,  ..., 183653.4400,\n",
       "           183653.4400, 183653.4400],\n",
       "          [183653.4400, 183653.4400, 183653.4400,  ..., 183653.4400,\n",
       "           183653.4400, 183653.4400],\n",
       "          [183653.4400, 183653.4400, 183653.4400,  ..., 183653.4400,\n",
       "           183653.4400, 183653.4400]]]], dtype=torch.float64), 'full_params': TensorDict(\n",
       "    fields={\n",
       "        blendedness: Tensor(shape=torch.Size([100, 8, 1]), device=cpu, dtype=torch.float32, is_shared=False),\n",
       "        ellips: Tensor(shape=torch.Size([100, 8, 2]), device=cpu, dtype=torch.float32, is_shared=False),\n",
       "        fluxes: Tensor(shape=torch.Size([100, 8, 1]), device=cpu, dtype=torch.float32, is_shared=False),\n",
       "        galaxy_bools: Tensor(shape=torch.Size([100, 8, 1]), device=cpu, dtype=torch.float32, is_shared=False),\n",
       "        galaxy_params: Tensor(shape=torch.Size([100, 8, 10]), device=cpu, dtype=torch.float32, is_shared=False),\n",
       "        mags: Tensor(shape=torch.Size([100, 8, 1]), device=cpu, dtype=torch.float32, is_shared=False),\n",
       "        n_sources: Tensor(shape=torch.Size([100]), device=cpu, dtype=torch.int64, is_shared=False),\n",
       "        plocs: Tensor(shape=torch.Size([100, 8, 2]), device=cpu, dtype=torch.float32, is_shared=False),\n",
       "        snr: Tensor(shape=torch.Size([100, 8, 1]), device=cpu, dtype=torch.float32, is_shared=False),\n",
       "        star_bools: Tensor(shape=torch.Size([100, 8, 1]), device=cpu, dtype=torch.float32, is_shared=False),\n",
       "        star_fluxes: Tensor(shape=torch.Size([100, 8, 1]), device=cpu, dtype=torch.float32, is_shared=False),\n",
       "        star_log_fluxes: Tensor(shape=torch.Size([100, 8, 1]), device=cpu, dtype=torch.float32, is_shared=False)},\n",
       "    batch_size=torch.Size([100]),\n",
       "    device=None,\n",
       "    is_shared=False), 'images': tensor([[[[184052.5714, 183232.7862, 183743.5406,  ..., 183923.1244,\n",
       "           184037.9823, 184031.1081],\n",
       "          [183060.0893, 183242.0000, 184069.3944,  ..., 184040.7781,\n",
       "           183496.6715, 183580.7427],\n",
       "          [184227.6006, 183854.3990, 182987.9457,  ..., 183818.8170,\n",
       "           183597.6420, 183963.3971],\n",
       "          ...,\n",
       "          [183993.8533, 184113.5580, 183626.5310,  ..., 183454.4614,\n",
       "           184385.7605, 184062.2390],\n",
       "          [183293.1619, 183881.6402, 184030.1353,  ..., 183571.3027,\n",
       "           183605.5391, 183855.4926],\n",
       "          [183603.4993, 183765.3904, 183392.0301,  ..., 183156.1302,\n",
       "           182613.3849, 183453.4342]]],\n",
       "\n",
       "\n",
       "        [[[183842.9157, 183640.3168, 183180.5321,  ..., 183801.1053,\n",
       "           183835.4991, 183778.4705],\n",
       "          [183754.0377, 183321.3309, 183968.1561,  ..., 182793.3733,\n",
       "           183356.4057, 183250.4694],\n",
       "          [183948.4813, 184151.7462, 183585.0289,  ..., 184203.9368,\n",
       "           183214.7565, 183569.8572],\n",
       "          ...,\n",
       "          [183421.2382, 183451.4120, 183353.2856,  ..., 183783.0192,\n",
       "           183950.8972, 184210.9728],\n",
       "          [183670.9522, 183497.9849, 183861.9085,  ..., 183275.9444,\n",
       "           183959.6292, 184094.7759],\n",
       "          [183588.0600, 183521.6478, 184295.5159,  ..., 184236.5907,\n",
       "           183882.7814, 183440.8463]]],\n",
       "\n",
       "\n",
       "        [[[183621.7550, 183677.0474, 184442.9681,  ..., 183491.4987,\n",
       "           183902.2349, 183869.3239],\n",
       "          [184161.5329, 184353.8346, 184285.7641,  ..., 183832.5277,\n",
       "           183637.2890, 182549.5982],\n",
       "          [183568.1524, 183331.0607, 183242.8301,  ..., 183698.9486,\n",
       "           183627.6038, 184002.3226],\n",
       "          ...,\n",
       "          [183214.2918, 182671.0127, 183061.7998,  ..., 183315.9356,\n",
       "           183063.2788, 184633.5045],\n",
       "          [183145.6500, 183384.7577, 183574.5151,  ..., 183413.8568,\n",
       "           184135.0229, 183998.1602],\n",
       "          [183234.7713, 183564.6601, 183263.0599,  ..., 184530.2388,\n",
       "           183550.6019, 183400.1078]]],\n",
       "\n",
       "\n",
       "        ...,\n",
       "\n",
       "\n",
       "        [[[184198.7767, 183862.0345, 184312.2543,  ..., 183909.2931,\n",
       "           183658.1933, 183582.3025],\n",
       "          [183097.4083, 183593.9241, 183909.5145,  ..., 183678.0591,\n",
       "           183578.6066, 183778.5135],\n",
       "          [184245.3841, 183267.4125, 183929.3903,  ..., 184155.8073,\n",
       "           183400.5780, 184080.7646],\n",
       "          ...,\n",
       "          [183486.3531, 184194.2393, 184511.2613,  ..., 183632.3494,\n",
       "           184446.0880, 183602.4323],\n",
       "          [182642.9895, 183351.6647, 182996.3270,  ..., 184178.5987,\n",
       "           183862.1081, 184861.0051],\n",
       "          [183662.6887, 183514.5333, 183857.5149,  ..., 183157.0270,\n",
       "           183992.9987, 182989.9924]]],\n",
       "\n",
       "\n",
       "        [[[183535.7369, 183954.1834, 183889.9283,  ..., 183863.4972,\n",
       "           183508.3668, 184136.7273],\n",
       "          [183722.9060, 183274.1765, 183159.6980,  ..., 183313.6107,\n",
       "           183776.0477, 183000.5100],\n",
       "          [183736.1466, 183837.8041, 183460.9735,  ..., 183397.2344,\n",
       "           183198.3414, 183783.1567],\n",
       "          ...,\n",
       "          [183947.1899, 183418.2152, 183579.4970,  ..., 183694.0277,\n",
       "           183235.1986, 184833.6852],\n",
       "          [183887.9521, 183646.7550, 183103.5613,  ..., 183620.6499,\n",
       "           183588.6381, 183572.7957],\n",
       "          [183806.8658, 184075.6848, 183533.2818,  ..., 183836.2022,\n",
       "           182996.9822, 183638.4992]]],\n",
       "\n",
       "\n",
       "        [[[183796.7572, 183551.9438, 183238.8454,  ..., 183878.9766,\n",
       "           184026.2006, 183474.4461],\n",
       "          [183328.0440, 183567.4838, 184108.9435,  ..., 183377.9516,\n",
       "           184995.1707, 183258.6432],\n",
       "          [183894.4981, 184203.7151, 183383.1767,  ..., 183496.0456,\n",
       "           183803.9483, 183483.7397],\n",
       "          ...,\n",
       "          [182891.5014, 183754.7815, 183957.9862,  ..., 184722.8955,\n",
       "           183751.3671, 183983.9404],\n",
       "          [183546.9312, 183275.4063, 183753.9175,  ..., 183950.8997,\n",
       "           184052.5488, 183813.9061],\n",
       "          [184151.8554, 184011.5034, 183889.9263,  ..., 183210.1241,\n",
       "           183175.6430, 183625.4788]]]], dtype=torch.float64), 'tile_params': TensorDict(\n",
       "    fields={\n",
       "        blendedness: Tensor(shape=torch.Size([100, 10, 10, 1, 1]), device=cpu, dtype=torch.float32, is_shared=False),\n",
       "        ellips: Tensor(shape=torch.Size([100, 10, 10, 1, 2]), device=cpu, dtype=torch.float32, is_shared=False),\n",
       "        fluxes: Tensor(shape=torch.Size([100, 10, 10, 1, 1]), device=cpu, dtype=torch.float32, is_shared=False),\n",
       "        galaxy_bools: Tensor(shape=torch.Size([100, 10, 10, 1, 1]), device=cpu, dtype=torch.float32, is_shared=False),\n",
       "        galaxy_params: Tensor(shape=torch.Size([100, 10, 10, 1, 10]), device=cpu, dtype=torch.float32, is_shared=False),\n",
       "        locs: Tensor(shape=torch.Size([100, 10, 10, 1, 2]), device=cpu, dtype=torch.float32, is_shared=False),\n",
       "        mags: Tensor(shape=torch.Size([100, 10, 10, 1, 1]), device=cpu, dtype=torch.float32, is_shared=False),\n",
       "        n_sources: Tensor(shape=torch.Size([100, 10, 10]), device=cpu, dtype=torch.int64, is_shared=False),\n",
       "        snr: Tensor(shape=torch.Size([100, 10, 10, 1, 1]), device=cpu, dtype=torch.float32, is_shared=False),\n",
       "        star_bools: Tensor(shape=torch.Size([100, 10, 10, 1, 1]), device=cpu, dtype=torch.float32, is_shared=False),\n",
       "        star_fluxes: Tensor(shape=torch.Size([100, 10, 10, 1, 1]), device=cpu, dtype=torch.float32, is_shared=False),\n",
       "        star_log_fluxes: Tensor(shape=torch.Size([100, 10, 10, 1, 1]), device=cpu, dtype=torch.float32, is_shared=False)},\n",
       "    batch_size=torch.Size([100]),\n",
       "    device=None,\n",
       "    is_shared=False)})"
      ]
     },
     "execution_count": null,
     "metadata": {},
     "output_type": "execute_result"
    }
   ],
   "source": [
    "d1.keys()"
   ]
  },
  {
   "cell_type": "code",
   "execution_count": null,
   "metadata": {},
   "outputs": [
    {
     "ename": "AttributeError",
     "evalue": "'_StringKeys' object has no attribute 'names'",
     "output_type": "error",
     "traceback": [
      "\u001b[0;31m---------------------------------------------------------------------------\u001b[0m",
      "\u001b[0;31mAttributeError\u001b[0m                            Traceback (most recent call last)",
      "Cell \u001b[0;32mIn[22], line 2\u001b[0m\n\u001b[1;32m      1\u001b[0m ks \u001b[38;5;241m=\u001b[39m d1\u001b[38;5;241m.\u001b[39mkeys()\n\u001b[0;32m----> 2\u001b[0m \u001b[43mks\u001b[49m\u001b[38;5;241;43m.\u001b[39;49m\u001b[43mnames\u001b[49m\n",
      "\u001b[0;31mAttributeError\u001b[0m: '_StringKeys' object has no attribute 'names'"
     ]
    }
   ],
   "source": [
    "ks = d1.keys()\n"
   ]
  },
  {
   "cell_type": "markdown",
   "metadata": {},
   "source": [
    "## Datasets and datamodules"
   ]
  },
  {
   "cell_type": "code",
   "execution_count": null,
   "metadata": {},
   "outputs": [],
   "source": [
    "import torch\n",
    "from bliss.datasets.single_galaxies import SavedSingleGalsimGalaxies\n",
    "from bliss.datasets.saved import SavedDataModule\n",
    "\n",
    "s1 = SavedSingleGalsimGalaxies(\"../data/train_single_galaxies.pt\", 10000)\n",
    "s2 = SavedSingleGalsimGalaxies(\"../data/val_single_galaxies.pt\", 10000)\n",
    "\n",
    "dm = SavedDataModule(s1, s2, batch_size=64)\n",
    "dl = dm.train_dataloader()"
   ]
  },
  {
   "cell_type": "code",
   "execution_count": null,
   "metadata": {},
   "outputs": [],
   "source": [
    "# for ii,b in enumerate(dl):\n",
    "#     print(b['images'].shape, b['background'].shape)\n",
    "#     print(ii)"
   ]
  },
  {
   "cell_type": "code",
   "execution_count": null,
   "metadata": {},
   "outputs": [],
   "source": [
    "# plt.imshow(b['images'][4,0])"
   ]
  },
  {
   "cell_type": "code",
   "execution_count": null,
   "metadata": {},
   "outputs": [],
   "source": [
    "import torch\n",
    "from bliss.datasets.blends import SavedGalsimBlends\n",
    "from bliss.datasets.saved import SavedDataModule\n",
    "\n",
    "s1 = SavedGalsimBlends(\"../data/train_blends.pt\", 10000)\n",
    "s2 = SavedGalsimBlends(\"../data/val_blends.pt\", 10000)\n",
    "\n",
    "dm = SavedDataModule(s1, s2, batch_size=64)\n",
    "dl = dm.train_dataloader()"
   ]
  },
  {
   "cell_type": "code",
   "execution_count": null,
   "metadata": {},
   "outputs": [
    {
     "name": "stdout",
     "output_type": "stream",
     "text": [
      "torch.Size([64, 1, 88, 88]) torch.Size([64, 1, 88, 88]) torch.Size([64, 10, 10]) torch.Size([64, 10, 10, 1, 2])\n",
      "0\n",
      "torch.Size([64, 1, 88, 88]) torch.Size([64, 1, 88, 88]) torch.Size([64, 10, 10]) torch.Size([64, 10, 10, 1, 2])\n",
      "1\n",
      "torch.Size([64, 1, 88, 88]) torch.Size([64, 1, 88, 88]) torch.Size([64, 10, 10]) torch.Size([64, 10, 10, 1, 2])\n",
      "2\n",
      "torch.Size([64, 1, 88, 88]) torch.Size([64, 1, 88, 88]) torch.Size([64, 10, 10]) torch.Size([64, 10, 10, 1, 2])\n",
      "3\n",
      "torch.Size([64, 1, 88, 88]) torch.Size([64, 1, 88, 88]) torch.Size([64, 10, 10]) torch.Size([64, 10, 10, 1, 2])\n",
      "4\n",
      "torch.Size([64, 1, 88, 88]) torch.Size([64, 1, 88, 88]) torch.Size([64, 10, 10]) torch.Size([64, 10, 10, 1, 2])\n",
      "5\n",
      "torch.Size([64, 1, 88, 88]) torch.Size([64, 1, 88, 88]) torch.Size([64, 10, 10]) torch.Size([64, 10, 10, 1, 2])\n",
      "6\n",
      "torch.Size([64, 1, 88, 88]) torch.Size([64, 1, 88, 88]) torch.Size([64, 10, 10]) torch.Size([64, 10, 10, 1, 2])\n",
      "7\n",
      "torch.Size([64, 1, 88, 88]) torch.Size([64, 1, 88, 88]) torch.Size([64, 10, 10]) torch.Size([64, 10, 10, 1, 2])\n",
      "8\n",
      "torch.Size([64, 1, 88, 88]) torch.Size([64, 1, 88, 88]) torch.Size([64, 10, 10]) torch.Size([64, 10, 10, 1, 2])\n",
      "9\n",
      "torch.Size([64, 1, 88, 88]) torch.Size([64, 1, 88, 88]) torch.Size([64, 10, 10]) torch.Size([64, 10, 10, 1, 2])\n",
      "10\n",
      "torch.Size([64, 1, 88, 88]) torch.Size([64, 1, 88, 88]) torch.Size([64, 10, 10]) torch.Size([64, 10, 10, 1, 2])\n",
      "11\n",
      "torch.Size([64, 1, 88, 88]) torch.Size([64, 1, 88, 88]) torch.Size([64, 10, 10]) torch.Size([64, 10, 10, 1, 2])\n",
      "12\n",
      "torch.Size([64, 1, 88, 88]) torch.Size([64, 1, 88, 88]) torch.Size([64, 10, 10]) torch.Size([64, 10, 10, 1, 2])\n",
      "13\n",
      "torch.Size([64, 1, 88, 88]) torch.Size([64, 1, 88, 88]) torch.Size([64, 10, 10]) torch.Size([64, 10, 10, 1, 2])\n",
      "14\n",
      "torch.Size([64, 1, 88, 88]) torch.Size([64, 1, 88, 88]) torch.Size([64, 10, 10]) torch.Size([64, 10, 10, 1, 2])\n",
      "15\n",
      "torch.Size([64, 1, 88, 88]) torch.Size([64, 1, 88, 88]) torch.Size([64, 10, 10]) torch.Size([64, 10, 10, 1, 2])\n",
      "16\n",
      "torch.Size([64, 1, 88, 88]) torch.Size([64, 1, 88, 88]) torch.Size([64, 10, 10]) torch.Size([64, 10, 10, 1, 2])\n",
      "17\n",
      "torch.Size([64, 1, 88, 88]) torch.Size([64, 1, 88, 88]) torch.Size([64, 10, 10]) torch.Size([64, 10, 10, 1, 2])\n",
      "18\n",
      "torch.Size([64, 1, 88, 88]) torch.Size([64, 1, 88, 88]) torch.Size([64, 10, 10]) torch.Size([64, 10, 10, 1, 2])\n",
      "19\n",
      "torch.Size([64, 1, 88, 88]) torch.Size([64, 1, 88, 88]) torch.Size([64, 10, 10]) torch.Size([64, 10, 10, 1, 2])\n",
      "20\n",
      "torch.Size([64, 1, 88, 88]) torch.Size([64, 1, 88, 88]) torch.Size([64, 10, 10]) torch.Size([64, 10, 10, 1, 2])\n",
      "21\n",
      "torch.Size([64, 1, 88, 88]) torch.Size([64, 1, 88, 88]) torch.Size([64, 10, 10]) torch.Size([64, 10, 10, 1, 2])\n",
      "22\n",
      "torch.Size([64, 1, 88, 88]) torch.Size([64, 1, 88, 88]) torch.Size([64, 10, 10]) torch.Size([64, 10, 10, 1, 2])\n",
      "23\n",
      "torch.Size([64, 1, 88, 88]) torch.Size([64, 1, 88, 88]) torch.Size([64, 10, 10]) torch.Size([64, 10, 10, 1, 2])\n",
      "24\n",
      "torch.Size([64, 1, 88, 88]) torch.Size([64, 1, 88, 88]) torch.Size([64, 10, 10]) torch.Size([64, 10, 10, 1, 2])\n",
      "25\n",
      "torch.Size([64, 1, 88, 88]) torch.Size([64, 1, 88, 88]) torch.Size([64, 10, 10]) torch.Size([64, 10, 10, 1, 2])\n",
      "26\n",
      "torch.Size([64, 1, 88, 88]) torch.Size([64, 1, 88, 88]) torch.Size([64, 10, 10]) torch.Size([64, 10, 10, 1, 2])\n",
      "27\n",
      "torch.Size([64, 1, 88, 88]) torch.Size([64, 1, 88, 88]) torch.Size([64, 10, 10]) torch.Size([64, 10, 10, 1, 2])\n",
      "28\n",
      "torch.Size([64, 1, 88, 88]) torch.Size([64, 1, 88, 88]) torch.Size([64, 10, 10]) torch.Size([64, 10, 10, 1, 2])\n",
      "29\n",
      "torch.Size([64, 1, 88, 88]) torch.Size([64, 1, 88, 88]) torch.Size([64, 10, 10]) torch.Size([64, 10, 10, 1, 2])\n",
      "30\n",
      "torch.Size([64, 1, 88, 88]) torch.Size([64, 1, 88, 88]) torch.Size([64, 10, 10]) torch.Size([64, 10, 10, 1, 2])\n",
      "31\n",
      "torch.Size([64, 1, 88, 88]) torch.Size([64, 1, 88, 88]) torch.Size([64, 10, 10]) torch.Size([64, 10, 10, 1, 2])\n",
      "32\n",
      "torch.Size([64, 1, 88, 88]) torch.Size([64, 1, 88, 88]) torch.Size([64, 10, 10]) torch.Size([64, 10, 10, 1, 2])\n",
      "33\n",
      "torch.Size([64, 1, 88, 88]) torch.Size([64, 1, 88, 88]) torch.Size([64, 10, 10]) torch.Size([64, 10, 10, 1, 2])\n",
      "34\n",
      "torch.Size([64, 1, 88, 88]) torch.Size([64, 1, 88, 88]) torch.Size([64, 10, 10]) torch.Size([64, 10, 10, 1, 2])\n",
      "35\n",
      "torch.Size([64, 1, 88, 88]) torch.Size([64, 1, 88, 88]) torch.Size([64, 10, 10]) torch.Size([64, 10, 10, 1, 2])\n",
      "36\n",
      "torch.Size([64, 1, 88, 88]) torch.Size([64, 1, 88, 88]) torch.Size([64, 10, 10]) torch.Size([64, 10, 10, 1, 2])\n",
      "37\n",
      "torch.Size([64, 1, 88, 88]) torch.Size([64, 1, 88, 88]) torch.Size([64, 10, 10]) torch.Size([64, 10, 10, 1, 2])\n",
      "38\n",
      "torch.Size([64, 1, 88, 88]) torch.Size([64, 1, 88, 88]) torch.Size([64, 10, 10]) torch.Size([64, 10, 10, 1, 2])\n",
      "39\n",
      "torch.Size([64, 1, 88, 88]) torch.Size([64, 1, 88, 88]) torch.Size([64, 10, 10]) torch.Size([64, 10, 10, 1, 2])\n",
      "40\n",
      "torch.Size([64, 1, 88, 88]) torch.Size([64, 1, 88, 88]) torch.Size([64, 10, 10]) torch.Size([64, 10, 10, 1, 2])\n",
      "41\n",
      "torch.Size([64, 1, 88, 88]) torch.Size([64, 1, 88, 88]) torch.Size([64, 10, 10]) torch.Size([64, 10, 10, 1, 2])\n",
      "42\n",
      "torch.Size([64, 1, 88, 88]) torch.Size([64, 1, 88, 88]) torch.Size([64, 10, 10]) torch.Size([64, 10, 10, 1, 2])\n",
      "43\n",
      "torch.Size([64, 1, 88, 88]) torch.Size([64, 1, 88, 88]) torch.Size([64, 10, 10]) torch.Size([64, 10, 10, 1, 2])\n",
      "44\n",
      "torch.Size([64, 1, 88, 88]) torch.Size([64, 1, 88, 88]) torch.Size([64, 10, 10]) torch.Size([64, 10, 10, 1, 2])\n",
      "45\n",
      "torch.Size([64, 1, 88, 88]) torch.Size([64, 1, 88, 88]) torch.Size([64, 10, 10]) torch.Size([64, 10, 10, 1, 2])\n",
      "46\n",
      "torch.Size([64, 1, 88, 88]) torch.Size([64, 1, 88, 88]) torch.Size([64, 10, 10]) torch.Size([64, 10, 10, 1, 2])\n",
      "47\n",
      "torch.Size([64, 1, 88, 88]) torch.Size([64, 1, 88, 88]) torch.Size([64, 10, 10]) torch.Size([64, 10, 10, 1, 2])\n",
      "48\n",
      "torch.Size([64, 1, 88, 88]) torch.Size([64, 1, 88, 88]) torch.Size([64, 10, 10]) torch.Size([64, 10, 10, 1, 2])\n",
      "49\n",
      "torch.Size([64, 1, 88, 88]) torch.Size([64, 1, 88, 88]) torch.Size([64, 10, 10]) torch.Size([64, 10, 10, 1, 2])\n",
      "50\n",
      "torch.Size([64, 1, 88, 88]) torch.Size([64, 1, 88, 88]) torch.Size([64, 10, 10]) torch.Size([64, 10, 10, 1, 2])\n",
      "51\n",
      "torch.Size([64, 1, 88, 88]) torch.Size([64, 1, 88, 88]) torch.Size([64, 10, 10]) torch.Size([64, 10, 10, 1, 2])\n",
      "52\n",
      "torch.Size([64, 1, 88, 88]) torch.Size([64, 1, 88, 88]) torch.Size([64, 10, 10]) torch.Size([64, 10, 10, 1, 2])\n",
      "53\n",
      "torch.Size([64, 1, 88, 88]) torch.Size([64, 1, 88, 88]) torch.Size([64, 10, 10]) torch.Size([64, 10, 10, 1, 2])\n",
      "54\n",
      "torch.Size([64, 1, 88, 88]) torch.Size([64, 1, 88, 88]) torch.Size([64, 10, 10]) torch.Size([64, 10, 10, 1, 2])\n",
      "55\n",
      "torch.Size([64, 1, 88, 88]) torch.Size([64, 1, 88, 88]) torch.Size([64, 10, 10]) torch.Size([64, 10, 10, 1, 2])\n",
      "56\n",
      "torch.Size([64, 1, 88, 88]) torch.Size([64, 1, 88, 88]) torch.Size([64, 10, 10]) torch.Size([64, 10, 10, 1, 2])\n",
      "57\n",
      "torch.Size([64, 1, 88, 88]) torch.Size([64, 1, 88, 88]) torch.Size([64, 10, 10]) torch.Size([64, 10, 10, 1, 2])\n",
      "58\n",
      "torch.Size([64, 1, 88, 88]) torch.Size([64, 1, 88, 88]) torch.Size([64, 10, 10]) torch.Size([64, 10, 10, 1, 2])\n",
      "59\n",
      "torch.Size([64, 1, 88, 88]) torch.Size([64, 1, 88, 88]) torch.Size([64, 10, 10]) torch.Size([64, 10, 10, 1, 2])\n",
      "60\n",
      "torch.Size([64, 1, 88, 88]) torch.Size([64, 1, 88, 88]) torch.Size([64, 10, 10]) torch.Size([64, 10, 10, 1, 2])\n",
      "61\n",
      "torch.Size([64, 1, 88, 88]) torch.Size([64, 1, 88, 88]) torch.Size([64, 10, 10]) torch.Size([64, 10, 10, 1, 2])\n",
      "62\n",
      "torch.Size([64, 1, 88, 88]) torch.Size([64, 1, 88, 88]) torch.Size([64, 10, 10]) torch.Size([64, 10, 10, 1, 2])\n",
      "63\n",
      "torch.Size([64, 1, 88, 88]) torch.Size([64, 1, 88, 88]) torch.Size([64, 10, 10]) torch.Size([64, 10, 10, 1, 2])\n",
      "64\n",
      "torch.Size([64, 1, 88, 88]) torch.Size([64, 1, 88, 88]) torch.Size([64, 10, 10]) torch.Size([64, 10, 10, 1, 2])\n",
      "65\n",
      "torch.Size([64, 1, 88, 88]) torch.Size([64, 1, 88, 88]) torch.Size([64, 10, 10]) torch.Size([64, 10, 10, 1, 2])\n",
      "66\n",
      "torch.Size([64, 1, 88, 88]) torch.Size([64, 1, 88, 88]) torch.Size([64, 10, 10]) torch.Size([64, 10, 10, 1, 2])\n",
      "67\n",
      "torch.Size([64, 1, 88, 88]) torch.Size([64, 1, 88, 88]) torch.Size([64, 10, 10]) torch.Size([64, 10, 10, 1, 2])\n",
      "68\n",
      "torch.Size([64, 1, 88, 88]) torch.Size([64, 1, 88, 88]) torch.Size([64, 10, 10]) torch.Size([64, 10, 10, 1, 2])\n",
      "69\n",
      "torch.Size([64, 1, 88, 88]) torch.Size([64, 1, 88, 88]) torch.Size([64, 10, 10]) torch.Size([64, 10, 10, 1, 2])\n",
      "70\n",
      "torch.Size([64, 1, 88, 88]) torch.Size([64, 1, 88, 88]) torch.Size([64, 10, 10]) torch.Size([64, 10, 10, 1, 2])\n",
      "71\n",
      "torch.Size([64, 1, 88, 88]) torch.Size([64, 1, 88, 88]) torch.Size([64, 10, 10]) torch.Size([64, 10, 10, 1, 2])\n",
      "72\n",
      "torch.Size([64, 1, 88, 88]) torch.Size([64, 1, 88, 88]) torch.Size([64, 10, 10]) torch.Size([64, 10, 10, 1, 2])\n",
      "73\n",
      "torch.Size([64, 1, 88, 88]) torch.Size([64, 1, 88, 88]) torch.Size([64, 10, 10]) torch.Size([64, 10, 10, 1, 2])\n",
      "74\n",
      "torch.Size([64, 1, 88, 88]) torch.Size([64, 1, 88, 88]) torch.Size([64, 10, 10]) torch.Size([64, 10, 10, 1, 2])\n",
      "75\n",
      "torch.Size([64, 1, 88, 88]) torch.Size([64, 1, 88, 88]) torch.Size([64, 10, 10]) torch.Size([64, 10, 10, 1, 2])\n",
      "76\n",
      "torch.Size([64, 1, 88, 88]) torch.Size([64, 1, 88, 88]) torch.Size([64, 10, 10]) torch.Size([64, 10, 10, 1, 2])\n",
      "77\n",
      "torch.Size([64, 1, 88, 88]) torch.Size([64, 1, 88, 88]) torch.Size([64, 10, 10]) torch.Size([64, 10, 10, 1, 2])\n",
      "78\n",
      "torch.Size([64, 1, 88, 88]) torch.Size([64, 1, 88, 88]) torch.Size([64, 10, 10]) torch.Size([64, 10, 10, 1, 2])\n",
      "79\n",
      "torch.Size([64, 1, 88, 88]) torch.Size([64, 1, 88, 88]) torch.Size([64, 10, 10]) torch.Size([64, 10, 10, 1, 2])\n",
      "80\n",
      "torch.Size([64, 1, 88, 88]) torch.Size([64, 1, 88, 88]) torch.Size([64, 10, 10]) torch.Size([64, 10, 10, 1, 2])\n",
      "81\n",
      "torch.Size([64, 1, 88, 88]) torch.Size([64, 1, 88, 88]) torch.Size([64, 10, 10]) torch.Size([64, 10, 10, 1, 2])\n",
      "82\n",
      "torch.Size([64, 1, 88, 88]) torch.Size([64, 1, 88, 88]) torch.Size([64, 10, 10]) torch.Size([64, 10, 10, 1, 2])\n",
      "83\n",
      "torch.Size([64, 1, 88, 88]) torch.Size([64, 1, 88, 88]) torch.Size([64, 10, 10]) torch.Size([64, 10, 10, 1, 2])\n",
      "84\n",
      "torch.Size([64, 1, 88, 88]) torch.Size([64, 1, 88, 88]) torch.Size([64, 10, 10]) torch.Size([64, 10, 10, 1, 2])\n",
      "85\n",
      "torch.Size([64, 1, 88, 88]) torch.Size([64, 1, 88, 88]) torch.Size([64, 10, 10]) torch.Size([64, 10, 10, 1, 2])\n",
      "86\n",
      "torch.Size([64, 1, 88, 88]) torch.Size([64, 1, 88, 88]) torch.Size([64, 10, 10]) torch.Size([64, 10, 10, 1, 2])\n",
      "87\n",
      "torch.Size([64, 1, 88, 88]) torch.Size([64, 1, 88, 88]) torch.Size([64, 10, 10]) torch.Size([64, 10, 10, 1, 2])\n",
      "88\n",
      "torch.Size([64, 1, 88, 88]) torch.Size([64, 1, 88, 88]) torch.Size([64, 10, 10]) torch.Size([64, 10, 10, 1, 2])\n",
      "89\n",
      "torch.Size([64, 1, 88, 88]) torch.Size([64, 1, 88, 88]) torch.Size([64, 10, 10]) torch.Size([64, 10, 10, 1, 2])\n",
      "90\n",
      "torch.Size([64, 1, 88, 88]) torch.Size([64, 1, 88, 88]) torch.Size([64, 10, 10]) torch.Size([64, 10, 10, 1, 2])\n",
      "91\n",
      "torch.Size([64, 1, 88, 88]) torch.Size([64, 1, 88, 88]) torch.Size([64, 10, 10]) torch.Size([64, 10, 10, 1, 2])\n",
      "92\n",
      "torch.Size([64, 1, 88, 88]) torch.Size([64, 1, 88, 88]) torch.Size([64, 10, 10]) torch.Size([64, 10, 10, 1, 2])\n",
      "93\n",
      "torch.Size([64, 1, 88, 88]) torch.Size([64, 1, 88, 88]) torch.Size([64, 10, 10]) torch.Size([64, 10, 10, 1, 2])\n",
      "94\n",
      "torch.Size([64, 1, 88, 88]) torch.Size([64, 1, 88, 88]) torch.Size([64, 10, 10]) torch.Size([64, 10, 10, 1, 2])\n",
      "95\n",
      "torch.Size([64, 1, 88, 88]) torch.Size([64, 1, 88, 88]) torch.Size([64, 10, 10]) torch.Size([64, 10, 10, 1, 2])\n",
      "96\n",
      "torch.Size([64, 1, 88, 88]) torch.Size([64, 1, 88, 88]) torch.Size([64, 10, 10]) torch.Size([64, 10, 10, 1, 2])\n",
      "97\n",
      "torch.Size([64, 1, 88, 88]) torch.Size([64, 1, 88, 88]) torch.Size([64, 10, 10]) torch.Size([64, 10, 10, 1, 2])\n",
      "98\n",
      "torch.Size([64, 1, 88, 88]) torch.Size([64, 1, 88, 88]) torch.Size([64, 10, 10]) torch.Size([64, 10, 10, 1, 2])\n",
      "99\n",
      "torch.Size([64, 1, 88, 88]) torch.Size([64, 1, 88, 88]) torch.Size([64, 10, 10]) torch.Size([64, 10, 10, 1, 2])\n",
      "100\n",
      "torch.Size([64, 1, 88, 88]) torch.Size([64, 1, 88, 88]) torch.Size([64, 10, 10]) torch.Size([64, 10, 10, 1, 2])\n",
      "101\n",
      "torch.Size([64, 1, 88, 88]) torch.Size([64, 1, 88, 88]) torch.Size([64, 10, 10]) torch.Size([64, 10, 10, 1, 2])\n",
      "102\n",
      "torch.Size([64, 1, 88, 88]) torch.Size([64, 1, 88, 88]) torch.Size([64, 10, 10]) torch.Size([64, 10, 10, 1, 2])\n",
      "103\n",
      "torch.Size([64, 1, 88, 88]) torch.Size([64, 1, 88, 88]) torch.Size([64, 10, 10]) torch.Size([64, 10, 10, 1, 2])\n",
      "104\n",
      "torch.Size([64, 1, 88, 88]) torch.Size([64, 1, 88, 88]) torch.Size([64, 10, 10]) torch.Size([64, 10, 10, 1, 2])\n",
      "105\n",
      "torch.Size([64, 1, 88, 88]) torch.Size([64, 1, 88, 88]) torch.Size([64, 10, 10]) torch.Size([64, 10, 10, 1, 2])\n",
      "106\n",
      "torch.Size([64, 1, 88, 88]) torch.Size([64, 1, 88, 88]) torch.Size([64, 10, 10]) torch.Size([64, 10, 10, 1, 2])\n",
      "107\n",
      "torch.Size([64, 1, 88, 88]) torch.Size([64, 1, 88, 88]) torch.Size([64, 10, 10]) torch.Size([64, 10, 10, 1, 2])\n",
      "108\n",
      "torch.Size([64, 1, 88, 88]) torch.Size([64, 1, 88, 88]) torch.Size([64, 10, 10]) torch.Size([64, 10, 10, 1, 2])\n",
      "109\n",
      "torch.Size([64, 1, 88, 88]) torch.Size([64, 1, 88, 88]) torch.Size([64, 10, 10]) torch.Size([64, 10, 10, 1, 2])\n",
      "110\n",
      "torch.Size([64, 1, 88, 88]) torch.Size([64, 1, 88, 88]) torch.Size([64, 10, 10]) torch.Size([64, 10, 10, 1, 2])\n",
      "111\n",
      "torch.Size([64, 1, 88, 88]) torch.Size([64, 1, 88, 88]) torch.Size([64, 10, 10]) torch.Size([64, 10, 10, 1, 2])\n",
      "112\n",
      "torch.Size([64, 1, 88, 88]) torch.Size([64, 1, 88, 88]) torch.Size([64, 10, 10]) torch.Size([64, 10, 10, 1, 2])\n",
      "113\n",
      "torch.Size([64, 1, 88, 88]) torch.Size([64, 1, 88, 88]) torch.Size([64, 10, 10]) torch.Size([64, 10, 10, 1, 2])\n",
      "114\n",
      "torch.Size([64, 1, 88, 88]) torch.Size([64, 1, 88, 88]) torch.Size([64, 10, 10]) torch.Size([64, 10, 10, 1, 2])\n",
      "115\n",
      "torch.Size([64, 1, 88, 88]) torch.Size([64, 1, 88, 88]) torch.Size([64, 10, 10]) torch.Size([64, 10, 10, 1, 2])\n",
      "116\n",
      "torch.Size([64, 1, 88, 88]) torch.Size([64, 1, 88, 88]) torch.Size([64, 10, 10]) torch.Size([64, 10, 10, 1, 2])\n",
      "117\n",
      "torch.Size([64, 1, 88, 88]) torch.Size([64, 1, 88, 88]) torch.Size([64, 10, 10]) torch.Size([64, 10, 10, 1, 2])\n",
      "118\n",
      "torch.Size([64, 1, 88, 88]) torch.Size([64, 1, 88, 88]) torch.Size([64, 10, 10]) torch.Size([64, 10, 10, 1, 2])\n",
      "119\n",
      "torch.Size([64, 1, 88, 88]) torch.Size([64, 1, 88, 88]) torch.Size([64, 10, 10]) torch.Size([64, 10, 10, 1, 2])\n",
      "120\n",
      "torch.Size([64, 1, 88, 88]) torch.Size([64, 1, 88, 88]) torch.Size([64, 10, 10]) torch.Size([64, 10, 10, 1, 2])\n",
      "121\n",
      "torch.Size([64, 1, 88, 88]) torch.Size([64, 1, 88, 88]) torch.Size([64, 10, 10]) torch.Size([64, 10, 10, 1, 2])\n",
      "122\n",
      "torch.Size([64, 1, 88, 88]) torch.Size([64, 1, 88, 88]) torch.Size([64, 10, 10]) torch.Size([64, 10, 10, 1, 2])\n",
      "123\n",
      "torch.Size([64, 1, 88, 88]) torch.Size([64, 1, 88, 88]) torch.Size([64, 10, 10]) torch.Size([64, 10, 10, 1, 2])\n",
      "124\n",
      "torch.Size([64, 1, 88, 88]) torch.Size([64, 1, 88, 88]) torch.Size([64, 10, 10]) torch.Size([64, 10, 10, 1, 2])\n",
      "125\n",
      "torch.Size([64, 1, 88, 88]) torch.Size([64, 1, 88, 88]) torch.Size([64, 10, 10]) torch.Size([64, 10, 10, 1, 2])\n",
      "126\n",
      "torch.Size([64, 1, 88, 88]) torch.Size([64, 1, 88, 88]) torch.Size([64, 10, 10]) torch.Size([64, 10, 10, 1, 2])\n",
      "127\n",
      "torch.Size([64, 1, 88, 88]) torch.Size([64, 1, 88, 88]) torch.Size([64, 10, 10]) torch.Size([64, 10, 10, 1, 2])\n",
      "128\n",
      "torch.Size([64, 1, 88, 88]) torch.Size([64, 1, 88, 88]) torch.Size([64, 10, 10]) torch.Size([64, 10, 10, 1, 2])\n",
      "129\n",
      "torch.Size([64, 1, 88, 88]) torch.Size([64, 1, 88, 88]) torch.Size([64, 10, 10]) torch.Size([64, 10, 10, 1, 2])\n",
      "130\n",
      "torch.Size([64, 1, 88, 88]) torch.Size([64, 1, 88, 88]) torch.Size([64, 10, 10]) torch.Size([64, 10, 10, 1, 2])\n",
      "131\n",
      "torch.Size([64, 1, 88, 88]) torch.Size([64, 1, 88, 88]) torch.Size([64, 10, 10]) torch.Size([64, 10, 10, 1, 2])\n",
      "132\n",
      "torch.Size([64, 1, 88, 88]) torch.Size([64, 1, 88, 88]) torch.Size([64, 10, 10]) torch.Size([64, 10, 10, 1, 2])\n",
      "133\n",
      "torch.Size([64, 1, 88, 88]) torch.Size([64, 1, 88, 88]) torch.Size([64, 10, 10]) torch.Size([64, 10, 10, 1, 2])\n",
      "134\n",
      "torch.Size([64, 1, 88, 88]) torch.Size([64, 1, 88, 88]) torch.Size([64, 10, 10]) torch.Size([64, 10, 10, 1, 2])\n",
      "135\n",
      "torch.Size([64, 1, 88, 88]) torch.Size([64, 1, 88, 88]) torch.Size([64, 10, 10]) torch.Size([64, 10, 10, 1, 2])\n",
      "136\n",
      "torch.Size([64, 1, 88, 88]) torch.Size([64, 1, 88, 88]) torch.Size([64, 10, 10]) torch.Size([64, 10, 10, 1, 2])\n",
      "137\n",
      "torch.Size([64, 1, 88, 88]) torch.Size([64, 1, 88, 88]) torch.Size([64, 10, 10]) torch.Size([64, 10, 10, 1, 2])\n",
      "138\n",
      "torch.Size([64, 1, 88, 88]) torch.Size([64, 1, 88, 88]) torch.Size([64, 10, 10]) torch.Size([64, 10, 10, 1, 2])\n",
      "139\n",
      "torch.Size([64, 1, 88, 88]) torch.Size([64, 1, 88, 88]) torch.Size([64, 10, 10]) torch.Size([64, 10, 10, 1, 2])\n",
      "140\n",
      "torch.Size([64, 1, 88, 88]) torch.Size([64, 1, 88, 88]) torch.Size([64, 10, 10]) torch.Size([64, 10, 10, 1, 2])\n",
      "141\n",
      "torch.Size([64, 1, 88, 88]) torch.Size([64, 1, 88, 88]) torch.Size([64, 10, 10]) torch.Size([64, 10, 10, 1, 2])\n",
      "142\n",
      "torch.Size([64, 1, 88, 88]) torch.Size([64, 1, 88, 88]) torch.Size([64, 10, 10]) torch.Size([64, 10, 10, 1, 2])\n",
      "143\n",
      "torch.Size([64, 1, 88, 88]) torch.Size([64, 1, 88, 88]) torch.Size([64, 10, 10]) torch.Size([64, 10, 10, 1, 2])\n",
      "144\n",
      "torch.Size([64, 1, 88, 88]) torch.Size([64, 1, 88, 88]) torch.Size([64, 10, 10]) torch.Size([64, 10, 10, 1, 2])\n",
      "145\n",
      "torch.Size([64, 1, 88, 88]) torch.Size([64, 1, 88, 88]) torch.Size([64, 10, 10]) torch.Size([64, 10, 10, 1, 2])\n",
      "146\n",
      "torch.Size([64, 1, 88, 88]) torch.Size([64, 1, 88, 88]) torch.Size([64, 10, 10]) torch.Size([64, 10, 10, 1, 2])\n",
      "147\n",
      "torch.Size([64, 1, 88, 88]) torch.Size([64, 1, 88, 88]) torch.Size([64, 10, 10]) torch.Size([64, 10, 10, 1, 2])\n",
      "148\n",
      "torch.Size([64, 1, 88, 88]) torch.Size([64, 1, 88, 88]) torch.Size([64, 10, 10]) torch.Size([64, 10, 10, 1, 2])\n",
      "149\n",
      "torch.Size([64, 1, 88, 88]) torch.Size([64, 1, 88, 88]) torch.Size([64, 10, 10]) torch.Size([64, 10, 10, 1, 2])\n",
      "150\n",
      "torch.Size([64, 1, 88, 88]) torch.Size([64, 1, 88, 88]) torch.Size([64, 10, 10]) torch.Size([64, 10, 10, 1, 2])\n",
      "151\n",
      "torch.Size([64, 1, 88, 88]) torch.Size([64, 1, 88, 88]) torch.Size([64, 10, 10]) torch.Size([64, 10, 10, 1, 2])\n",
      "152\n",
      "torch.Size([64, 1, 88, 88]) torch.Size([64, 1, 88, 88]) torch.Size([64, 10, 10]) torch.Size([64, 10, 10, 1, 2])\n",
      "153\n",
      "torch.Size([64, 1, 88, 88]) torch.Size([64, 1, 88, 88]) torch.Size([64, 10, 10]) torch.Size([64, 10, 10, 1, 2])\n",
      "154\n",
      "torch.Size([64, 1, 88, 88]) torch.Size([64, 1, 88, 88]) torch.Size([64, 10, 10]) torch.Size([64, 10, 10, 1, 2])\n",
      "155\n",
      "torch.Size([16, 1, 88, 88]) torch.Size([16, 1, 88, 88]) torch.Size([16, 10, 10]) torch.Size([16, 10, 10, 1, 2])\n",
      "156\n"
     ]
    }
   ],
   "source": [
    "for ii,b in enumerate(dl):\n",
    "    print(b['images'].shape, b['background'].shape, b['n_sources'].shape, b['locs'].shape)\n",
    "    print(ii)"
   ]
  },
  {
   "cell_type": "code",
   "execution_count": null,
   "metadata": {},
   "outputs": [],
   "source": [
    "# # d1 = torch.load('../data/train_blends.pt')\n",
    "\n",
    "# d1.pop('full_params')\n",
    "# for p in (\"ellips\", \"blendedness\", \"snr\", \"fluxes\", \"mags\", 'galaxy_params'):\n",
    "#     d1[\"tile_params\"].pop(p)\n",
    "# tile_params = d1.pop('tile_params')\n",
    "# for p in tile_params.keys():\n",
    "#     d1[p] = tile_params[p]"
   ]
  },
  {
   "cell_type": "code",
   "execution_count": null,
   "metadata": {},
   "outputs": [],
   "source": []
  },
  {
   "cell_type": "code",
   "execution_count": null,
   "metadata": {},
   "outputs": [],
   "source": [
    "# for b in dl: \n",
    "#     print(b)\n",
    "#     break"
   ]
  },
  {
   "cell_type": "code",
   "execution_count": null,
   "metadata": {},
   "outputs": [],
   "source": []
  },
  {
   "cell_type": "markdown",
   "metadata": {},
   "source": [
    "## fonts"
   ]
  },
  {
   "cell_type": "code",
   "execution_count": null,
   "metadata": {},
   "outputs": [],
   "source": [
    "# import matplotlib.pyplot as plt \n",
    "# plt.rcParams['font.family'] = 'sans-serif'\n",
    "# plt.rcParams[\"text.usetex\"] = True\n",
    "# plt.rcParams[\"mathtext.fontset\"] = 'cm'\n",
    "# plt.rcParams[\"text.latex.preamble\"] =  r\"\\usepackage{amsmath}\",\n"
   ]
  },
  {
   "cell_type": "code",
   "execution_count": null,
   "metadata": {},
   "outputs": [],
   "source": [
    "import matplotlib.pyplot as plt \n",
    "from bliss.plotting import set_rc_params"
   ]
  },
  {
   "cell_type": "code",
   "execution_count": null,
   "metadata": {},
   "outputs": [
    {
     "data": {
      "image/png": "[encoded data removed]",
      "text/plain": [
       "<Figure size 1000x1000 with 1 Axes>"
      ]
     },
     "metadata": {},
     "output_type": "display_data"
    }
   ],
   "source": [
    "set_rc_params(fontsize=24)\n",
    "plt.plot([0,1], [0,1])\n",
    "plt.xlabel(r\"$a_{\\rm TEC}$\")\n",
    "plt.ylabel(r\"$(f^{\\rm recon} - f^{\\rm true}) / f^{\\rm true}$\")\n",
    "plt.savefig(\"test.png\", format=\"png\")"
   ]
  },
  {
   "cell_type": "code",
   "execution_count": null,
   "metadata": {},
   "outputs": [],
   "source": [
    "from matplotlib import font_manager"
   ]
  },
  {
   "cell_type": "code",
   "execution_count": null,
   "metadata": {},
   "outputs": [],
   "source": []
  }
 ],
 "metadata": {
  "kernelspec": {
   "display_name": "bliss-deblender-W0ocb7P7-py3.10",
   "language": "python",
   "name": "python3"
  },
  "language_info": {
   "codemirror_mode": {
    "name": "ipython",
    "version": 3
   },
   "file_extension": ".py",
   "mimetype": "text/x-python",
   "name": "python",
   "nbconvert_exporter": "python",
   "pygments_lexer": "ipython3",
   "version": "3.10.12"
  }
 },
 "nbformat": 4,
 "nbformat_minor": 2
}
