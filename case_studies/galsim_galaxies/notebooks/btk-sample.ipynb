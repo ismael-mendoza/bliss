{
 "cells": [
  {
   "cell_type": "code",
   "execution_count": null,
   "metadata": {},
   "outputs": [
    {
     "name": "stdout",
     "output_type": "stream",
     "text": [
      "The autoreload extension is already loaded. To reload it, use:\n",
      "  %reload_ext autoreload\n"
     ]
    }
   ],
   "source": [
    "%load_ext autoreload\n",
    "%autoreload 2\n"
   ]
  },
  {
   "cell_type": "code",
   "execution_count": null,
   "metadata": {},
   "outputs": [],
   "source": [
    "import btk\n",
    "from galcheat.utilities import mean_sky_level\n",
    "import matplotlib.pyplot as plt\n",
    "import numpy as np\n",
    "\n",
    "from btk.measure import get_snr"
   ]
  },
  {
   "cell_type": "markdown",
   "metadata": {},
   "source": [
    "## BTK dataset"
   ]
  },
  {
   "cell_type": "code",
   "execution_count": null,
   "metadata": {},
   "outputs": [
    {
     "data": {
      "text/plain": [
       "(14.3246593475, 29.9895343781)"
      ]
     },
     "execution_count": null,
     "metadata": {},
     "output_type": "execute_result"
    }
   ],
   "source": [
    "max_n_sources = 1\n",
    "min_n_sources = 1 # always once source\n",
    "stamp_size =  53 * 0.2 # arcsecs\n",
    "max_shift = 0.0 # shift from center (so centered)\n",
    "seed = 0\n",
    "\n",
    "catalog = btk.catalog.CatsimCatalog.from_file('../../../data/OneDegSq.fits')\n",
    "catalog.get_raw_catalog()['i_ab'].min(), catalog.get_raw_catalog()['i_ab'].max()"
   ]
  },
  {
   "cell_type": "code",
   "execution_count": null,
   "metadata": {},
   "outputs": [
    {
     "data": {
      "text/plain": [
       "<matplotlib.lines.Line2D at 0x7f65d64458d0>"
      ]
     },
     "execution_count": null,
     "metadata": {},
     "output_type": "execute_result"
    },
    {
     "data": {
      "image/png": "[encoded data removed]",
      "text/plain": [
       "<Figure size 640x480 with 1 Axes>"
      ]
     },
     "metadata": {},
     "output_type": "display_data"
    }
   ],
   "source": [
    "cat = catalog.get_raw_catalog()\n",
    "plt.hist(cat['i_ab'], bins=31)\n",
    "plt.axvline(27.3, color='r')"
   ]
  },
  {
   "cell_type": "code",
   "execution_count": null,
   "metadata": {},
   "outputs": [
    {
     "data": {
      "text/plain": [
       "0.9999989267439844"
      ]
     },
     "execution_count": null,
     "metadata": {},
     "output_type": "execute_result"
    }
   ],
   "source": [
    "ra = cat['ra']\n",
    "ra = (ra + ra.mean()) % 360\n",
    "ra.max() - ra.min()"
   ]
  },
  {
   "cell_type": "code",
   "execution_count": null,
   "metadata": {},
   "outputs": [
    {
     "data": {
      "text/plain": [
       "185.13194444444446"
      ]
     },
     "execution_count": null,
     "metadata": {},
     "output_type": "execute_result"
    }
   ],
   "source": [
    "len(cat[cat['i_ab'] < 27.3]) / (3600) # 1 sq deg"
   ]
  },
  {
   "cell_type": "code",
   "execution_count": null,
   "metadata": {},
   "outputs": [],
   "source": [
    "sampling_function = btk.sampling_functions.DefaultSampling(\n",
    "    max_number=max_n_sources,\n",
    "    min_number=min_n_sources,\n",
    "    stamp_size=stamp_size, \n",
    "    max_shift=max_shift, \n",
    "    min_mag = 0,  # min mag in i-band is 14.32\n",
    "    max_mag = 27.3, # see document for high level responses \n",
    "    seed = seed)\n"
   ]
  },
  {
   "cell_type": "code",
   "execution_count": null,
   "metadata": {},
   "outputs": [],
   "source": [
    "LSST = btk.survey.get_surveys('LSST')\n",
    "i_filt = LSST.get_filter('i')"
   ]
  },
  {
   "cell_type": "code",
   "execution_count": null,
   "metadata": {},
   "outputs": [],
   "source": [
    "# get sky level in e- counts \n",
    "sky_level = mean_sky_level('LSST', 'i').to_value('electron')"
   ]
  },
  {
   "cell_type": "code",
   "execution_count": null,
   "metadata": {},
   "outputs": [
    {
     "data": {
      "text/latex": [
       "$0.79 \\; \\mathrm{{}^{\\prime\\prime}}$"
      ],
      "text/plain": [
       "<Quantity 0.79 arcsec>"
      ]
     },
     "execution_count": null,
     "metadata": {},
     "output_type": "execute_result"
    }
   ],
   "source": [
    "i_filt.psf_fwhm"
   ]
  },
  {
   "cell_type": "code",
   "execution_count": null,
   "metadata": {},
   "outputs": [],
   "source": [
    "\n",
    "batch_size = 100\n",
    "\n",
    "draw_generator = btk.draw_blends.CatsimGenerator(\n",
    "    catalog,\n",
    "    sampling_function,\n",
    "    LSST,\n",
    "    batch_size=batch_size,\n",
    "    stamp_size=stamp_size,\n",
    "    njobs=1,\n",
    "    add_noise=\"all\",\n",
    "    seed=seed, # use same seed here\n",
    ")\n"
   ]
  },
  {
   "cell_type": "code",
   "execution_count": null,
   "metadata": {},
   "outputs": [
    {
     "data": {
      "text/plain": [
       "BlendBatch(survey_name=LSST, \n",
       "\t blend_images: np.ndarray, shape [100, 6, 53, 53]\n",
       "\t isolated_images: np.ndarray, shape [100, 1, 6, 53, 53]\n",
       "\t catalog_list: list of <class 'astropy.table.table.Table'>, size 100\n",
       "\t psfs: list of <class 'galsim.gsobject.GSObject'>, size 6\n",
       "\t wcs: <class 'astropy.wcs.wcs.WCS'>)"
      ]
     },
     "execution_count": null,
     "metadata": {},
     "output_type": "execute_result"
    }
   ],
   "source": [
    "batch = next(draw_generator)\n",
    "batch"
   ]
  },
  {
   "cell_type": "code",
   "execution_count": null,
   "metadata": {},
   "outputs": [
    {
     "name": "stdout",
     "output_type": "stream",
     "text": [
      "galtileid\n",
      "ra\n",
      "dec\n",
      "redshift\n",
      "fluxnorm_bulge\n",
      "fluxnorm_disk\n",
      "fluxnorm_agn\n",
      "a_b\n",
      "a_d\n",
      "b_b\n",
      "b_d\n",
      "pa_bulge\n",
      "pa_disk\n",
      "u_ab\n",
      "g_ab\n",
      "r_ab\n",
      "i_ab\n",
      "z_ab\n",
      "y_ab\n",
      "x_peak\n",
      "y_peak\n",
      "btk_rotation\n",
      "not_drawn_u\n",
      "not_drawn_g\n",
      "not_drawn_r\n",
      "not_drawn_i\n",
      "not_drawn_z\n",
      "not_drawn_y\n"
     ]
    }
   ],
   "source": [
    "for p in batch.catalog_list[0].columns:\n",
    "    print(p)"
   ]
  },
  {
   "cell_type": "code",
   "execution_count": null,
   "metadata": {},
   "outputs": [
    {
     "name": "stdout",
     "output_type": "stream",
     "text": [
      "[402705367267]\n",
      "[0.]\n",
      "[0.]\n",
      "[0.31423011]\n",
      "[0.]\n",
      "[2.17991994e-18]\n",
      "[0.]\n",
      "[0.]\n",
      "[0.92527241]\n",
      "[0.]\n",
      "[0.62053549]\n",
      "[0.]\n",
      "[339.92495727]\n",
      "[25.91155052]\n",
      "[25.8383522]\n",
      "[25.65806389]\n",
      "[25.69213867]\n",
      "[25.73265648]\n",
      "[25.75240326]\n",
      "[26.]\n",
      "[26.]\n",
      "[0.]\n",
      "[0.]\n",
      "[0.]\n",
      "[0.]\n",
      "[0.]\n",
      "[0.]\n",
      "[0.]\n"
     ]
    }
   ],
   "source": [
    "d = dict(batch.catalog_list[0])\n",
    "for p in d:\n",
    "    print(d[p].value)"
   ]
  },
  {
   "cell_type": "code",
   "execution_count": null,
   "metadata": {},
   "outputs": [],
   "source": [
    "snrs = get_snr(batch.isolated_images[:, 0, 3], sky_level)"
   ]
  },
  {
   "cell_type": "code",
   "execution_count": null,
   "metadata": {},
   "outputs": [
    {
     "data": {
      "text/plain": [
       "array([[1, 4],\n",
       "       [2, 5],\n",
       "       [3, 6]])"
      ]
     },
     "execution_count": null,
     "metadata": {},
     "output_type": "execute_result"
    }
   ],
   "source": [
    "a = np.array([1,2,3])\n",
    "b = np.array([4,5,6])\n",
    "np.vstack((a,b)).T"
   ]
  },
  {
   "cell_type": "code",
   "execution_count": null,
   "metadata": {},
   "outputs": [
    {
     "name": "stdout",
     "output_type": "stream",
     "text": [
      "27.0603847504 3.0134590567345487\n"
     ]
    },
    {
     "data": {
      "image/png": "[encoded data removed]",
      "text/plain": [
       "<Figure size 640x480 with 1 Axes>"
      ]
     },
     "metadata": {},
     "output_type": "display_data"
    }
   ],
   "source": [
    "idx = np.random.randint(0, 100)\n",
    "plt.imshow(batch.blend_images[idx, 3]) # i-band, is indx = 3\n",
    "plt.scatter(26, 30, color='r', marker='x')\n",
    "print(batch.catalog_list[idx]['i_ab'].value.item(), snrs[idx])"
   ]
  },
  {
   "cell_type": "code",
   "execution_count": null,
   "metadata": {},
   "outputs": [
    {
     "data": {
      "text/plain": [
       "(array([4.00000e+00, 7.00000e+00, 1.30000e+01, 1.90000e+01, 5.70000e+01,\n",
       "        1.17000e+02, 2.06000e+02, 4.18000e+02, 8.79000e+02, 1.59600e+03,\n",
       "        2.98700e+03, 5.26700e+03, 9.14900e+03, 1.50610e+04, 2.41320e+04,\n",
       "        3.79030e+04, 5.75850e+04, 8.56110e+04, 1.21414e+05, 1.69334e+05,\n",
       "        1.89156e+05, 1.30416e+05, 6.35000e+03, 4.45000e+02, 3.76000e+02]),\n",
       " array([14.32465935, 14.95125435, 15.57784935, 16.20444435, 16.83103935,\n",
       "        17.45763435, 18.08422935, 18.71082436, 19.33741936, 19.96401436,\n",
       "        20.59060936, 21.21720436, 21.84379936, 22.47039436, 23.09698936,\n",
       "        23.72358437, 24.35017937, 24.97677437, 25.60336937, 26.22996437,\n",
       "        26.85655937, 27.48315437, 28.10974937, 28.73634438, 29.36293938,\n",
       "        29.98953438]),\n",
       " <BarContainer object of 25 artists>)"
      ]
     },
     "execution_count": null,
     "metadata": {},
     "output_type": "execute_result"
    },
    {
     "data": {
      "image/png": "[encoded data removed]",
      "text/plain": [
       "<Figure size 640x480 with 1 Axes>"
      ]
     },
     "metadata": {},
     "output_type": "display_data"
    }
   ],
   "source": [
    "plt.hist(catalog.get_raw_catalog()['i_ab'], bins=25)"
   ]
  },
  {
   "cell_type": "code",
   "execution_count": null,
   "metadata": {},
   "outputs": [
    {
     "data": {
      "text/plain": [
       "24.3130187988"
      ]
     },
     "execution_count": null,
     "metadata": {},
     "output_type": "execute_result"
    }
   ],
   "source": [
    "batch.catalog_list[0]['i_ab'].value.item()"
   ]
  },
  {
   "cell_type": "markdown",
   "metadata": {},
   "source": [
    "## stars"
   ]
  },
  {
   "cell_type": "code",
   "execution_count": null,
   "metadata": {},
   "outputs": [],
   "source": [
    "from astropy.table import Table\n",
    "\n",
    "star_data = \"../../../data/stars_med_june2018.fits\"\n",
    "stars = Table.read(star_data)"
   ]
  },
  {
   "cell_type": "code",
   "execution_count": null,
   "metadata": {},
   "outputs": [
    {
     "data": {
      "text/plain": [
       "<matplotlib.lines.Line2D at 0x7f8c644322f0>"
      ]
     },
     "execution_count": null,
     "metadata": {},
     "output_type": "execute_result"
    },
    {
     "data": {
      "image/png": "[encoded data removed]",
      "text/plain": [
       "<Figure size 640x480 with 1 Axes>"
      ]
     },
     "metadata": {},
     "output_type": "display_data"
    }
   ],
   "source": [
    "plt.hist(stars['i_ab'], bins=31)\n",
    "plt.axvline(26.0, color='r')"
   ]
  },
  {
   "cell_type": "markdown",
   "metadata": {},
   "source": [
    "## Poisson distribution"
   ]
  },
  {
   "cell_type": "code",
   "execution_count": null,
   "metadata": {},
   "outputs": [],
   "source": [
    "import numpy as np \n",
    "import scipy.special\n",
    "import matplotlib.pyplot as plt\n",
    "\n",
    "density = 185 \n",
    "exp_count = 30\n",
    "x = np.arange(0, 30)\n",
    "px = (exp_count ** x) * np.exp(-exp_count) / scipy.special.factorial(x)"
   ]
  },
  {
   "cell_type": "code",
   "execution_count": null,
   "metadata": {},
   "outputs": [
    {
     "data": {
      "text/plain": [
       "array([1.00000000e+00, 1.00000000e+00, 2.00000000e+00, 6.00000000e+00,\n",
       "       2.40000000e+01, 1.20000000e+02, 7.20000000e+02, 5.04000000e+03,\n",
       "       4.03200000e+04, 3.62880000e+05, 3.62880000e+06, 3.99168000e+07,\n",
       "       4.79001600e+08, 6.22702080e+09, 8.71782912e+10, 1.30767437e+12,\n",
       "       2.09227899e+13, 3.55687428e+14, 6.40237371e+15, 1.21645100e+17,\n",
       "       2.43290201e+18, 5.10909422e+19, 1.12400073e+21, 2.58520167e+22,\n",
       "       6.20448402e+23, 1.55112100e+25, 4.03291461e+26, 1.08888695e+28,\n",
       "       3.04888345e+29, 8.84176199e+30])"
      ]
     },
     "execution_count": null,
     "metadata": {},
     "output_type": "execute_result"
    }
   ],
   "source": [
    "scipy.special.factorial(x)"
   ]
  },
  {
   "cell_type": "code",
   "execution_count": null,
   "metadata": {},
   "outputs": [
    {
     "data": {
      "text/plain": [
       "34"
      ]
     },
     "execution_count": null,
     "metadata": {},
     "output_type": "execute_result"
    }
   ],
   "source": [
    "np.random.poisson(exp_count)"
   ]
  },
  {
   "cell_type": "markdown",
   "metadata": {},
   "source": [
    "# test new BLISS datasets"
   ]
  },
  {
   "cell_type": "markdown",
   "metadata": {},
   "source": [
    "## Single galaxies"
   ]
  },
  {
   "cell_type": "code",
   "execution_count": null,
   "metadata": {},
   "outputs": [],
   "source": [
    "from bliss.datasets.single_galaxies import SingleGalsimGalaxies\n",
    "\n",
    "single_dataset = SingleGalsimGalaxies(catalog_file='../../../data/OneDegSq.fits', num_workers=1, batch_size=10, n_batches=1, slen=88, seed=0)"
   ]
  },
  {
   "cell_type": "code",
   "execution_count": null,
   "metadata": {},
   "outputs": [
    {
     "name": "stdout",
     "output_type": "stream",
     "text": [
      "5.951522388719227\n"
     ]
    },
    {
     "data": {
      "image/png": "[encoded data removed]",
      "text/plain": [
       "<Figure size 640x480 with 1 Axes>"
      ]
     },
     "metadata": {},
     "output_type": "display_data"
    }
   ],
   "source": [
    "batch = single_dataset[0]\n",
    "plt.imshow(batch['images'][0])\n",
    "print(batch['snr'])"
   ]
  },
  {
   "cell_type": "code",
   "execution_count": null,
   "metadata": {},
   "outputs": [
    {
     "data": {
      "text/plain": [
       "<matplotlib.image.AxesImage at 0x7fc9d8565090>"
      ]
     },
     "execution_count": null,
     "metadata": {},
     "output_type": "execute_result"
    },
    {
     "data": {
      "image/png": "[encoded data removed]",
      "text/plain": [
       "<Figure size 640x480 with 1 Axes>"
      ]
     },
     "metadata": {},
     "output_type": "display_data"
    }
   ],
   "source": [
    "plt.imshow(batch['noiseless'][0])"
   ]
  },
  {
   "cell_type": "code",
   "execution_count": null,
   "metadata": {},
   "outputs": [
    {
     "data": {
      "text/plain": [
       "{'galtileid': tensor([402700538259]),\n",
       " 'ra': tensor([0.]),\n",
       " 'dec': tensor([0.]),\n",
       " 'redshift': tensor([0.4687]),\n",
       " 'fluxnorm_bulge': tensor([1.1689e-17]),\n",
       " 'fluxnorm_disk': tensor([4.8684e-17]),\n",
       " 'fluxnorm_agn': tensor([0.]),\n",
       " 'a_b': tensor([0.4347]),\n",
       " 'a_d': tensor([0.2333]),\n",
       " 'b_b': tensor([0.4260]),\n",
       " 'b_d': tensor([0.0539]),\n",
       " 'pa_bulge': tensor([267.8273]),\n",
       " 'pa_disk': tensor([267.8273]),\n",
       " 'u_ab': tensor([25.0771]),\n",
       " 'g_ab': tensor([24.2188]),\n",
       " 'r_ab': tensor([23.1173]),\n",
       " 'i_ab': tensor([22.5682]),\n",
       " 'z_ab': tensor([22.2310]),\n",
       " 'y_ab': tensor([22.0364]),\n",
       " 'x_peak': tensor([43.5000], dtype=torch.float64),\n",
       " 'y_peak': tensor([43.5000], dtype=torch.float64),\n",
       " 'btk_rotation': tensor([0.], dtype=torch.float64),\n",
       " 'not_drawn_u': tensor([0.], dtype=torch.float64),\n",
       " 'not_drawn_g': tensor([0.], dtype=torch.float64),\n",
       " 'not_drawn_r': tensor([0.], dtype=torch.float64),\n",
       " 'not_drawn_i': tensor([0.], dtype=torch.float64),\n",
       " 'not_drawn_z': tensor([0.], dtype=torch.float64),\n",
       " 'not_drawn_y': tensor([0.], dtype=torch.float64)}"
      ]
     },
     "execution_count": null,
     "metadata": {},
     "output_type": "execute_result"
    }
   ],
   "source": [
    "batch['params']"
   ]
  },
  {
   "cell_type": "markdown",
   "metadata": {},
   "source": [
    "## Blends"
   ]
  },
  {
   "cell_type": "code",
   "execution_count": null,
   "metadata": {},
   "outputs": [],
   "source": [
    "from bliss.datasets.blends import GalsimBlends\n",
    "from bliss.catalog import TileCatalog"
   ]
  },
  {
   "cell_type": "code",
   "execution_count": null,
   "metadata": {},
   "outputs": [],
   "source": [
    "ds = GalsimBlends(catalog_file='../../../data/OneDegSq.fits', stars_file='../../../data/stars_med_june2018.fits', tile_slen=4, max_sources_per_tile=1, num_workers=1, batch_size=2, n_batches=1, bp=24, slen=40, seed=0)"
   ]
  },
  {
   "cell_type": "code",
   "execution_count": null,
   "metadata": {},
   "outputs": [
    {
     "name": "stdout",
     "output_type": "stream",
     "text": [
      "torch.Size([8]) torch.Size([8, 1]) torch.Size([8, 1])\n"
     ]
    },
    {
     "data": {
      "text/plain": [
       "(tensor(2.), tensor(0.))"
      ]
     },
     "execution_count": null,
     "metadata": {},
     "output_type": "execute_result"
    }
   ],
   "source": [
    "batch = ds[0]\n",
    "tile_params = {k:v.unsqueeze(0) for k,v in batch.items() if k not in {'images', 'background'}}\n",
    "tile_catalog = TileCatalog(4, tile_params) \n",
    "full_cat = tile_catalog.to_full_params()\n",
    "\n",
    "batch['galaxy_bools'].sum(), batch['star_bools'].sum(), batch['star_bools']"
   ]
  },
  {
   "cell_type": "code",
   "execution_count": null,
   "metadata": {},
   "outputs": [],
   "source": [
    "# full_cat.keys()\n",
    "# full_cat['star_bools'].shape, full_cat['galaxy_bools'].shape\n",
    "# batch['star_bools'].shape, batch['star_fluxes'].shape, batch['galaxy_bools'].shape\n"
   ]
  },
  {
   "cell_type": "code",
   "execution_count": null,
   "metadata": {},
   "outputs": [
    {
     "data": {
      "text/plain": [
       "(tensor([[[22.2567],\n",
       "          [26.1220]]]),\n",
       " tensor([[[23.8673, 27.4211],\n",
       "          [62.6698, 51.5954]]]))"
      ]
     },
     "execution_count": null,
     "metadata": {},
     "output_type": "execute_result"
    }
   ],
   "source": [
    "full_cat['mags'], full_cat.plocs + 24 -0.5"
   ]
  },
  {
   "cell_type": "code",
   "execution_count": null,
   "metadata": {},
   "outputs": [
    {
     "data": {
      "text/plain": [
       "<matplotlib.collections.PathCollection at 0x7f3d529d0490>"
      ]
     },
     "execution_count": null,
     "metadata": {},
     "output_type": "execute_result"
    },
    {
     "data": {
      "image/png": "[encoded data removed]",
      "text/plain": [
       "<Figure size 640x480 with 2 Axes>"
      ]
     },
     "metadata": {},
     "output_type": "display_data"
    }
   ],
   "source": [
    "bp = 24 \n",
    "\n",
    "\n",
    "# print(batch['n_sources'].sum().item())\n",
    "\n",
    "plt.imshow(batch['images'][0] - batch['background'][0])\n",
    "plt.colorbar()\n",
    "\n",
    "# need to make sure locs are correct\n",
    "\n",
    "\n",
    "# x1 = tplocs[indx, :, 1] + bp - 0.5 - trim\n",
    "\n",
    "\n",
    "x, y = full_cat.plocs[0, :,1] + 24 - 0.5, full_cat.plocs[0, :, 0] + 24 - 0.5\n",
    "\n",
    "plt.scatter(x, y, marker=\"x\", color=\"r\", s=20)"
   ]
  },
  {
   "cell_type": "code",
   "execution_count": null,
   "metadata": {},
   "outputs": [
    {
     "data": {
      "text/plain": [
       "dict_keys(['n_sources', 'locs', 'galaxy_bools', 'star_bools', 'star_fluxes', 'star_log_fluxes', 'galaxy_params', 'mags', 'ellips', 'snr', 'blendedness', 'fluxes'])"
      ]
     },
     "execution_count": null,
     "metadata": {},
     "output_type": "execute_result"
    }
   ],
   "source": [
    "tile_params.keys()"
   ]
  },
  {
   "cell_type": "code",
   "execution_count": null,
   "metadata": {},
   "outputs": [
    {
     "data": {
      "text/plain": [
       "tensor([[183312.7531, 184034.1672, 183561.0552,  ..., 183548.6127,\n",
       "         184127.8142, 183348.9175],\n",
       "        [183471.6655, 183605.2105, 183485.8907,  ..., 183401.6336,\n",
       "         183453.9241, 183371.3914],\n",
       "        [184064.4842, 183859.4757, 183854.8985,  ..., 184115.1714,\n",
       "         183225.6894, 184317.0490],\n",
       "        ...,\n",
       "        [183205.7351, 183682.0272, 183740.9838,  ..., 183633.1050,\n",
       "         183190.3656, 183265.0289],\n",
       "        [183892.0551, 183153.8765, 184209.4282,  ..., 184167.3542,\n",
       "         183769.6804, 183028.3487],\n",
       "        [184303.6548, 183594.7333, 183941.1743,  ..., 183036.5333,\n",
       "         183227.9066, 183459.8060]], dtype=torch.float64)"
      ]
     },
     "execution_count": null,
     "metadata": {},
     "output_type": "execute_result"
    }
   ],
   "source": [
    "batch['images'][0]"
   ]
  },
  {
   "cell_type": "code",
   "execution_count": null,
   "metadata": {},
   "outputs": [
    {
     "data": {
      "text/plain": [
       "tensor([[0.0000e+00, 0.0000e+00, 0.0000e+00, 0.0000e+00, 0.0000e+00, 0.0000e+00,\n",
       "         0.0000e+00, 0.0000e+00, 0.0000e+00, 0.0000e+00],\n",
       "        [0.0000e+00, 0.0000e+00, 0.0000e+00, 0.0000e+00, 0.0000e+00, 0.0000e+00,\n",
       "         0.0000e+00, 0.0000e+00, 0.0000e+00, 0.0000e+00],\n",
       "        [0.0000e+00, 1.1648e+04, 0.0000e+00, 0.0000e+00, 0.0000e+00, 0.0000e+00,\n",
       "         0.0000e+00, 0.0000e+00, 0.0000e+00, 0.0000e+00],\n",
       "        [0.0000e+00, 0.0000e+00, 0.0000e+00, 0.0000e+00, 0.0000e+00, 0.0000e+00,\n",
       "         1.7071e+05, 0.0000e+00, 0.0000e+00, 0.0000e+00],\n",
       "        [0.0000e+00, 0.0000e+00, 0.0000e+00, 0.0000e+00, 0.0000e+00, 0.0000e+00,\n",
       "         0.0000e+00, 0.0000e+00, 0.0000e+00, 0.0000e+00],\n",
       "        [0.0000e+00, 0.0000e+00, 0.0000e+00, 0.0000e+00, 0.0000e+00, 0.0000e+00,\n",
       "         0.0000e+00, 0.0000e+00, 0.0000e+00, 0.0000e+00],\n",
       "        [0.0000e+00, 0.0000e+00, 0.0000e+00, 0.0000e+00, 0.0000e+00, 0.0000e+00,\n",
       "         0.0000e+00, 0.0000e+00, 0.0000e+00, 0.0000e+00],\n",
       "        [0.0000e+00, 0.0000e+00, 0.0000e+00, 0.0000e+00, 0.0000e+00, 0.0000e+00,\n",
       "         0.0000e+00, 0.0000e+00, 0.0000e+00, 0.0000e+00],\n",
       "        [0.0000e+00, 5.4432e+04, 0.0000e+00, 0.0000e+00, 0.0000e+00, 0.0000e+00,\n",
       "         0.0000e+00, 5.0260e+07, 1.9750e+04, 0.0000e+00],\n",
       "        [0.0000e+00, 0.0000e+00, 0.0000e+00, 0.0000e+00, 0.0000e+00, 0.0000e+00,\n",
       "         0.0000e+00, 0.0000e+00, 0.0000e+00, 0.0000e+00]])"
      ]
     },
     "execution_count": null,
     "metadata": {},
     "output_type": "execute_result"
    }
   ],
   "source": [
    "batch['fluxes'].squeeze()"
   ]
  },
  {
   "cell_type": "code",
   "execution_count": null,
   "metadata": {},
   "outputs": [
    {
     "data": {
      "text/plain": [
       "tensor([[0, 0, 0, 0, 0, 0, 0, 0, 0, 0],\n",
       "        [0, 0, 0, 0, 0, 0, 0, 0, 0, 0],\n",
       "        [0, 0, 0, 0, 0, 0, 0, 0, 0, 0],\n",
       "        [0, 0, 0, 0, 0, 0, 1, 0, 0, 0],\n",
       "        [0, 0, 0, 0, 0, 0, 0, 0, 0, 0],\n",
       "        [0, 0, 0, 0, 0, 0, 0, 0, 0, 0],\n",
       "        [0, 0, 0, 0, 0, 0, 0, 0, 0, 1],\n",
       "        [0, 0, 0, 0, 0, 0, 0, 0, 0, 0],\n",
       "        [0, 0, 0, 0, 0, 0, 0, 0, 0, 0],\n",
       "        [0, 0, 0, 0, 0, 0, 0, 0, 0, 0]])"
      ]
     },
     "execution_count": null,
     "metadata": {},
     "output_type": "execute_result"
    }
   ],
   "source": [
    "batch['n_sources']"
   ]
  },
  {
   "cell_type": "markdown",
   "metadata": {},
   "source": [
    "### Playing with mags"
   ]
  },
  {
   "cell_type": "code",
   "execution_count": null,
   "metadata": {},
   "outputs": [],
   "source": [
    "import galcheat\n",
    "\n",
    "import astropy.units as u"
   ]
  },
  {
   "cell_type": "code",
   "execution_count": null,
   "metadata": {},
   "outputs": [],
   "source": [
    "lsst=galcheat.get_survey('LSST')\n",
    "i_band = lsst.get_filter('i')"
   ]
  },
  {
   "cell_type": "code",
   "execution_count": null,
   "metadata": {},
   "outputs": [
    {
     "data": {
      "text/latex": [
       "$27.78 \\; \\mathrm{mag}$"
      ],
      "text/plain": [
       "<Quantity 27.78 mag>"
      ]
     },
     "execution_count": null,
     "metadata": {},
     "output_type": "execute_result"
    }
   ],
   "source": [
    "i_band.zeropoint"
   ]
  },
  {
   "cell_type": "code",
   "execution_count": null,
   "metadata": {},
   "outputs": [
    {
     "data": {
      "text/latex": [
       "$24 \\; \\mathrm{mag}$$\\mathrm{\\left( \\mathrm{\\frac{e^{-}}{s}} \\right)}$"
      ],
      "text/plain": [
       "<Magnitude 24. mag(electron / s)>"
      ]
     },
     "execution_count": null,
     "metadata": {},
     "output_type": "execute_result"
    }
   ],
   "source": [
    "u.mag(u.electron / u.s) * 24 "
   ]
  },
  {
   "cell_type": "code",
   "execution_count": null,
   "metadata": {},
   "outputs": [
    {
     "name": "stdout",
     "output_type": "stream",
     "text": [
      "24.0 mag(electron / s)\n"
     ]
    }
   ],
   "source": [
    "mag = 24 * u.mag(u.electron / u.s)\n",
    "print(mag)"
   ]
  },
  {
   "cell_type": "code",
   "execution_count": null,
   "metadata": {},
   "outputs": [
    {
     "data": {
      "text/latex": [
       "$24 \\; \\mathrm{\\frac{e^{-}}{s}}$"
      ],
      "text/plain": [
       "<Quantity 24. electron / s>"
      ]
     },
     "execution_count": null,
     "metadata": {},
     "output_type": "execute_result"
    }
   ],
   "source": [
    "24 * u.electron / u.s"
   ]
  },
  {
   "cell_type": "code",
   "execution_count": null,
   "metadata": {},
   "outputs": [
    {
     "data": {
      "text/latex": [
       "$-3.78 \\; \\mathrm{mag}$$\\mathrm{\\left( \\mathrm{\\frac{e^{-}}{s}} \\right)}$"
      ],
      "text/plain": [
       "<Magnitude -3.78 mag(electron / s)>"
      ]
     },
     "execution_count": null,
     "metadata": {},
     "output_type": "execute_result"
    }
   ],
   "source": [
    "24 * u.mag(u.electron / u.s)  - i_band.zeropoint"
   ]
  },
  {
   "cell_type": "code",
   "execution_count": null,
   "metadata": {},
   "outputs": [
    {
     "data": {
      "text/latex": [
       "$24.000001 \\; \\mathrm{mag}$$\\mathrm{\\left( \\mathrm{\\frac{e^{-}}{s}} \\right)}$"
      ],
      "text/plain": [
       "<Magnitude 24.00000114 mag(electron / s)>"
      ]
     },
     "execution_count": null,
     "metadata": {},
     "output_type": "execute_result"
    }
   ],
   "source": [
    "flux_s = 179448 * u.electron/ i_band.full_exposure_time\n",
    "flux_s.to(u.mag(u.electron / u.s)) + i_band.zeropoint"
   ]
  },
  {
   "cell_type": "code",
   "execution_count": null,
   "metadata": {},
   "outputs": [
    {
     "name": "stdout",
     "output_type": "stream",
     "text": [
      "tensor([179448,  71439]) tensor([24.0000, 25.0000], dtype=torch.float64)\n"
     ]
    }
   ],
   "source": [
    "import torch\n",
    "from bliss.datasets.lsst import convert_mag_to_flux, convert_flux_to_mag\n",
    "fluxes = convert_mag_to_flux(torch.tensor([24, 25]))\n",
    "mags = convert_flux_to_mag(fluxes)\n",
    "print(fluxes, mags)"
   ]
  },
  {
   "cell_type": "code",
   "execution_count": null,
   "metadata": {},
   "outputs": [],
   "source": []
  }
 ],
 "metadata": {
  "kernelspec": {
   "display_name": "bliss-deblender-W0ocb7P7-py3.10",
   "language": "python",
   "name": "python3"
  },
  "language_info": {
   "codemirror_mode": {
    "name": "ipython",
    "version": 3
   },
   "file_extension": ".py",
   "mimetype": "text/x-python",
   "name": "python",
   "nbconvert_exporter": "python",
   "pygments_lexer": "ipython3",
   "version": "3.10.12"
  }
 },
 "nbformat": 4,
 "nbformat_minor": 2
}
