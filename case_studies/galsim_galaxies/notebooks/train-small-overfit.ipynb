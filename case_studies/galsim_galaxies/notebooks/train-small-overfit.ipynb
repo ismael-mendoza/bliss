{
 "cells": [
  {
   "cell_type": "code",
   "execution_count": null,
   "metadata": {},
   "outputs": [],
   "source": [
    "def _save_dataset(ds, train_path, val_path, test_path, n_samples: int, overwrite=False, njobs=1):\n",
    "    assert n_samples % 3 == 0\n",
    "    tpath, vpath, ttpath = Path(train_path), Path(val_path), Path(test_path)\n",
    "\n",
    "    if tpath.exists() or vpath.exists() or ttpath.exists():\n",
    "        if not overwrite:\n",
    "            raise ValueError(\"Overwrite turned on, but files exists.\")\n",
    "\n",
    "    results = Parallel(n_jobs=njobs)(delayed(_task)(ds, ii) for ii in tqdm(range(n_samples)))\n",
    "    output = torch.cat(results)\n",
    "    assert output.shape[0] == n_samples"
   ]
  },
  {
   "cell_type": "code",
   "execution_count": null,
   "metadata": {},
   "outputs": [],
   "source": [
    "from bliss.datasets.blends import GalsimBlends\n",
    "from bliss.catalog import TileCatalog\n",
    "from bliss.models.detection_encoder import DetectionEncoder\n",
    "import matplotlib.pyplot as plt "
   ]
  },
  {
   "cell_type": "code",
   "execution_count": null,
   "metadata": {},
   "outputs": [],
   "source": [
    "def _setup_blend_galaxy_generator(\n",
    "    catalog_file: str,\n",
    "    density: float,\n",
    "    max_number: float,\n",
    "    slen: int,\n",
    "    bp: int,\n",
    "    seed: int,\n",
    "    max_mag: float = 27.3,\n",
    "):\n",
    "    catalog = btk.catalog.CatsimCatalog.from_file(catalog_file)\n",
    "\n",
    "    stamp_size = (slen + 2 * bp) * PIXEL_SCALE  # arcsecs\n",
    "\n",
    "    sampling_function = btk.sampling_functions.DensitySampling(\n",
    "        max_number=max_number,\n",
    "        min_number=0,\n",
    "        density=density,\n",
    "        stamp_size=stamp_size,\n",
    "        max_shift=slen * PIXEL_SCALE / 2,  # in arcseconds\n",
    "        seed=seed,\n",
    "        max_mag=max_mag,\n",
    "        mag_name=\"i_ab\",\n",
    "    )\n",
    "\n",
    "    survey = btk.survey.get_surveys(\"LSST\")\n",
    "\n",
    "    return btk.draw_blends.CatsimGenerator(\n",
    "        catalog,\n",
    "        sampling_function,\n",
    "        survey,\n",
    "        batch_size=1,  # batching is taking care of by torch dataset\n",
    "        stamp_size=stamp_size,\n",
    "        njobs=1,\n",
    "        add_noise=\"none\",  # will add noise and background later\n",
    "        seed=seed,  # use same seed here\n",
    "    )\n"
   ]
  },
  {
   "cell_type": "code",
   "execution_count": null,
   "metadata": {},
   "outputs": [
    {
     "data": {
      "text/plain": [
       "(4, 4)"
      ]
     },
     "execution_count": null,
     "metadata": {},
     "output_type": "execute_result"
    }
   ],
   "source": [
    "# TODO: a simpler generator with at most 1 source (star or galaxy)\n",
    "# also, only use 1 tile\n",
    "# using the generator_setup argument\n",
    "\n",
    "ds = GalsimBlends(catalog_file='../../../data/OneDegSq.fits', stars_file='../../../data/stars_med_june2018.fits', tile_slen=4, max_sources_per_tile=1, bp=24, slen=40, seed=0, galaxy_density=100, star_density=100, generator_setup=...)\n",
    "\n",
    "ds.max_n_galaxies, ds.max_n_stars"
   ]
  },
  {
   "cell_type": "code",
   "execution_count": null,
   "metadata": {},
   "outputs": [],
   "source": [
    "# save data from dataset"
   ]
  },
  {
   "cell_type": "code",
   "execution_count": null,
   "metadata": {},
   "outputs": [],
   "source": [
    "# instatiate model\n",
    "\"\"\"\n",
    "        _target_: bliss.models.detection_encoder.DetectionEncoder\n",
    "        input_transform:\n",
    "            _target_: bliss.models.detection_encoder.ConcatBackgroundTransform\n",
    "        n_bands: 1\n",
    "        tile_slen: 4\n",
    "        ptile_slen: 52\n",
    "        max_detections: 1\n",
    "        channel: 8\n",
    "        spatial_dropout: 0.0\n",
    "        dropout: 0.0\n",
    "        hidden: 128\n",
    "        annotate_probs: True\n",
    "        slack: 1.0\n",
    "        optimizer_params:\n",
    "            lr: 1e-4\n",
    "\"\"\"\n",
    "from bliss.models.encoder_layers import (\n",
    "    ConcatBackgroundTransform,\n",
    "    EncoderCNN,\n",
    "    LogBackgroundTransform,\n",
    "    make_enc_final,\n",
    ")\n",
    "# TODO: change model to only use 1 tile\n",
    "detection_encoder = DetectionEncoder(input_transform=ConcatBackgroundTransform(), n_bands=1, tile_slen=4, ptile_slen=52, max_detections=1, channel=8, spatial_dropout=0.0, dropout=0.0, hidden=128, annotate_probs=True, slack=1.0, optimizer_params={'lr':1e-4})"
   ]
  },
  {
   "cell_type": "code",
   "execution_count": null,
   "metadata": {},
   "outputs": [],
   "source": [
    "# create datamodule to train from saved data files"
   ]
  },
  {
   "cell_type": "code",
   "execution_count": null,
   "metadata": {},
   "outputs": [],
   "source": [
    "# train on only the small batch"
   ]
  },
  {
   "cell_type": "code",
   "execution_count": null,
   "metadata": {},
   "outputs": [],
   "source": [
    "# look at output encoded parameters and compare with true parameters of the tile\n",
    "\n",
    "# do they seem sensible? \n",
    "\n"
   ]
  }
 ],
 "metadata": {
  "kernelspec": {
   "display_name": "bliss-deblender-W0ocb7P7-py3.10",
   "language": "python",
   "name": "python3"
  },
  "language_info": {
   "codemirror_mode": {
    "name": "ipython",
    "version": 3
   },
   "file_extension": ".py",
   "mimetype": "text/x-python",
   "name": "python",
   "nbconvert_exporter": "python",
   "pygments_lexer": "ipython3",
   "version": "3.10.12"
  }
 },
 "nbformat": 4,
 "nbformat_minor": 2
}
