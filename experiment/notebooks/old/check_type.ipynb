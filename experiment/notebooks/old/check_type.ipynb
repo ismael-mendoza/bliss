{
 "cells": [
  {
   "cell_type": "code",
   "execution_count": null,
   "metadata": {},
   "outputs": [],
   "source": [
    "from bliss.datasets.lsst import get_default_lsst_psf, get_default_lsst_background, prepare_final_galaxy_catalog, prepare_final_star_catalog\n",
    "from bliss.datasets.background import get_constant_background\n",
    "from bliss.datasets.generate_blends import generate_dataset"
   ]
  },
  {
   "cell_type": "code",
   "execution_count": null,
   "metadata": {},
   "outputs": [
    {
     "data": {
      "text/plain": [
       "torch.float32"
      ]
     },
     "execution_count": null,
     "metadata": {},
     "output_type": "execute_result"
    }
   ],
   "source": [
    "get_constant_background(get_default_lsst_background(), (10, 10, 3, 3)).dtype\n"
   ]
  },
  {
   "cell_type": "code",
   "execution_count": null,
   "metadata": {},
   "outputs": [
    {
     "data": {
      "text/plain": [
       "torch.float32"
      ]
     },
     "execution_count": null,
     "metadata": {},
     "output_type": "execute_result"
    }
   ],
   "source": [
    "star_mags = prepare_final_star_catalog()\n",
    "cat = prepare_final_galaxy_catalog()\n",
    "star_mags.dtype"
   ]
  },
  {
   "cell_type": "code",
   "execution_count": null,
   "metadata": {},
   "outputs": [
    {
     "name": "stderr",
     "output_type": "stream",
     "text": [
      "100%|██████████| 10/10 [00:00<00:00, 13.66it/s]\n"
     ]
    }
   ],
   "source": [
    "ds = generate_dataset(10, cat, star_mags, get_default_lsst_psf(), 2)"
   ]
  },
  {
   "cell_type": "code",
   "execution_count": null,
   "metadata": {},
   "outputs": [
    {
     "name": "stdout",
     "output_type": "stream",
     "text": [
      "images torch.float32\n",
      "background torch.float32\n",
      "noiseless torch.float32\n",
      "uncentered_sources torch.float32\n",
      "centered_sources torch.float32\n",
      "paddings torch.float32\n",
      "star_bools torch.float32\n",
      "fluxes torch.float32\n",
      "galaxy_params torch.float32\n",
      "galaxy_bools torch.float32\n",
      "star_fluxes torch.float32\n",
      "n_sources torch.int64\n",
      "plocs torch.float32\n"
     ]
    }
   ],
   "source": [
    "for k,v in ds.items():\n",
    "    print(k, v.dtype)"
   ]
  },
  {
   "cell_type": "code",
   "execution_count": null,
   "metadata": {},
   "outputs": [
    {
     "data": {
      "text/plain": [
       "torch.float32"
      ]
     },
     "execution_count": null,
     "metadata": {},
     "output_type": "execute_result"
    }
   ],
   "source": [
    "from bliss.datasets.render_utils import render_one_star\n",
    "render_one_star(get_default_lsst_psf(), 10., 52, None).dtype"
   ]
  },
  {
   "cell_type": "code",
   "execution_count": null,
   "metadata": {},
   "outputs": [],
   "source": [
    "z"
   ]
  }
 ],
 "metadata": {
  "kernelspec": {
   "display_name": "bliss-deblender-W0ocb7P7-py3.10",
   "language": "python",
   "name": "python3"
  },
  "language_info": {
   "codemirror_mode": {
    "name": "ipython",
    "version": 3
   },
   "file_extension": ".py",
   "mimetype": "text/x-python",
   "name": "python",
   "nbconvert_exporter": "python",
   "pygments_lexer": "ipython3",
   "version": "3.10.12"
  }
 },
 "nbformat": 4,
 "nbformat_minor": 2
}
