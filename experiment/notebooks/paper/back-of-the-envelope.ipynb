{
 "cells": [
  {
   "cell_type": "code",
   "execution_count": null,
   "metadata": {},
   "outputs": [],
   "source": [
    "from astropy.table import Table\n",
    "import galsim\n",
    "import galcheat\n",
    "import numpy as np\n"
   ]
  },
  {
   "cell_type": "code",
   "execution_count": null,
   "metadata": {},
   "outputs": [],
   "source": [
    "cat = Table.read('../OneDegSq.fits')\n"
   ]
  },
  {
   "cell_type": "code",
   "execution_count": null,
   "metadata": {},
   "outputs": [
    {
     "name": "stdout",
     "output_type": "stream",
     "text": [
      "159.97305555555556 13.764792691358025\n"
     ]
    }
   ],
   "source": [
    "# density in arcmin with i < 27 (target depth)\n",
    "dens = len(cat[cat['i_ab'] < 27]) / (60 * 60)\n",
    "\n",
    "dens_arcsec = dens / 3600\n",
    "\n",
    "# corresponding to expected number of galaxies in 88x88 pixels with scale = 0.2 \n",
    "exp = (dens / (60 * 60)) * 88 * 88 * 0.2 * 0.2\n",
    "\n",
    "print(dens, exp )\n"
   ]
  },
  {
   "cell_type": "code",
   "execution_count": null,
   "metadata": {},
   "outputs": [
    {
     "data": {
      "text/plain": [
       "4.5988536"
      ]
     },
     "execution_count": null,
     "metadata": {},
     "output_type": "execute_result"
    }
   ],
   "source": [
    "# snr of a star with median fwhm = 0.75'' and depth \n",
    "\n",
    "from galcheat.utilities import mag2counts, mean_sky_level\n",
    "\n",
    "lsst = galcheat.get_survey('LSST')\n",
    "i_filt = lsst.get_filter('i')\n",
    "\n",
    "sky_level = mean_sky_level(lsst, i_filt).value\n",
    "\n",
    "i_mag_cut = 27\n",
    "flux = mag2counts(i_mag_cut, lsst, i_filt).value\n",
    "star = galsim.Gaussian(fwhm=0.75).withFlux(flux)\n",
    "\n",
    "# snr \n",
    "arr = star.drawImage(scale=0.2).array\n",
    "\n",
    "np.sqrt(np.sum((arr * arr) / (arr + sky_level)))\n",
    "\n"
   ]
  },
  {
   "cell_type": "code",
   "execution_count": null,
   "metadata": {},
   "outputs": [
    {
     "data": {
      "text/plain": [
       "0.00039682066201363053"
      ]
     },
     "execution_count": null,
     "metadata": {},
     "output_type": "execute_result"
    }
   ],
   "source": [
    "# Probability that there is more than one source per tile\n",
    "p = dens_arcsec * 4 * 4 * 0.2 * 0.2\n",
    "p_1 = 1 - (np.exp(-p) + p * np.exp(-p))\n",
    "p_1\n"
   ]
  },
  {
   "cell_type": "code",
   "execution_count": null,
   "metadata": {},
   "outputs": [],
   "source": []
  }
 ],
 "metadata": {
  "kernelspec": {
   "display_name": "bliss-deblender-W0ocb7P7-py3.10",
   "language": "python",
   "name": "python3"
  },
  "language_info": {
   "codemirror_mode": {
    "name": "ipython",
    "version": 3
   },
   "file_extension": ".py",
   "mimetype": "text/x-python",
   "name": "python",
   "nbconvert_exporter": "python",
   "pygments_lexer": "ipython3",
   "version": "3.10.12"
  }
 },
 "nbformat": 4,
 "nbformat_minor": 2
}
