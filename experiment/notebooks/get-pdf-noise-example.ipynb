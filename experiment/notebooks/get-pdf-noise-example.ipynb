{
 "cells": [
  {
   "cell_type": "code",
   "execution_count": null,
   "metadata": {},
   "outputs": [],
   "source": [
    "from astropy.table import Table\n",
    "\n",
    "import numpy as np\n",
    "from bliss.reporting import get_snr\n",
    "from bliss.datasets.galsim_blends import generate_individual_dataset\n",
    "\n",
    "import torch\n",
    "import h5py\n",
    "import matplotlib.pyplot as plt"
   ]
  },
  {
   "cell_type": "code",
   "execution_count": null,
   "metadata": {},
   "outputs": [
    {
     "name": "stdout",
     "output_type": "stream",
     "text": [
      "<KeysViewHDF5 ['background', 'galaxy_params', 'images', 'indices', 'noiseless']>\n"
     ]
    }
   ],
   "source": [
    "# load from h5py\n",
    "ds = {} \n",
    "with h5py.File(\"../data/datasets/all_individual_galaxies.hdf5\", \"r\") as f:\n",
    "    print(f.keys())\n",
    "    ds['images'] = f['images'][:]\n",
    "    ds['noiseless'] = f['noiseless'][:]\n",
    "    ds['background'] = f['background'][:]\n",
    "    ds['galaxy_params'] = f['galaxy_params'][:]\n",
    "    ds['indices'] = f['indices'][:]"
   ]
  },
  {
   "cell_type": "code",
   "execution_count": null,
   "metadata": {},
   "outputs": [
    {
     "data": {
      "text/plain": [
       "27.299997"
      ]
     },
     "execution_count": null,
     "metadata": {},
     "output_type": "execute_result"
    }
   ],
   "source": [
    "# max mag included\n",
    "ds['galaxy_params'][:, -2].max()"
   ]
  },
  {
   "cell_type": "code",
   "execution_count": null,
   "metadata": {},
   "outputs": [
    {
     "data": {
      "text/plain": [
       "torch.Size([66648, 1, 53, 53])"
      ]
     },
     "execution_count": null,
     "metadata": {},
     "output_type": "execute_result"
    }
   ],
   "source": [
    "images = torch.from_numpy(ds['images'][::10]) # subsample to avoid crashes\n",
    "noiseless = torch.from_numpy(ds['noiseless'][::10])\n",
    "images.shape"
   ]
  },
  {
   "cell_type": "code",
   "execution_count": null,
   "metadata": {},
   "outputs": [
    {
     "data": {
      "text/plain": [
       "torch.Size([53, 53])"
      ]
     },
     "execution_count": null,
     "metadata": {},
     "output_type": "execute_result"
    }
   ],
   "source": [
    "background = torch.from_numpy(ds['background'])\n",
    "background.shape"
   ]
  },
  {
   "cell_type": "code",
   "execution_count": null,
   "metadata": {},
   "outputs": [
    {
     "data": {
      "text/plain": [
       "torch.Size([66648])"
      ]
     },
     "execution_count": null,
     "metadata": {},
     "output_type": "execute_result"
    }
   ],
   "source": [
    "snr = get_snr(noiseless, background)\n",
    "snr.shape"
   ]
  },
  {
   "cell_type": "code",
   "execution_count": null,
   "metadata": {},
   "outputs": [
    {
     "data": {
      "text/plain": [
       "<matplotlib.lines.Line2D at 0x7f43107d9c90>"
      ]
     },
     "execution_count": null,
     "metadata": {},
     "output_type": "execute_result"
    },
    {
     "data": {
      "image/png": "[encoded data removed]",
      "text/plain": [
       "<Figure size 640x480 with 1 Axes>"
      ]
     },
     "metadata": {},
     "output_type": "display_data"
    }
   ],
   "source": [
    "plt.hist(snr.log10().numpy(), bins=51, range=(0, 3), histtype='step')\n",
    "plt.axvline(0.7, linestyle='--', color='k')"
   ]
  },
  {
   "cell_type": "code",
   "execution_count": null,
   "metadata": {},
   "outputs": [],
   "source": [
    "from matplotlib.backends.backend_pdf import PdfPages\n",
    "\n",
    "snrs = (3, 5, 7, 10, 15, 20, 30, 40, 50, 70, 90, 100, 250, 500)\n",
    "eps = 0.01\n",
    "\n",
    "with PdfPages(\"snr_example.pdf\") as pdf:\n",
    "    for _snr in snrs:\n",
    "        snr_min = _snr - eps * _snr\n",
    "        snr_max = _snr + eps * _snr\n",
    "\n",
    "        mask = (snr > snr_min) & ( snr < snr_max)\n",
    "        assert sum(mask) >= 5\n",
    "        _images = images[mask]\n",
    "        _inds = np.random.choice(np.arange(len(_images)), size=5, replace=False)\n",
    "        images_to_plot = _images[_inds]\n",
    "\n",
    "\n",
    "        fig, axes = plt.subplots(nrows=1, ncols=5, figsize=(28, 7))\n",
    "        fig.suptitle(f\"SNR={_snr}\", fontsize=28)\n",
    "        axs = axes.ravel()\n",
    "        for ii, ax in enumerate(axs):\n",
    "            ax.imshow(images_to_plot[ii, 0])\n",
    "            ax.set_axis_off()\n",
    "        plt.tight_layout()\n",
    "        pdf.savefig()\n",
    "        plt.close()\n"
   ]
  },
  {
   "cell_type": "code",
   "execution_count": null,
   "metadata": {},
   "outputs": [],
   "source": []
  }
 ],
 "metadata": {
  "kernelspec": {
   "display_name": "bliss-deblender-W0ocb7P7-py3.10",
   "language": "python",
   "name": "python3"
  },
  "language_info": {
   "codemirror_mode": {
    "name": "ipython",
    "version": 3
   },
   "file_extension": ".py",
   "mimetype": "text/x-python",
   "name": "python",
   "nbconvert_exporter": "python",
   "pygments_lexer": "ipython3",
   "version": "3.10.12"
  }
 },
 "nbformat": 4,
 "nbformat_minor": 2
}
