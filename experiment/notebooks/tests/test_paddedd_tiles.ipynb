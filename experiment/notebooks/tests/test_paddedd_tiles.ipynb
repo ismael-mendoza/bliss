{
 "cells": [
  {
   "cell_type": "code",
   "execution_count": null,
   "metadata": {},
   "outputs": [],
   "source": [
    "from bliss.datasets.galsim_blends import generate_padded_tiles"
   ]
  },
  {
   "cell_type": "code",
   "execution_count": null,
   "metadata": {},
   "outputs": [],
   "source": [
    "from astropy.table import Table\n",
    "from bliss.datasets.table_utils import column_to_tensor\n",
    "from bliss.datasets.lsst import prepare_final_galaxy_catalog, prepare_final_star_catalog\n",
    "from bliss.datasets.lsst import get_default_lsst_psf\n",
    "\n",
    "import matplotlib.pyplot as plt \n"
   ]
  },
  {
   "cell_type": "code",
   "execution_count": null,
   "metadata": {},
   "outputs": [],
   "source": [
    "_cat = Table.read('../../../data/OneDegSq.fits')\n",
    "_star_mags = column_to_tensor(Table.read(\"../../../data/stars_med_june2018.fits\"), \"i_ab\")\n",
    "CATSIM_CAT = prepare_final_galaxy_catalog(_cat)\n",
    "CATSIM_CAT = CATSIM_CAT[CATSIM_CAT['i_ab'] < 20]\n",
    "STAR_MAGS = prepare_final_star_catalog(_star_mags)\n"
   ]
  },
  {
   "cell_type": "code",
   "execution_count": null,
   "metadata": {},
   "outputs": [],
   "source": [
    "\n",
    "psf = get_default_lsst_psf()"
   ]
  },
  {
   "cell_type": "code",
   "execution_count": null,
   "metadata": {},
   "outputs": [],
   "source": [
    "ds =generate_padded_tiles(1000, CATSIM_CAT, STAR_MAGS, psf, p_source_in=1., galaxy_prob=1.)"
   ]
  },
  {
   "cell_type": "code",
   "execution_count": null,
   "metadata": {},
   "outputs": [
    {
     "data": {
      "text/plain": [
       "(torch.Size([1000, 1, 52, 52]), torch.Size([1000, 1, 52, 52]))"
      ]
     },
     "execution_count": null,
     "metadata": {},
     "output_type": "execute_result"
    }
   ],
   "source": [
    "ds['images'].shape, ds['uncentered_sources'].shape"
   ]
  },
  {
   "cell_type": "code",
   "execution_count": null,
   "metadata": {},
   "outputs": [
    {
     "data": {
      "text/plain": [
       "tensor([[6.0158e-18, 3.7664e-16, 0.0000e+00,  ..., 2.8007e+02, 1.9987e+01,\n",
       "         7.2310e+06],\n",
       "        [1.1975e-14, 3.8032e-15, 0.0000e+00,  ..., 2.2032e+01, 1.5778e+01,\n",
       "         3.4887e+08],\n",
       "        [2.8514e-16, 1.8858e-17, 0.0000e+00,  ..., 3.2787e+02, 1.9999e+01,\n",
       "         7.1524e+06],\n",
       "        ...,\n",
       "        [1.8805e-17, 1.2782e-15, 0.0000e+00,  ..., 3.4724e+02, 1.8722e+01,\n",
       "         2.3173e+07],\n",
       "        [3.4189e-18, 9.5624e-16, 0.0000e+00,  ..., 9.7815e-01, 1.9365e+01,\n",
       "         1.2819e+07],\n",
       "        [2.2204e-17, 7.8587e-16, 0.0000e+00,  ..., 3.2085e+02, 1.9714e+01,\n",
       "         9.2984e+06]])"
      ]
     },
     "execution_count": null,
     "metadata": {},
     "output_type": "execute_result"
    }
   ],
   "source": [
    "ds['tile_params']['galaxy_params'].squeeze()"
   ]
  },
  {
   "cell_type": "code",
   "execution_count": null,
   "metadata": {},
   "outputs": [
    {
     "data": {
      "text/plain": [
       "<matplotlib.collections.PathCollection at 0x7f1478d16c80>"
      ]
     },
     "execution_count": null,
     "metadata": {},
     "output_type": "execute_result"
    },
    {
     "data": {
      "image/png": "[encoded data removed]",
      "text/plain": [
       "<Figure size 640x480 with 1 Axes>"
      ]
     },
     "metadata": {},
     "output_type": "display_data"
    }
   ],
   "source": [
    "import numpy as np\n",
    "idx = np.random.choice(range(1000))\n",
    "plt.imshow(ds['images'][idx, 0])\n",
    "plt.axvline(24-0.5)\n",
    "plt.axvline(28-0.5)\n",
    "\n",
    "plt.axhline(24-0.5)\n",
    "plt.axhline(28-0.5)\n",
    "\n",
    "bp = 24\n",
    "y, x = ds['tile_params']['locs'][idx]\n",
    "plt.scatter(x*4+bp-0.5, y*4+bp-0.5, marker='x', color='r')"
   ]
  },
  {
   "cell_type": "code",
   "execution_count": null,
   "metadata": {},
   "outputs": [
    {
     "data": {
      "text/plain": [
       "tensor([0.5304, 0.1536])"
      ]
     },
     "execution_count": null,
     "metadata": {},
     "output_type": "execute_result"
    }
   ],
   "source": [
    "ds['tile_params']['locs'][idx]"
   ]
  },
  {
   "cell_type": "code",
   "execution_count": null,
   "metadata": {},
   "outputs": [],
   "source": []
  }
 ],
 "metadata": {
  "kernelspec": {
   "display_name": "bliss-deblender-W0ocb7P7-py3.10",
   "language": "python",
   "name": "python3"
  },
  "language_info": {
   "codemirror_mode": {
    "name": "ipython",
    "version": 3
   },
   "file_extension": ".py",
   "mimetype": "text/x-python",
   "name": "python",
   "nbconvert_exporter": "python",
   "pygments_lexer": "ipython3",
   "version": "3.10.12"
  }
 },
 "nbformat": 4,
 "nbformat_minor": 2
}
