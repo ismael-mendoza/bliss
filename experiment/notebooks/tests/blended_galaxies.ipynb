{
 "cells": [
  {
   "cell_type": "code",
   "execution_count": null,
   "metadata": {},
   "outputs": [],
   "source": [
    "from astropy.table import Table\n",
    "import torch\n",
    "\n",
    "import matplotlib.pyplot as plt\n",
    "from bliss.reporting import get_snr\n",
    "\n",
    "import numpy as np"
   ]
  },
  {
   "cell_type": "code",
   "execution_count": null,
   "metadata": {},
   "outputs": [],
   "source": [
    "# check same things as in individual galaxy case \n",
    "    # carefully flattening and removing 0 galaxies\n",
    "\n",
    "# display "
   ]
  }
 ],
 "metadata": {
  "kernelspec": {
   "display_name": "bliss-deblender-W0ocb7P7-py3.10",
   "language": "python",
   "name": "python3"
  },
  "language_info": {
   "codemirror_mode": {
    "name": "ipython",
    "version": 3
   },
   "file_extension": ".py",
   "mimetype": "text/x-python",
   "name": "python",
   "nbconvert_exporter": "python",
   "pygments_lexer": "ipython3",
   "version": "3.10.12"
  }
 },
 "nbformat": 4,
 "nbformat_minor": 2
}
