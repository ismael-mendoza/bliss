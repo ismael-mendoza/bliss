{
 "cells": [
  {
   "cell_type": "code",
   "execution_count": null,
   "metadata": {},
   "outputs": [],
   "source": [
    "%load_ext autoreload\n",
    "%autoreload 2"
   ]
  },
  {
   "cell_type": "code",
   "execution_count": null,
   "metadata": {},
   "outputs": [],
   "source": [
    "import os\n",
    "\n",
    "os.environ[\"CUDA_VISIBLE_DEVICES\"] = \"3\""
   ]
  },
  {
   "cell_type": "code",
   "execution_count": null,
   "metadata": {},
   "outputs": [],
   "source": [
    "from einops import rearrange\n",
    "import math\n",
    "import torch\n",
    "import numpy as np\n",
    "from tqdm import tqdm\n",
    "import matplotlib.pyplot as plt\n",
    "\n",
    "from bliss.encoders.deblend import GalaxyEncoder\n",
    "from bliss.catalog import TileCatalog, FullCatalog\n",
    "\n",
    "import sep_pjw as sep\n",
    "\n",
    "from bliss.datasets.lsst import BACKGROUND"
   ]
  },
  {
   "cell_type": "code",
   "execution_count": null,
   "metadata": {},
   "outputs": [],
   "source": [
    "def asinh_map(x, q=0.01, stretch=1, minimum=0):\n",
    "    return np.arcsinh(q * (x - minimum) / stretch) / q"
   ]
  },
  {
   "cell_type": "code",
   "execution_count": null,
   "metadata": {},
   "outputs": [],
   "source": [
    "device = torch.device(\"cuda:0\")\n",
    "TILE_SLEN = 4\n",
    "PTILE_SLEN = 52\n",
    "BP = 24\n",
    "SLEN = 40"
   ]
  },
  {
   "cell_type": "code",
   "execution_count": null,
   "metadata": {},
   "outputs": [],
   "source": [
    "# model\n",
    "ae_path = \"../../models/autoencoder_42_42.pt\"\n",
    "deblend = GalaxyEncoder(ae_path, lr=1e-4).to(device).eval()\n",
    "_ = deblend.load_state_dict(\n",
    "    torch.load(f\"../../models/deblender_42_42.pt\", map_location=device, weights_only=True)\n",
    ")\n",
    "deblend = deblend.requires_grad_(False)"
   ]
  },
  {
   "cell_type": "code",
   "execution_count": null,
   "metadata": {},
   "outputs": [
    {
     "data": {
      "text/plain": [
       "dict_keys(['images', 'noiseless', 'uncentered_sources', 'centered_sources', 'paddings', 'fluxes', 'star_bools', 'plocs', 'n_sources', 'galaxy_params', 'star_fluxes', 'galaxy_bools'])"
      ]
     },
     "execution_count": null,
     "metadata": {},
     "output_type": "execute_result"
    }
   ],
   "source": [
    "# data\n",
    "from bliss.datasets.io import load_dataset_npz\n",
    "\n",
    "test_ds = load_dataset_npz(\"../../data/datasets/test_ds_42.npz\")\n",
    "test_ds.keys()"
   ]
  },
  {
   "cell_type": "code",
   "execution_count": null,
   "metadata": {},
   "outputs": [
    {
     "data": {
      "text/plain": [
       "(torch.Size([1000, 1, 88, 88]),\n",
       " torch.Size([1000, 1, 88, 88]),\n",
       " torch.Size([1000, 10, 1, 88, 88]))"
      ]
     },
     "execution_count": null,
     "metadata": {},
     "output_type": "execute_result"
    }
   ],
   "source": [
    "# use 1000 images for now to speedup iteration time\n",
    "test_ds_sample = {p: q[:1000] for p, q in test_ds.items()}\n",
    "images = test_ds_sample[\"images\"]\n",
    "single_centered = test_ds_sample['centered_sources']\n",
    "paddings = test_ds_sample['paddings']\n",
    "images.shape, paddings.shape,  single_centered.shape"
   ]
  },
  {
   "cell_type": "code",
   "execution_count": null,
   "metadata": {},
   "outputs": [],
   "source": [
    "# snrs = torch.zeros_like(test_ds_sample['fluxes'])\n",
    "# n_batches = test_ds_sample['n_sources'].shape[0]\n",
    "# for ii in range(n_batches):\n",
    "#     n_sources =  test_ds_sample['n_sources'][ii].item()\n",
    "#     for jj in range(n_sources):\n",
    "#         image = single_centered[ii, jj, 0, :, :].numpy()\n",
    "#         flux, fluxerr, _ = sep.sum_circle(image, [43.5], [43.5], 5.0, err=BACKGROUND.sqrt())\n",
    "#         snrs[ii, jj, 0] = flux.item() / fluxerr.item()\n",
    "\n",
    "# test_ds_sample['snr'] = snrs"
   ]
  },
  {
   "cell_type": "code",
   "execution_count": null,
   "metadata": {},
   "outputs": [
    {
     "data": {
      "text/plain": [
       "torch.Size([1000, 10, 10, 2])"
      ]
     },
     "execution_count": null,
     "metadata": {},
     "output_type": "execute_result"
    }
   ],
   "source": [
    "# get truth catalog\n",
    "exclude = (\"images\", \"uncentered_sources\", \"centered_sources\", \"noiseless\", \"paddings\")\n",
    "slen = images.shape[-1] - 2 * BP\n",
    "true_cat_dict = {p: q for p, q in test_ds_sample.items() if p not in exclude}\n",
    "_truth = FullCatalog(slen, slen, true_cat_dict)\n",
    "truth_tile_cat = _truth.to_tile_params(TILE_SLEN, ignore_extra_sources=True)\n",
    "truth = truth_tile_cat.to_full_params() # so we can flatten and catalogs are exactly aligned\n",
    "truth_tile_cat.locs.shape"
   ]
  },
  {
   "cell_type": "code",
   "execution_count": null,
   "metadata": {},
   "outputs": [
    {
     "data": {
      "text/plain": [
       "(torch.Size([1000, 1, 88, 88]), torch.Size([1000, 10, 1, 88, 88]))"
      ]
     },
     "execution_count": null,
     "metadata": {},
     "output_type": "execute_result"
    }
   ],
   "source": [
    "images.shape, single_centered.shape"
   ]
  },
  {
   "cell_type": "code",
   "execution_count": null,
   "metadata": {},
   "outputs": [],
   "source": [
    "# get true fluxes, fluxerr, snr\n",
    "from copy import deepcopy\n",
    "from einops import reduce\n",
    "\n",
    "n_batches = truth.n_sources.shape[0]\n",
    "\n",
    "fluxes = torch.zeros((n_batches, truth.max_n_sources, 1))\n",
    "fluxerrs = torch.zeros((n_batches, truth.max_n_sources, 1))\n",
    "snrs = torch.zeros((n_batches, truth.max_n_sources, 1))\n",
    "\n",
    "\n",
    "for ii in range(n_batches):\n",
    "    n_sources = truth.n_sources[ii].item()\n",
    "    _plocs = truth.plocs[ii]\n",
    "    # TODO: Should we remove the padding for this calculation? how about for detections?\n",
    "    image = images[ii, 0] - paddings[ii, 0]\n",
    "    y = _plocs[:, 0].numpy() + BP - 0.5\n",
    "    x = _plocs[:, 1].numpy() + BP - 0.5\n",
    "\n",
    "    # we obtain new 'residual images' which consist of subtracting every galaxy except one \n",
    "    # from full images \n",
    "    each_galaxy = single_centered[ii, :, 0] # n h w\n",
    "    all_galaxies = rearrange(reduce(each_galaxy, 'n h w -> h w', 'sum'), 'h w -> 1 h w')\n",
    "    other_galaxies = all_galaxies - each_galaxy\n",
    "    residual_images = rearrange(image, 'h w -> 1 h w') - other_galaxies\n",
    "\n",
    "    _fluxes = [] \n",
    "    _fluxerrs = [] \n",
    "    for jj in range(n_sources):\n",
    "        f, ferr, _ = sep.sum_circle(residual_images[jj].numpy(), [x[jj]], [y[jj]], 5.0, err=BACKGROUND.sqrt().item())\n",
    "        _fluxes.append(f.item())\n",
    "        _fluxerrs.append(ferr.item())\n",
    "\n",
    "    \n",
    "    fluxes[ii, :n_sources, 0] = torch.tensor(_fluxes)\n",
    "    fluxerrs[ii, :n_sources, 0] = torch.tensor(_fluxerrs)\n",
    "    snrs[ii, :n_sources, 0] = torch.tensor(_fluxes) / torch.tensor(_fluxerrs)\n",
    "\n",
    "truth['fluxes_sep'] = fluxes\n",
    "truth['fluxerrs'] = fluxerrs\n",
    "truth['snr'] = snrs"
   ]
  },
  {
   "cell_type": "code",
   "execution_count": null,
   "metadata": {},
   "outputs": [
    {
     "data": {
      "text/plain": [
       "(tensor([[ 27835.0371],\n",
       "         [ 35917.4336],\n",
       "         [ 27555.4902],\n",
       "         [ 10177.7334],\n",
       "         [146925.1562],\n",
       "         [     0.0000],\n",
       "         [     0.0000],\n",
       "         [     0.0000],\n",
       "         [     0.0000],\n",
       "         [     0.0000]]),\n",
       " tensor([[ 47641.],\n",
       "         [ 34415.],\n",
       "         [ 42460.],\n",
       "         [ 14458.],\n",
       "         [210191.],\n",
       "         [     0.],\n",
       "         [     0.],\n",
       "         [     0.],\n",
       "         [     0.],\n",
       "         [     0.]]),\n",
       " tensor([[ 7.3207],\n",
       "         [ 9.4680],\n",
       "         [ 7.2545],\n",
       "         [ 2.6815],\n",
       "         [38.7302],\n",
       "         [ 0.0000],\n",
       "         [ 0.0000],\n",
       "         [ 0.0000],\n",
       "         [ 0.0000],\n",
       "         [ 0.0000]]))"
      ]
     },
     "execution_count": null,
     "metadata": {},
     "output_type": "execute_result"
    }
   ],
   "source": [
    "# check correctness\n",
    "truth['fluxes_sep'][1] , truth['fluxes'][1], truth['snr'][1]"
   ]
  },
  {
   "cell_type": "code",
   "execution_count": null,
   "metadata": {},
   "outputs": [
    {
     "data": {
      "text/plain": [
       "(tensor(3208), tensor(3160))"
      ]
     },
     "execution_count": null,
     "metadata": {},
     "output_type": "execute_result"
    }
   ],
   "source": [
    "# difference thanks to objects whose centroids fall in the same tile. \n",
    "# should compare with latter one\n",
    "_truth.n_sources.sum(), truth.n_sources.sum()"
   ]
  },
  {
   "cell_type": "markdown",
   "metadata": {},
   "source": [
    "## Use true centroid and galaxy detections"
   ]
  },
  {
   "cell_type": "code",
   "execution_count": null,
   "metadata": {},
   "outputs": [
    {
     "name": "stderr",
     "output_type": "stream",
     "text": [
      "  0%|          | 0/20 [00:00<?, ?it/s]"
     ]
    },
    {
     "name": "stderr",
     "output_type": "stream",
     "text": [
      "100%|██████████| 20/20 [00:00<00:00, 35.22it/s]\n"
     ]
    },
    {
     "data": {
      "text/plain": [
       "torch.Size([1000, 10, 10, 8])"
      ]
     },
     "execution_count": null,
     "metadata": {},
     "output_type": "execute_result"
    }
   ],
   "source": [
    "# run binary encoder on true locations\n",
    "batch_size = 50\n",
    "n_images = images.shape[0]\n",
    "n_batches = math.ceil(n_images / batch_size)\n",
    "\n",
    "tiled_gparams = [] \n",
    "\n",
    "for ii in tqdm(range(n_batches)):\n",
    "    start, end = ii*50, (ii+1)*50\n",
    "    bimages = images[start:end].to(device)\n",
    "    btile_locs = truth_tile_cat.locs[start:end].to(device)\n",
    "    _tile_gparams = deblend.variational_mode(bimages, btile_locs).to('cpu')\n",
    "    tiled_gparams.append(_tile_gparams)\n",
    "\n",
    "tile_gparams = torch.concatenate(tiled_gparams, axis=0) * truth_tile_cat['galaxy_bools']\n",
    "tile_gparams.shape"
   ]
  },
  {
   "cell_type": "code",
   "execution_count": null,
   "metadata": {},
   "outputs": [],
   "source": [
    "# create new catalog with these booleans and prob\n",
    "from copy import deepcopy\n",
    "est_tiled = deepcopy(truth_tile_cat.to_dict())\n",
    "est_tiled['galaxy_params'] = tile_gparams\n",
    "\n",
    "est_tiled_cat = TileCatalog(TILE_SLEN, est_tiled)\n",
    "est = est_tiled_cat.to_full_params()"
   ]
  },
  {
   "cell_type": "code",
   "execution_count": null,
   "metadata": {},
   "outputs": [
    {
     "name": "stderr",
     "output_type": "stream",
     "text": [
      "100%|██████████| 10/10 [00:32<00:00,  3.28s/it]\n"
     ]
    }
   ],
   "source": [
    "# now we need to get full sized images with each individual galaxy, in the correct location. \n",
    "# this is so we can measure flux on images that have every galaxy except one subtracted\n",
    "# this seems difficult given our current functions\n",
    "#  we can actually cleverly zero out galaxy_bools to achieve this\n",
    "from copy import deepcopy\n",
    "\n",
    "from bliss.render_tiles import render_galaxy_ptiles, reconstruct_image_from_ptiles\n",
    "\n",
    "batch_size = 50\n",
    "n_images = images.shape[0]\n",
    "n_batches = math.ceil(n_images / batch_size)\n",
    "\n",
    "\n",
    "recon_centered = torch.zeros((n_images, est.max_n_sources, 1, images.shape[-2], images.shape[-1]))\n",
    "\n",
    "for ii in tqdm(range(est.max_n_sources)):\n",
    "    # get mask\n",
    "    mask = torch.arange(est.max_n_sources)\n",
    "    mask = mask[mask!=ii]\n",
    "\n",
    "    # make a copy\n",
    "    est_ii = FullCatalog(SLEN, SLEN, deepcopy(est.to_dict()))\n",
    "    est_ii['galaxy_bools'][:, mask, :] = 0.\n",
    "    est_ii['galaxy_bools'] = est_ii['galaxy_bools'].contiguous()\n",
    "    est_tiled_ii = est_ii.to_tile_params(TILE_SLEN, ignore_extra_sources=True)\n",
    "\n",
    "    images_ii = []\n",
    "    for jj in range(n_batches):\n",
    "        start, end = jj*50, (jj+1)*50\n",
    "        blocs = est_tiled_ii.locs[start:end].to(device)\n",
    "        bgparams = est_tiled_ii['galaxy_params'][start:end].to(device)\n",
    "        bgbools = est_tiled_ii['galaxy_bools'][start:end].to(device)\n",
    "\n",
    "\n",
    "        galaxy_tiles = render_galaxy_ptiles(deblend._dec, blocs, bgparams, bgbools, PTILE_SLEN, TILE_SLEN).to('cpu')\n",
    "\n",
    "        galaxy_images = reconstruct_image_from_ptiles(galaxy_tiles, TILE_SLEN)\n",
    "        images_ii.append(galaxy_images)\n",
    "    \n",
    "    images_ii = torch.concatenate(images_ii, axis=0)\n",
    "    recon_centered[:, ii, :, :, :] = images_ii\n",
    "\n"
   ]
  },
  {
   "cell_type": "code",
   "execution_count": null,
   "metadata": {},
   "outputs": [
    {
     "data": {
      "text/plain": [
       "(tensor([[ 19812.3457],\n",
       "         [ 64738.2305],\n",
       "         [ 18670.8848],\n",
       "         [ 12448.4238],\n",
       "         [175281.5625],\n",
       "         [     0.0000],\n",
       "         [     0.0000],\n",
       "         [     0.0000],\n",
       "         [     0.0000],\n",
       "         [     0.0000]]),\n",
       " tensor([[ 34351.0391],\n",
       "         [ 42380.6094],\n",
       "         [ 38663.7422],\n",
       "         [ 14431.2012],\n",
       "         [209687.2500],\n",
       "         [     0.0000],\n",
       "         [     0.0000],\n",
       "         [     0.0000],\n",
       "         [     0.0000],\n",
       "         [     0.0000]]))"
      ]
     },
     "execution_count": null,
     "metadata": {},
     "output_type": "execute_result"
    }
   ],
   "source": [
    "recon_centered[1].sum(axis=(-1, -2)), single_centered[1].sum(axis=(-1, -2))"
   ]
  },
  {
   "cell_type": "code",
   "execution_count": null,
   "metadata": {},
   "outputs": [],
   "source": [
    "# get estimated SNR both for blended and deblended images\n",
    "\n",
    "# first blended\n",
    "from copy import deepcopy\n",
    "\n",
    "est_blended = FullCatalog(SLEN, SLEN, deepcopy(truth.to_dict()))\n",
    "n_batches = est_blended.n_sources.shape[0]\n",
    "\n",
    "fluxes = torch.zeros((n_batches, truth.max_n_sources, 1))\n",
    "fluxerrs = torch.zeros((n_batches, truth.max_n_sources, 1))\n",
    "\n",
    "for ii in range(n_batches):\n",
    "    n_sources = truth.n_sources[ii].item()\n",
    "    _plocs = truth.plocs[ii]\n",
    "    y = _plocs[:, 0].numpy() + BP - 0.5\n",
    "    x = _plocs[:, 1].numpy() + BP - 0.5\n",
    "    image = images[ii, 0] - paddings[ii, 0]\n",
    "    flux, fluxerr, _ = sep.sum_circle(image.numpy(), x, y, 5.0, err=BACKGROUND.sqrt().item())\n",
    "    \n",
    "    fluxes[ii, :n_sources, 0] = torch.from_numpy(flux)[:n_sources]\n",
    "    fluxerrs[ii, :n_sources, 0] = torch.from_numpy(fluxerr)[:n_sources]\n",
    "\n",
    "est_blended['fluxes_sep'] = fluxes\n",
    "est_blended['fluxerrs'] = fluxerrs"
   ]
  },
  {
   "cell_type": "code",
   "execution_count": null,
   "metadata": {},
   "outputs": [],
   "source": [
    "# now deblended\n",
    "n_batches = est_blended.n_sources.shape[0]\n",
    "\n",
    "fluxes = torch.zeros((n_batches, truth.max_n_sources, 1))\n",
    "fluxerrs = torch.zeros((n_batches, truth.max_n_sources, 1))\n",
    "\n",
    "for ii in range(n_batches):\n",
    "    n_sources = est.n_sources[ii].item()\n",
    "    _plocs = est.plocs[ii]\n",
    "    y = _plocs[:, 0].numpy() + BP - 0.5\n",
    "    x = _plocs[:, 1].numpy() + BP - 0.5\n",
    "    image = images[ii, 0] - paddings[ii, 0]\n",
    "\n",
    "    # we obtain new 'residual images' which consist of subtracting every galaxy except one \n",
    "    # from full images \n",
    "    each_galaxy = recon_centered[ii, :, 0] # n h w\n",
    "    all_galaxies = rearrange(reduce(each_galaxy, 'n h w -> h w', 'sum'), 'h w -> 1 h w')\n",
    "    other_galaxies = all_galaxies - each_galaxy\n",
    "    residual_images = rearrange(image, 'h w -> 1 h w') - other_galaxies    \n",
    "\n",
    "\n",
    "    _fluxes = [] \n",
    "    _fluxerrs = [] \n",
    "    for jj in range(n_sources):\n",
    "        f, ferr, _ = sep.sum_circle(residual_images[jj].numpy(), [x[jj]], [y[jj]], 5.0, err=BACKGROUND.sqrt().item())\n",
    "        _fluxes.append(f.item())\n",
    "        _fluxerrs.append(ferr.item())\n",
    "\n",
    "    \n",
    "    fluxes[ii, :n_sources, 0] = torch.tensor(_fluxes)\n",
    "    fluxerrs[ii, :n_sources, 0] = torch.tensor(_fluxerrs)\n",
    "\n",
    "est['fluxes_sep'] = fluxes\n",
    "est['fluxerrs'] = fluxerrs"
   ]
  },
  {
   "cell_type": "code",
   "execution_count": null,
   "metadata": {},
   "outputs": [
    {
     "data": {
      "text/plain": [
       "tensor(255)"
      ]
     },
     "execution_count": null,
     "metadata": {},
     "output_type": "execute_result"
    }
   ],
   "source": [
    "# some objects have negative snr (calculated via sep)\n",
    "torch.sum((truth['galaxy_bools'] == 1 ) * (truth['snr'] < 0 ))"
   ]
  },
  {
   "cell_type": "code",
   "execution_count": null,
   "metadata": {},
   "outputs": [
    {
     "data": {
      "text/plain": [
       "(torch.Size([2630]), torch.Size([2630]))"
      ]
     },
     "execution_count": null,
     "metadata": {},
     "output_type": "execute_result"
    }
   ],
   "source": [
    "# now compare residuals of each of the three catalogs! \n",
    "# all should be aligned\n",
    "mask = (truth['snr'].flatten() > 0) * (truth['galaxy_bools'].flatten() == 1)\n",
    "mask = mask.bool()\n",
    "snr = truth['snr'].flatten()[mask]\n",
    "tfluxes = truth['fluxes_sep'].flatten()[mask]\n",
    "efluxes = est['fluxes_sep'].flatten()[mask]\n",
    "bl_fluxes = est_blended['fluxes_sep'].flatten()[mask]\n",
    "\n",
    "# deficiency due to snr < 0 objects\n",
    "tfluxes.shape, bl_fluxes.shape"
   ]
  },
  {
   "cell_type": "code",
   "execution_count": null,
   "metadata": {},
   "outputs": [
    {
     "data": {
      "image/png": "[encoded data removed]",
      "text/plain": [
       "<Figure size 640x480 with 1 Axes>"
      ]
     },
     "metadata": {},
     "output_type": "display_data"
    }
   ],
   "source": [
    "res1 = (bl_fluxes - tfluxes) / tfluxes\n",
    "res2 = (efluxes - tfluxes) / tfluxes\n",
    "plt.scatter(snr, res1, marker='o', color='r', s=3)\n",
    "plt.scatter(snr, res2, marker='o', color='b', s=3)\n",
    "plt.ylim(-0.5, 0.5)\n",
    "plt.xscale('log')"
   ]
  },
  {
   "cell_type": "code",
   "execution_count": null,
   "metadata": {},
   "outputs": [
    {
     "name": "stderr",
     "output_type": "stream",
     "text": [
      "/home/imendoza/bliss/bliss/plotting.py:260: UserWarning: indexing with dtype torch.uint8 is now deprecated, please use a dtype torch.bool instead. (Triggered internally at ../aten/src/ATen/native/IndexingUtils.h:27.)\n",
      "  y_bin: np.ndarray = y[keep_x]\n"
     ]
    },
    {
     "data": {
      "image/png": "[encoded data removed]",
      "text/plain": [
       "<Figure size 700x700 with 1 Axes>"
      ]
     },
     "metadata": {},
     "output_type": "display_data"
    }
   ],
   "source": [
    "from bliss.plotting import scatter_shade_plot\n",
    "\n",
    "fig, ax = plt.subplots(1, 1, figsize=(7,7))\n",
    "scatter_shade_plot(ax, snr.log10(), res1, delta=0.2, alpha=0.5, qs=(0.1, 0.9), xlims=(0, 3), color='r')\n",
    "scatter_shade_plot(ax, snr.log10(), res2, delta=0.2, alpha=0.5, qs=(0.1, 0.9), xlims=(0, 3), color='b')"
   ]
  },
  {
   "cell_type": "code",
   "execution_count": null,
   "metadata": {},
   "outputs": [
    {
     "data": {
      "text/plain": [
       "tensor([[19.1155],\n",
       "        [ 5.0015],\n",
       "        [ 4.2776],\n",
       "        [ 0.0000],\n",
       "        [ 0.0000],\n",
       "        [ 0.0000],\n",
       "        [ 0.0000],\n",
       "        [ 0.0000],\n",
       "        [ 0.0000],\n",
       "        [ 0.0000]])"
      ]
     },
     "execution_count": null,
     "metadata": {},
     "output_type": "execute_result"
    }
   ],
   "source": [
    "truth['snr'][0]"
   ]
  },
  {
   "cell_type": "code",
   "execution_count": null,
   "metadata": {},
   "outputs": [],
   "source": [
    "# # check correctness\n",
    "# idx = 11 # stars too\n",
    "# centered_images[idx, :, 0, :, :].sum(axis=(-1, -2)), est['fluxes'][idx], est['galaxy_bools'][idx], truth['galaxy_bools'][idx], est.n_sources[idx]"
   ]
  },
  {
   "cell_type": "code",
   "execution_count": null,
   "metadata": {},
   "outputs": [],
   "source": []
  }
 ],
 "metadata": {
  "kernelspec": {
   "display_name": "bliss-deblender-W0ocb7P7-py3.10",
   "language": "python",
   "name": "python3"
  },
  "language_info": {
   "codemirror_mode": {
    "name": "ipython",
    "version": 3
   },
   "file_extension": ".py",
   "mimetype": "text/x-python",
   "name": "python",
   "nbconvert_exporter": "python",
   "pygments_lexer": "ipython3",
   "version": "3.10.12"
  }
 },
 "nbformat": 4,
 "nbformat_minor": 2
}
