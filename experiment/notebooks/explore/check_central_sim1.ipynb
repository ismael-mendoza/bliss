{
 "cells": [
  {
   "cell_type": "code",
   "execution_count": null,
   "id": "0",
   "metadata": {},
   "outputs": [],
   "source": [
    "%load_ext autoreload\n",
    "%autoreload 2"
   ]
  },
  {
   "cell_type": "code",
   "execution_count": null,
   "id": "1",
   "metadata": {},
   "outputs": [],
   "source": [
    "import bliss\n",
    "from bliss.datasets.central_sim import create_central_sim_dataset\n",
    "\n",
    "from bliss.datasets.lsst import prepare_final_galaxy_catalog, get_default_lsst_psf\n",
    "\n",
    "import matplotlib.pyplot as plt\n",
    "import numpy as np "
   ]
  },
  {
   "cell_type": "code",
   "execution_count": null,
   "id": "2",
   "metadata": {},
   "outputs": [],
   "source": [
    "bp = 24\n",
    "tile_slen = 5"
   ]
  },
  {
   "cell_type": "code",
   "execution_count": null,
   "id": "3",
   "metadata": {},
   "outputs": [
    {
     "data": {
      "text/plain": [
       "575903"
      ]
     },
     "execution_count": null,
     "metadata": {},
     "output_type": "execute_result"
    }
   ],
   "source": [
    "cat = prepare_final_galaxy_catalog()\n",
    "psf = get_default_lsst_psf()\n",
    "len(cat)"
   ]
  },
  {
   "cell_type": "code",
   "execution_count": null,
   "id": "4",
   "metadata": {},
   "outputs": [
    {
     "name": "stderr",
     "output_type": "stream",
     "text": [
      "  0%|          | 0/100 [00:00<?, ?it/s]"
     ]
    },
    {
     "name": "stderr",
     "output_type": "stream",
     "text": [
      "100%|██████████| 100/100 [00:12<00:00,  7.72it/s]\n"
     ]
    }
   ],
   "source": [
    "ds = create_central_sim_dataset(n_samples=100, catsim_table=cat, psf=psf, slen=35, max_n_sources=10)"
   ]
  },
  {
   "cell_type": "code",
   "execution_count": null,
   "id": "5",
   "metadata": {},
   "outputs": [
    {
     "data": {
      "text/plain": [
       "dict_keys(['images', 'noiseless', 'paddings', 'uncentered_sources', 'centered_sources', 'plocs', 'n_sources', 'galaxy_bools', 'galaxy_params', 'star_bools', 'star_fluxes'])"
      ]
     },
     "execution_count": null,
     "metadata": {},
     "output_type": "execute_result"
    }
   ],
   "source": [
    "ds.keys()"
   ]
  },
  {
   "cell_type": "code",
   "execution_count": null,
   "id": "6",
   "metadata": {},
   "outputs": [
    {
     "data": {
      "text/plain": [
       "(torch.Size([100, 1, 83, 83]),\n",
       " torch.Size([100, 1, 83, 83]),\n",
       " torch.Size([100, 10, 1, 83, 83]),\n",
       " torch.Size([100, 1, 83, 83]))"
      ]
     },
     "execution_count": null,
     "metadata": {},
     "output_type": "execute_result"
    }
   ],
   "source": [
    "images = ds['images']\n",
    "noiseless = ds['noiseless']\n",
    "uncentered_sources = ds['uncentered_sources']\n",
    "paddings = ds['paddings']\n",
    "images.shape, noiseless.shape, uncentered_sources.shape, paddings.shape"
   ]
  },
  {
   "cell_type": "code",
   "execution_count": null,
   "id": "7",
   "metadata": {},
   "outputs": [
    {
     "data": {
      "text/plain": [
       "tensor([24.6759, 24.3084, 24.4722, 24.2775, 22.4921, 23.7439, 24.1557, 23.4771,\n",
       "        24.5915, 23.8527, 23.7569, 24.6001, 24.9245, 24.2913, 25.2153, 25.2347,\n",
       "        24.2434, 25.0779, 23.0820, 23.5729, 25.0821, 24.0635, 25.2229, 24.4495,\n",
       "        25.0233, 23.5720, 25.0604, 24.6023, 20.4833, 22.6233, 25.1160, 24.1764,\n",
       "        24.1872, 24.6115, 25.2245, 24.6815, 23.8683, 25.2993, 23.5979, 24.5580,\n",
       "        23.3477, 23.7775, 24.6178, 25.0294, 24.8331, 24.0170, 25.2522, 24.8001,\n",
       "        24.4096, 22.4789, 23.7715, 24.8393, 24.3754, 24.0761, 24.6158, 23.2372,\n",
       "        24.8654, 23.8379, 23.9168, 24.4497, 23.4454, 25.2325, 25.1177, 25.0596,\n",
       "        21.9348, 24.9662, 25.0866, 23.6590, 24.7709, 24.5937, 24.4596, 24.2099,\n",
       "        24.3943, 24.5352, 22.1096, 25.0972, 19.2506, 24.3701, 24.8471, 25.1294,\n",
       "        23.9657, 23.7127, 23.6451, 24.7403, 22.7699, 24.9744, 25.0882, 25.1318,\n",
       "        23.8767, 24.3604, 24.6496, 24.9869, 24.2391, 24.8807, 23.0529, 22.5415,\n",
       "        23.9905, 24.0932, 24.6061, 25.1620])"
      ]
     },
     "execution_count": null,
     "metadata": {},
     "output_type": "execute_result"
    }
   ],
   "source": [
    "ds['galaxy_params'][:, 0, -2]"
   ]
  },
  {
   "cell_type": "code",
   "execution_count": null,
   "id": "8",
   "metadata": {},
   "outputs": [
    {
     "data": {
      "text/plain": [
       "tensor([[17.5000, 17.5000],\n",
       "        [17.5000, 17.5000],\n",
       "        [17.5000, 17.5000],\n",
       "        [17.5000, 17.5000],\n",
       "        [17.5000, 17.5000],\n",
       "        [17.5000, 17.5000],\n",
       "        [17.5000, 17.5000],\n",
       "        [17.5000, 17.5000],\n",
       "        [17.5000, 17.5000],\n",
       "        [17.5000, 17.5000]])"
      ]
     },
     "execution_count": null,
     "metadata": {},
     "output_type": "execute_result"
    }
   ],
   "source": [
    "ds['plocs'][:, 0][:10]"
   ]
  },
  {
   "cell_type": "code",
   "execution_count": null,
   "id": "9",
   "metadata": {},
   "outputs": [
    {
     "ename": "RuntimeError",
     "evalue": "mean(): could not infer output dtype. Input dtype must be either a floating point or complex dtype. Got: Long",
     "output_type": "error",
     "traceback": [
      "\u001b[0;31m---------------------------------------------------------------------------\u001b[0m",
      "\u001b[0;31mRuntimeError\u001b[0m                              Traceback (most recent call last)",
      "Cell \u001b[0;32mIn[267], line 1\u001b[0m\n\u001b[0;32m----> 1\u001b[0m \u001b[43mds\u001b[49m\u001b[43m[\u001b[49m\u001b[38;5;124;43m'\u001b[39;49m\u001b[38;5;124;43mn_sources\u001b[39;49m\u001b[38;5;124;43m'\u001b[39;49m\u001b[43m]\u001b[49m\u001b[43m[\u001b[49m\u001b[43m:\u001b[49m\u001b[43m]\u001b[49m\u001b[38;5;241;43m.\u001b[39;49m\u001b[43mmean\u001b[49m\u001b[43m(\u001b[49m\u001b[43m)\u001b[49m\n",
      "\u001b[0;31mRuntimeError\u001b[0m: mean(): could not infer output dtype. Input dtype must be either a floating point or complex dtype. Got: Long"
     ]
    }
   ],
   "source": [
    "ds['n_sources'][:]"
   ]
  },
  {
   "cell_type": "code",
   "execution_count": null,
   "id": "10",
   "metadata": {},
   "outputs": [
    {
     "data": {
      "text/plain": [
       "torch.Size([100, 10, 2])"
      ]
     },
     "execution_count": null,
     "metadata": {},
     "output_type": "execute_result"
    }
   ],
   "source": [
    "ds['plocs'].shape"
   ]
  },
  {
   "cell_type": "code",
   "execution_count": null,
   "id": "11",
   "metadata": {},
   "outputs": [
    {
     "name": "stdout",
     "output_type": "stream",
     "text": [
      "73\n"
     ]
    },
    {
     "data": {
      "image/png": "[encoded data removed]",
      "text/plain": [
       "<Figure size 640x480 with 1 Axes>"
      ]
     },
     "metadata": {},
     "output_type": "display_data"
    }
   ],
   "source": [
    "idx = np.random.randint(0, len(ds['images']))\n",
    "plt.imshow(noiseless[idx, 0] - paddings[idx,0], cmap='gray')\n",
    "_plocs = ds['plocs'][idx]\n",
    "\n",
    "for ii in range(ds['n_sources'][idx]):\n",
    "    x = _plocs[ii, 1] + bp - 0.5\n",
    "    y = _plocs[ii, 0] + bp - 0.5\n",
    "    plt.scatter(x, y, color='red', s=20, marker='x')\n",
    "\n",
    "\n",
    "# plot square in the middle corresponding to central tile of 5x5 pixels\n",
    "plt.axvline(bp + 15 - 0.5, color='w', linestyle='--')\n",
    "plt.axhline(bp + 15 - 0.5, color='w', linestyle='--')\n",
    "plt.axhline(bp + 15 + 5 - 0.5, color='w', linestyle='--')\n",
    "plt.axvline(bp + 15 + 5 - 0.5, color='w', linestyle='--')\n",
    "\n",
    "\n",
    "print(idx)\n",
    "# plt.axvline(83//2, color='red', linestyle='--')\n",
    "# plt.axhline(83//2, color='red', linestyle='--')"
   ]
  },
  {
   "cell_type": "code",
   "execution_count": null,
   "id": "12",
   "metadata": {},
   "outputs": [
    {
     "data": {
      "text/plain": [
       "<matplotlib.lines.Line2D at 0x7f67ed591870>"
      ]
     },
     "execution_count": null,
     "metadata": {},
     "output_type": "execute_result"
    },
    {
     "data": {
      "image/png": "[encoded data removed]",
      "text/plain": [
       "<Figure size 640x480 with 1 Axes>"
      ]
     },
     "metadata": {},
     "output_type": "display_data"
    }
   ],
   "source": [
    "plt.imshow(uncentered_sources[7, 0, 0], cmap='gray')\n",
    "plt.axvline(83//2, color='red', linestyle='--')\n",
    "plt.axhline(83//2, color='red', linestyle='--')"
   ]
  },
  {
   "cell_type": "markdown",
   "id": "13",
   "metadata": {},
   "source": [
    "# Blendedness histogram"
   ]
  },
  {
   "cell_type": "code",
   "execution_count": null,
   "id": "14",
   "metadata": {},
   "outputs": [
    {
     "name": "stderr",
     "output_type": "stream",
     "text": [
      "  0%|          | 0/2000 [00:00<?, ?it/s]"
     ]
    },
    {
     "name": "stderr",
     "output_type": "stream",
     "text": [
      " 57%|█████▋    | 1135/2000 [01:49<01:23, 10.33it/s]\n"
     ]
    },
    {
     "ename": "KeyboardInterrupt",
     "evalue": "",
     "output_type": "error",
     "traceback": [
      "\u001b[0;31m---------------------------------------------------------------------------\u001b[0m",
      "\u001b[0;31mKeyboardInterrupt\u001b[0m                         Traceback (most recent call last)",
      "Cell \u001b[0;32mIn[258], line 1\u001b[0m\n\u001b[0;32m----> 1\u001b[0m ds \u001b[38;5;241m=\u001b[39m \u001b[43mcreate_central_sim_dataset\u001b[49m\u001b[43m(\u001b[49m\u001b[43mn_samples\u001b[49m\u001b[38;5;241;43m=\u001b[39;49m\u001b[38;5;241;43m2000\u001b[39;49m\u001b[43m,\u001b[49m\u001b[43m \u001b[49m\u001b[43mcatsim_table\u001b[49m\u001b[38;5;241;43m=\u001b[39;49m\u001b[43mcat\u001b[49m\u001b[43m,\u001b[49m\u001b[43m \u001b[49m\u001b[43mpsf\u001b[49m\u001b[38;5;241;43m=\u001b[39;49m\u001b[43mpsf\u001b[49m\u001b[43m,\u001b[49m\u001b[43m \u001b[49m\u001b[43mslen\u001b[49m\u001b[38;5;241;43m=\u001b[39;49m\u001b[38;5;241;43m25\u001b[39;49m\u001b[43m,\u001b[49m\u001b[43m \u001b[49m\u001b[43mmax_n_sources\u001b[49m\u001b[38;5;241;43m=\u001b[39;49m\u001b[38;5;241;43m10\u001b[39;49m\u001b[43m)\u001b[49m\n",
      "File \u001b[0;32m~/bliss/bliss/datasets/central_sim.py:133\u001b[0m, in \u001b[0;36mcreate_central_sim_dataset\u001b[0;34m(n_samples, catsim_table, psf, slen, max_n_sources, galaxy_density, tile_slen, bp, mag_cut_central)\u001b[0m\n\u001b[1;32m    128\u001b[0m central_noiseless, centered_noiseless, uncentered_noiseless \u001b[38;5;241m=\u001b[39m render_full_catalog(\n\u001b[1;32m    129\u001b[0m     full_cat, psf, slen, bp\n\u001b[1;32m    130\u001b[0m )\n\u001b[1;32m    132\u001b[0m \u001b[38;5;66;03m# create padding region\u001b[39;00m\n\u001b[0;32m--> 133\u001b[0m padding_noiseless \u001b[38;5;241m=\u001b[39m \u001b[43mrender_padded_image\u001b[49m\u001b[43m(\u001b[49m\n\u001b[1;32m    134\u001b[0m \u001b[43m    \u001b[49m\u001b[43mcatsim_table\u001b[49m\u001b[43m,\u001b[49m\u001b[43m \u001b[49m\u001b[43mnp\u001b[49m\u001b[38;5;241;43m.\u001b[39;49m\u001b[43marray\u001b[49m\u001b[43m(\u001b[49m\u001b[43m[\u001b[49m\u001b[43mnp\u001b[49m\u001b[38;5;241;43m.\u001b[39;49m\u001b[43mnan\u001b[49m\u001b[43m]\u001b[49m\u001b[43m)\u001b[49m\u001b[43m,\u001b[49m\u001b[43m \u001b[49m\u001b[43mmean_sources_out\u001b[49m\u001b[43m,\u001b[49m\u001b[43m \u001b[49m\u001b[38;5;241;43m1.0\u001b[39;49m\u001b[43m,\u001b[49m\u001b[43m \u001b[49m\u001b[43mpsf\u001b[49m\u001b[38;5;241;43m=\u001b[39;49m\u001b[43mpsf\u001b[49m\u001b[43m,\u001b[49m\u001b[43m \u001b[49m\u001b[43mslen\u001b[49m\u001b[38;5;241;43m=\u001b[39;49m\u001b[43mslen\u001b[49m\u001b[43m,\u001b[49m\u001b[43m \u001b[49m\u001b[43mbp\u001b[49m\u001b[38;5;241;43m=\u001b[39;49m\u001b[43mbp\u001b[49m\n\u001b[1;32m    135\u001b[0m \u001b[43m\u001b[49m\u001b[43m)\u001b[49m\n\u001b[1;32m    137\u001b[0m noiseless \u001b[38;5;241m=\u001b[39m central_noiseless \u001b[38;5;241m+\u001b[39m padding_noiseless\n\u001b[1;32m    138\u001b[0m image \u001b[38;5;241m=\u001b[39m add_noise(noiseless)\n",
      "File \u001b[0;32m~/bliss/bliss/datasets/padded_tiles.py:162\u001b[0m, in \u001b[0;36mrender_padded_image\u001b[0;34m(catsim_table, all_star_mags, mean_sources, galaxy_prob, psf, slen, bp)\u001b[0m\n\u001b[1;32m    160\u001b[0m is_galaxy \u001b[38;5;241m=\u001b[39m sample_bernoulli(galaxy_prob, \u001b[38;5;241m1\u001b[39m)\u001b[38;5;241m.\u001b[39mbool()\u001b[38;5;241m.\u001b[39mitem()\n\u001b[1;32m    161\u001b[0m \u001b[38;5;28;01mif\u001b[39;00m is_galaxy:\n\u001b[0;32m--> 162\u001b[0m     params, _ \u001b[38;5;241m=\u001b[39m \u001b[43msample_galaxy_params\u001b[49m\u001b[43m(\u001b[49m\u001b[43mcatsim_table\u001b[49m\u001b[43m,\u001b[49m\u001b[43m \u001b[49m\u001b[43mn_galaxies\u001b[49m\u001b[38;5;241;43m=\u001b[39;49m\u001b[38;5;241;43m1\u001b[39;49m\u001b[43m,\u001b[49m\u001b[43m \u001b[49m\u001b[43mmax_n_sources\u001b[49m\u001b[38;5;241;43m=\u001b[39;49m\u001b[38;5;241;43m1\u001b[39;49m\u001b[43m)\u001b[49m\n\u001b[1;32m    163\u001b[0m     \u001b[38;5;28;01massert\u001b[39;00m params\u001b[38;5;241m.\u001b[39mshape \u001b[38;5;241m==\u001b[39m (\u001b[38;5;241m1\u001b[39m, \u001b[38;5;241m11\u001b[39m)\n\u001b[1;32m    164\u001b[0m     one_galaxy_params \u001b[38;5;241m=\u001b[39m params[\u001b[38;5;241m0\u001b[39m]\n",
      "File \u001b[0;32m~/bliss/bliss/datasets/render_utils.py:76\u001b[0m, in \u001b[0;36msample_galaxy_params\u001b[0;34m(catsim_table, n_galaxies, max_n_sources, replace)\u001b[0m\n\u001b[1;32m     71\u001b[0m \u001b[38;5;28;01mdef\u001b[39;00m\u001b[38;5;250m \u001b[39m\u001b[38;5;21msample_galaxy_params\u001b[39m(\n\u001b[1;32m     72\u001b[0m     catsim_table: Table, \u001b[38;5;241m*\u001b[39m, n_galaxies: \u001b[38;5;28mint\u001b[39m, max_n_sources: \u001b[38;5;28mint\u001b[39m, replace: \u001b[38;5;28mbool\u001b[39m \u001b[38;5;241m=\u001b[39m \u001b[38;5;28;01mTrue\u001b[39;00m\n\u001b[1;32m     73\u001b[0m ) \u001b[38;5;241m-\u001b[39m\u001b[38;5;241m>\u001b[39m \u001b[38;5;28mtuple\u001b[39m[Tensor, Tensor]:\n\u001b[1;32m     74\u001b[0m     indices \u001b[38;5;241m=\u001b[39m np\u001b[38;5;241m.\u001b[39mrandom\u001b[38;5;241m.\u001b[39mchoice(np\u001b[38;5;241m.\u001b[39marange(\u001b[38;5;28mlen\u001b[39m(catsim_table)), size\u001b[38;5;241m=\u001b[39m(n_galaxies,), replace\u001b[38;5;241m=\u001b[39mreplace)\n\u001b[0;32m---> 76\u001b[0m     rows \u001b[38;5;241m=\u001b[39m \u001b[43mcatsim_table\u001b[49m\u001b[43m[\u001b[49m\u001b[43mindices\u001b[49m\u001b[43m]\u001b[49m\n\u001b[1;32m     77\u001b[0m     mags \u001b[38;5;241m=\u001b[39m torch\u001b[38;5;241m.\u001b[39mfrom_numpy(rows[\u001b[38;5;124m\"\u001b[39m\u001b[38;5;124mi_ab\u001b[39m\u001b[38;5;124m\"\u001b[39m]\u001b[38;5;241m.\u001b[39mvalue\u001b[38;5;241m.\u001b[39mastype(np\u001b[38;5;241m.\u001b[39mfloat32))  \u001b[38;5;66;03m# byte order\u001b[39;00m\n\u001b[1;32m     78\u001b[0m     gal_flux \u001b[38;5;241m=\u001b[39m convert_mag_to_flux(mags)\n",
      "File \u001b[0;32m~/bliss/.venv/lib/python3.10/site-packages/astropy/table/table.py:2122\u001b[0m, in \u001b[0;36mTable.__getitem__\u001b[0;34m(self, item)\u001b[0m\n\u001b[1;32m   2113\u001b[0m     \u001b[38;5;28;01mreturn\u001b[39;00m \u001b[38;5;28mself\u001b[39m\u001b[38;5;241m.\u001b[39m_new_from_slice([])\n\u001b[1;32m   2114\u001b[0m \u001b[38;5;28;01melif\u001b[39;00m (\n\u001b[1;32m   2115\u001b[0m     \u001b[38;5;28misinstance\u001b[39m(item, (\u001b[38;5;28mslice\u001b[39m, np\u001b[38;5;241m.\u001b[39mndarray, \u001b[38;5;28mlist\u001b[39m))\n\u001b[1;32m   2116\u001b[0m     \u001b[38;5;129;01mor\u001b[39;00m \u001b[38;5;28misinstance\u001b[39m(item, \u001b[38;5;28mtuple\u001b[39m)\n\u001b[0;32m   (...)\u001b[0m\n\u001b[1;32m   2120\u001b[0m     \u001b[38;5;66;03m# is produced by np.where, as in t[np.where(t['a'] > 2)]\u001b[39;00m\n\u001b[1;32m   2121\u001b[0m     \u001b[38;5;66;03m# For all, a new table is constructed with slice of all columns\u001b[39;00m\n\u001b[0;32m-> 2122\u001b[0m     \u001b[38;5;28;01mreturn\u001b[39;00m \u001b[38;5;28;43mself\u001b[39;49m\u001b[38;5;241;43m.\u001b[39;49m\u001b[43m_new_from_slice\u001b[49m\u001b[43m(\u001b[49m\u001b[43mitem\u001b[49m\u001b[43m)\u001b[49m\n\u001b[1;32m   2123\u001b[0m \u001b[38;5;28;01melse\u001b[39;00m:\n\u001b[1;32m   2124\u001b[0m     \u001b[38;5;28;01mraise\u001b[39;00m \u001b[38;5;167;01mValueError\u001b[39;00m(\u001b[38;5;124mf\u001b[39m\u001b[38;5;124m\"\u001b[39m\u001b[38;5;124mIllegal type \u001b[39m\u001b[38;5;132;01m{\u001b[39;00m\u001b[38;5;28mtype\u001b[39m(item)\u001b[38;5;132;01m}\u001b[39;00m\u001b[38;5;124m for table item access\u001b[39m\u001b[38;5;124m\"\u001b[39m)\n",
      "File \u001b[0;32m~/bliss/.venv/lib/python3.10/site-packages/astropy/table/table.py:1511\u001b[0m, in \u001b[0;36mTable._new_from_slice\u001b[0;34m(self, slice_)\u001b[0m\n\u001b[1;32m   1509\u001b[0m newcols \u001b[38;5;241m=\u001b[39m []\n\u001b[1;32m   1510\u001b[0m \u001b[38;5;28;01mfor\u001b[39;00m col \u001b[38;5;129;01min\u001b[39;00m \u001b[38;5;28mself\u001b[39m\u001b[38;5;241m.\u001b[39mcolumns\u001b[38;5;241m.\u001b[39mvalues():\n\u001b[0;32m-> 1511\u001b[0m     newcol \u001b[38;5;241m=\u001b[39m \u001b[43mcol\u001b[49m\u001b[43m[\u001b[49m\u001b[43mslice_\u001b[49m\u001b[43m]\u001b[49m\n\u001b[1;32m   1513\u001b[0m     \u001b[38;5;66;03m# Note in line below, use direct attribute access to col.indices for Column\u001b[39;00m\n\u001b[1;32m   1514\u001b[0m     \u001b[38;5;66;03m# instances instead of the generic col.info.indices.  This saves about 4 usec\u001b[39;00m\n\u001b[1;32m   1515\u001b[0m     \u001b[38;5;66;03m# per column.\u001b[39;00m\n\u001b[1;32m   1516\u001b[0m     \u001b[38;5;28;01mif\u001b[39;00m (col \u001b[38;5;28;01mif\u001b[39;00m \u001b[38;5;28misinstance\u001b[39m(col, Column) \u001b[38;5;28;01melse\u001b[39;00m col\u001b[38;5;241m.\u001b[39minfo)\u001b[38;5;241m.\u001b[39mindices:\n\u001b[1;32m   1517\u001b[0m         \u001b[38;5;66;03m# TODO : as far as I can tell the only purpose of setting _copy_indices\u001b[39;00m\n\u001b[1;32m   1518\u001b[0m         \u001b[38;5;66;03m# here is to communicate that to the initial test in `slice_indices`.\u001b[39;00m\n\u001b[1;32m   1519\u001b[0m         \u001b[38;5;66;03m# Why isn't that just sent as an arg to the function?\u001b[39;00m\n",
      "File \u001b[0;32m~/bliss/.venv/lib/python3.10/site-packages/astropy/table/_column_mixins.pyx:79\u001b[0m, in \u001b[0;36mastropy.table._column_mixins._ColumnGetitemShim.__getitem__\u001b[0;34m()\u001b[0m\n",
      "File \u001b[0;32m~/bliss/.venv/lib/python3.10/site-packages/astropy/table/_column_mixins.pyx:62\u001b[0m, in \u001b[0;36mastropy.table._column_mixins.base_getitem\u001b[0;34m()\u001b[0m\n",
      "File \u001b[0;32m~/bliss/.venv/lib/python3.10/site-packages/astropy/table/_column_mixins.pyx:74\u001b[0m, in \u001b[0;36mastropy.table._column_mixins.column_getitem\u001b[0;34m()\u001b[0m\n",
      "File \u001b[0;32m~/bliss/.venv/lib/python3.10/site-packages/astropy/table/column.py:718\u001b[0m, in \u001b[0;36mBaseColumn.__array_finalize__\u001b[0;34m(self, obj)\u001b[0m\n\u001b[1;32m    713\u001b[0m     \u001b[38;5;28msuper\u001b[39m()\u001b[38;5;241m.\u001b[39m__array_finalize__(obj)\n\u001b[1;32m    715\u001b[0m \u001b[38;5;66;03m# Self was created from template (e.g. obj[slice] or (obj * 2))\u001b[39;00m\n\u001b[1;32m    716\u001b[0m \u001b[38;5;66;03m# or viewcast e.g. obj.view(Column).  In either case we want to\u001b[39;00m\n\u001b[1;32m    717\u001b[0m \u001b[38;5;66;03m# init Column attributes for self from obj if possible.\u001b[39;00m\n\u001b[0;32m--> 718\u001b[0m \u001b[38;5;28;43mself\u001b[39;49m\u001b[38;5;241;43m.\u001b[39;49m\u001b[43mparent_table\u001b[49m \u001b[38;5;241m=\u001b[39m \u001b[38;5;28;01mNone\u001b[39;00m\n\u001b[1;32m    719\u001b[0m \u001b[38;5;28;01mif\u001b[39;00m \u001b[38;5;129;01mnot\u001b[39;00m \u001b[38;5;28mhasattr\u001b[39m(\u001b[38;5;28mself\u001b[39m, \u001b[38;5;124m\"\u001b[39m\u001b[38;5;124mindices\u001b[39m\u001b[38;5;124m\"\u001b[39m):  \u001b[38;5;66;03m# may have been copied in __new__\u001b[39;00m\n\u001b[1;32m    720\u001b[0m     \u001b[38;5;28mself\u001b[39m\u001b[38;5;241m.\u001b[39mindices \u001b[38;5;241m=\u001b[39m []\n",
      "File \u001b[0;32m~/bliss/.venv/lib/python3.10/site-packages/astropy/table/column.py:1276\u001b[0m, in \u001b[0;36mColumn.__setattr__\u001b[0;34m(self, item, value)\u001b[0m\n\u001b[1;32m   1272\u001b[0m \u001b[38;5;28;01mif\u001b[39;00m \u001b[38;5;129;01mnot\u001b[39;00m \u001b[38;5;28misinstance\u001b[39m(\u001b[38;5;28mself\u001b[39m, MaskedColumn) \u001b[38;5;129;01mand\u001b[39;00m item \u001b[38;5;241m==\u001b[39m \u001b[38;5;124m\"\u001b[39m\u001b[38;5;124mmask\u001b[39m\u001b[38;5;124m\"\u001b[39m:\n\u001b[1;32m   1273\u001b[0m     \u001b[38;5;28;01mraise\u001b[39;00m \u001b[38;5;167;01mAttributeError\u001b[39;00m(\n\u001b[1;32m   1274\u001b[0m         \u001b[38;5;124m\"\u001b[39m\u001b[38;5;124mcannot set mask value to a column in non-masked Table\u001b[39m\u001b[38;5;124m\"\u001b[39m\n\u001b[1;32m   1275\u001b[0m     )\n\u001b[0;32m-> 1276\u001b[0m \u001b[38;5;28;43msuper\u001b[39;49m\u001b[43m(\u001b[49m\u001b[43m)\u001b[49m\u001b[38;5;241m.\u001b[39m\u001b[38;5;21m__setattr__\u001b[39m(item, value)\n\u001b[1;32m   1278\u001b[0m \u001b[38;5;28;01mif\u001b[39;00m item \u001b[38;5;241m==\u001b[39m \u001b[38;5;124m\"\u001b[39m\u001b[38;5;124munit\u001b[39m\u001b[38;5;124m\"\u001b[39m \u001b[38;5;129;01mand\u001b[39;00m \u001b[38;5;28missubclass\u001b[39m(\u001b[38;5;28mself\u001b[39m\u001b[38;5;241m.\u001b[39mdtype\u001b[38;5;241m.\u001b[39mtype, np\u001b[38;5;241m.\u001b[39mnumber):\n\u001b[1;32m   1279\u001b[0m     \u001b[38;5;28;01mtry\u001b[39;00m:\n",
      "\u001b[0;31mKeyboardInterrupt\u001b[0m: "
     ]
    }
   ],
   "source": [
    "ds = create_central_sim_dataset(n_samples=2000, catsim_table=cat, psf=psf, slen=35, max_n_sources=10)"
   ]
  },
  {
   "cell_type": "code",
   "execution_count": null,
   "id": "15",
   "metadata": {},
   "outputs": [
    {
     "data": {
      "text/plain": [
       "torch.Size([2000, 10])"
      ]
     },
     "execution_count": null,
     "metadata": {},
     "output_type": "execute_result"
    }
   ],
   "source": [
    "from bliss.reporting import get_blendedness\n",
    "\n",
    "uncentered_sources = ds['uncentered_sources']\n",
    "noiseless_no_padding = ds['noiseless'] - ds['paddings']\n",
    "\n",
    "blendedness = get_blendedness(uncentered_sources, noiseless_no_padding)\n",
    "blendedness.shape"
   ]
  },
  {
   "cell_type": "code",
   "execution_count": null,
   "id": "16",
   "metadata": {},
   "outputs": [],
   "source": [
    "# always the first one \n",
    "bld = blendedness[:, 0]"
   ]
  },
  {
   "cell_type": "code",
   "execution_count": null,
   "id": "17",
   "metadata": {},
   "outputs": [
    {
     "data": {
      "text/plain": [
       "Text(0.5, 0, 'Blendedness')"
      ]
     },
     "execution_count": null,
     "metadata": {},
     "output_type": "execute_result"
    },
    {
     "data": {
      "image/png": "[encoded data removed]",
      "text/plain": [
       "<Figure size 640x480 with 1 Axes>"
      ]
     },
     "metadata": {},
     "output_type": "display_data"
    }
   ],
   "source": [
    "plt.hist(bld.log10(), bins=21, range=(-4, 0.0), histtype='step', color='blue')\n",
    "plt.axvline(bld.log10().nanmedian())\n",
    "plt.xlabel('Blendedness')\n"
   ]
  },
  {
   "cell_type": "code",
   "execution_count": null,
   "id": "18",
   "metadata": {},
   "outputs": [
    {
     "data": {
      "image/png": "[encoded data removed]",
      "text/plain": [
       "<Figure size 640x480 with 1 Axes>"
      ]
     },
     "metadata": {},
     "output_type": "display_data"
    }
   ],
   "source": [
    "plt.hist(bld, bins=31, range=(0, 1), histtype='step', color='blue')\n",
    "plt.xlabel('Blendedness')\n",
    "plt.yscale('log')"
   ]
  },
  {
   "cell_type": "code",
   "execution_count": null,
   "id": "19",
   "metadata": {},
   "outputs": [
    {
     "data": {
      "text/plain": [
       "tensor(3.1475)"
      ]
     },
     "execution_count": null,
     "metadata": {},
     "output_type": "execute_result"
    }
   ],
   "source": [
    "ds['n_sources'][:].float().mean()"
   ]
  },
  {
   "cell_type": "code",
   "execution_count": null,
   "id": "20",
   "metadata": {},
   "outputs": [],
   "source": []
  }
 ],
 "metadata": {
  "kernelspec": {
   "display_name": ".venv",
   "language": "python",
   "name": "python3"
  },
  "language_info": {
   "codemirror_mode": {
    "name": "ipython",
    "version": 3
   },
   "file_extension": ".py",
   "mimetype": "text/x-python",
   "name": "python",
   "nbconvert_exporter": "python",
   "pygments_lexer": "ipython3",
   "version": "3.10.16"
  }
 },
 "nbformat": 4,
 "nbformat_minor": 5
}
