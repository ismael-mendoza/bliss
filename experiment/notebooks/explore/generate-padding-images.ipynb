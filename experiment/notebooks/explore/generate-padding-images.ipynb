{
 "cells": [
  {
   "cell_type": "code",
   "execution_count": null,
   "metadata": {},
   "outputs": [],
   "source": [
    "import datetime\n",
    "\n",
    "import click\n",
    "import numpy as np\n",
    "import pytorch_lightning as L\n",
    "\n",
    "from bliss import DATASETS_DIR, HOME_DIR\n",
    "from bliss.datasets.generate_blends import generate_dataset\n",
    "from bliss.datasets.padded_tiles import generate_padded_tiles\n",
    "from bliss.datasets.io import save_dataset_npz\n",
    "from bliss.datasets.lsst import (\n",
    "    GALAXY_DENSITY,\n",
    "    STAR_DENSITY,\n",
    "    get_default_lsst_psf,\n",
    "    prepare_final_galaxy_catalog,\n",
    "    prepare_final_star_catalog,\n",
    ")\n",
    "import matplotlib.pyplot as plt \n",
    "import torch\n",
    "LOG_FILE = HOME_DIR / \"experiment/log.txt\"\n",
    "\n",
    "CATSIM_CAT = prepare_final_galaxy_catalog()\n",
    "STAR_MAGS = prepare_final_star_catalog()\n",
    "\n",
    "PSF = get_default_lsst_psf()\n"
   ]
  },
  {
   "cell_type": "code",
   "execution_count": null,
   "metadata": {},
   "outputs": [],
   "source": [
    "CATSIM_CAT = prepare_final_galaxy_catalog()\n",
    "STAR_MAGS = prepare_final_star_catalog()"
   ]
  },
  {
   "cell_type": "code",
   "execution_count": null,
   "metadata": {},
   "outputs": [
    {
     "name": "stderr",
     "output_type": "stream",
     "text": [
      "100%|██████████| 512/512 [00:10<00:00, 47.65it/s]\n"
     ]
    }
   ],
   "source": [
    "t = generate_padded_tiles(n_samples=512, catsim_table = CATSIM_CAT, all_star_mags=STAR_MAGS, psf=PSF, p_source_in=1.0, galaxy_prob=1.0)"
   ]
  },
  {
   "cell_type": "code",
   "execution_count": null,
   "metadata": {},
   "outputs": [
    {
     "data": {
      "text/plain": [
       "dict_keys(['images', 'paddings', 'uncentered_sources', 'centered_sources', 'tile_params'])"
      ]
     },
     "execution_count": null,
     "metadata": {},
     "output_type": "execute_result"
    }
   ],
   "source": [
    "t.keys()"
   ]
  },
  {
   "cell_type": "code",
   "execution_count": null,
   "metadata": {},
   "outputs": [
    {
     "data": {
      "text/plain": [
       "torch.Size([512, 1, 52, 52])"
      ]
     },
     "execution_count": null,
     "metadata": {},
     "output_type": "execute_result"
    }
   ],
   "source": [
    "t['images'].shape"
   ]
  },
  {
   "cell_type": "code",
   "execution_count": null,
   "metadata": {},
   "outputs": [],
   "source": [
    "import torch\n",
    "device = torch.device('cuda:0')"
   ]
  },
  {
   "cell_type": "code",
   "execution_count": null,
   "metadata": {},
   "outputs": [],
   "source": [
    "im = t['uncentered_sources'].to(device)\n",
    "ll = t['tile_params']['locs'].to(device)"
   ]
  },
  {
   "cell_type": "code",
   "execution_count": null,
   "metadata": {},
   "outputs": [],
   "source": [
    "from bliss.grid import get_shift_sources_fnc, shift_sources\n",
    "fnc = get_shift_sources_fnc(slen=52, pixel_scale=0.2)\n"
   ]
  },
  {
   "cell_type": "code",
   "execution_count": null,
   "metadata": {},
   "outputs": [
    {
     "name": "stdout",
     "output_type": "stream",
     "text": [
      "CPU times: user 15.8 ms, sys: 3.58 ms, total: 19.3 ms\n",
      "Wall time: 21.5 ms\n"
     ]
    }
   ],
   "source": [
    "%time im_out = shift_sources(im, ll, shift_fnc=fnc, tile_slen=4, slen=52, center=True)"
   ]
  },
  {
   "cell_type": "code",
   "execution_count": null,
   "metadata": {},
   "outputs": [
    {
     "data": {
      "text/plain": [
       "tensor([5.2562e+04, 1.5773e+04, 3.7779e+04, 4.4257e+04, 1.5963e+04, 3.0988e+04,\n",
       "        3.6405e+04, 1.7186e+05, 5.8061e+04, 1.2812e+04, 2.7598e+04, 1.1847e+04,\n",
       "        1.9762e+04, 7.3690e+04, 8.0536e+04, 8.8670e+05, 1.8182e+04, 4.5096e+04,\n",
       "        1.4549e+04, 1.8057e+04, 3.6640e+05, 4.1524e+05, 4.5325e+04, 1.4799e+05,\n",
       "        1.3596e+04, 1.4657e+07, 1.2143e+05, 9.9500e+04, 3.9185e+05, 1.2470e+04,\n",
       "        1.6276e+05, 1.7168e+04, 4.5987e+05, 9.5661e+05, 2.9589e+04, 1.5507e+04,\n",
       "        7.1515e+04, 1.6358e+04, 1.4368e+04, 1.4348e+04, 1.1532e+05, 3.6508e+04,\n",
       "        3.2779e+06, 7.0646e+04, 2.9675e+05, 1.4503e+04, 3.6520e+04, 1.5866e+04,\n",
       "        2.6815e+04, 4.4494e+04, 1.3509e+04, 1.7732e+04, 1.5119e+04, 1.3349e+04,\n",
       "        2.2323e+05, 2.5103e+04, 6.9006e+04, 1.9628e+04, 1.5863e+05, 9.5039e+04,\n",
       "        1.3538e+05, 3.0956e+04, 4.8037e+04, 1.5497e+06, 9.4480e+04, 1.8445e+04,\n",
       "        3.2700e+04, 1.1534e+04, 1.1931e+04, 1.4347e+04, 1.8919e+05, 3.3426e+05,\n",
       "        1.7195e+04, 1.1466e+04, 3.5863e+04, 3.3953e+04, 1.3679e+04, 2.9302e+04,\n",
       "        2.4242e+04, 1.4952e+04, 4.1849e+04, 2.2290e+05, 1.8011e+04, 3.2578e+04,\n",
       "        1.1418e+05, 1.9103e+05, 1.9973e+04, 2.9170e+05, 2.8376e+04, 4.3914e+04,\n",
       "        1.3375e+04, 3.7895e+04, 4.8684e+04, 3.9116e+04, 1.1959e+04, 4.1668e+05,\n",
       "        1.2612e+04, 1.2592e+06, 1.6462e+04, 5.5588e+04, 1.8731e+04, 1.3905e+04,\n",
       "        1.7951e+04, 2.3961e+04, 2.4456e+04, 9.4714e+04, 1.2232e+04, 2.5369e+04,\n",
       "        1.4202e+04, 2.7039e+04, 2.0782e+04, 1.5380e+04, 1.1644e+04, 1.2309e+04,\n",
       "        3.3815e+05, 5.8703e+04, 1.5202e+04, 1.2088e+04, 2.4744e+04, 1.4931e+04,\n",
       "        1.2977e+05, 4.3702e+04, 2.5891e+05, 1.7440e+04, 3.9131e+05, 1.7272e+04,\n",
       "        1.0132e+05, 1.7433e+04, 3.2923e+05, 6.4703e+04, 1.2140e+04, 2.5322e+04,\n",
       "        2.8505e+04, 1.7824e+04, 9.7948e+05, 2.5273e+04, 3.6858e+04, 2.1193e+04,\n",
       "        2.4466e+04, 3.9304e+04, 1.4411e+04, 8.2042e+04, 5.8907e+04, 2.1755e+04,\n",
       "        8.0590e+05, 1.3469e+04, 5.7511e+05, 9.6537e+04, 2.2452e+04, 1.7703e+04,\n",
       "        2.4199e+04, 7.5085e+05, 2.5281e+05, 1.8523e+04, 3.2088e+04, 1.4176e+04,\n",
       "        7.1154e+04, 2.7910e+04, 7.5688e+04, 2.4177e+04, 2.0482e+04, 9.2906e+04,\n",
       "        1.3308e+04, 1.6421e+04, 7.1379e+04, 3.7141e+04, 1.9572e+04, 5.5786e+04,\n",
       "        5.0765e+04, 1.2758e+06, 1.2680e+04, 1.9287e+04, 3.0111e+04, 2.2985e+04,\n",
       "        1.3501e+04, 1.4209e+05, 1.4384e+04, 2.8519e+04, 4.8990e+05, 1.7561e+04,\n",
       "        2.3784e+04, 3.8797e+04, 4.0978e+04, 4.7337e+04, 1.2167e+04, 1.6647e+05,\n",
       "        1.5620e+04, 1.9183e+05, 2.2994e+04, 1.6009e+04, 4.5728e+04, 1.9364e+05,\n",
       "        1.1455e+05, 1.4620e+05, 1.6493e+04, 4.6269e+04, 1.0350e+05, 1.6398e+05,\n",
       "        1.3652e+04, 1.6044e+04, 8.1538e+04, 3.4497e+04, 3.1293e+05, 1.2298e+04,\n",
       "        2.0106e+05, 1.2581e+05, 3.9849e+04, 7.7370e+04, 1.3442e+04, 1.7760e+04,\n",
       "        2.2075e+04, 1.2843e+05, 3.4010e+04, 3.0554e+04, 5.3530e+04, 4.2798e+04,\n",
       "        1.2260e+04, 2.4028e+04, 2.3986e+04, 3.6569e+04, 1.4225e+04, 2.0123e+04,\n",
       "        5.1173e+04, 4.1617e+04, 5.6606e+04, 4.0912e+05, 3.3466e+04, 1.4903e+04,\n",
       "        1.7921e+05, 1.4278e+04, 2.6465e+04, 1.4453e+05, 9.6645e+05, 1.2796e+04,\n",
       "        2.6294e+04, 2.6015e+04, 2.0896e+05, 1.9323e+04, 7.5141e+05, 6.4648e+04,\n",
       "        1.6594e+04, 1.4256e+04, 3.2215e+04, 4.2531e+04, 1.4367e+06, 5.1278e+04,\n",
       "        2.7730e+04, 2.6199e+04, 1.5760e+04, 2.4960e+04, 9.2980e+04, 1.8070e+04,\n",
       "        6.4515e+04, 2.2420e+04, 2.2455e+04, 6.6782e+05, 3.4183e+04, 1.2526e+04,\n",
       "        7.5245e+04, 1.8122e+04, 3.0664e+05, 1.8343e+04, 1.8655e+04, 4.8642e+04,\n",
       "        1.9529e+04, 1.4710e+04, 2.8402e+04, 1.1614e+04, 3.9085e+04, 4.7521e+04,\n",
       "        1.0515e+05, 5.9994e+04, 1.7202e+04, 1.6598e+04, 1.9536e+05, 1.4878e+04,\n",
       "        2.5191e+04, 2.3795e+04, 1.0938e+06, 1.0380e+05, 5.0262e+04, 6.2988e+04,\n",
       "        1.2106e+04, 2.1041e+04, 3.0981e+04, 1.4731e+05, 6.3215e+05, 1.3916e+04,\n",
       "        1.4888e+04, 2.6267e+04, 2.1869e+04, 4.6725e+04, 1.6054e+04, 1.3919e+04,\n",
       "        2.6138e+04, 2.3658e+04, 1.7266e+04, 3.6764e+04, 2.8919e+04, 2.6908e+05,\n",
       "        2.0522e+05, 1.4189e+04, 1.2361e+04, 1.5343e+04, 3.3796e+04, 3.8847e+04,\n",
       "        1.2797e+04, 2.9704e+05, 5.7231e+04, 2.3125e+04, 2.1955e+05, 1.2709e+04,\n",
       "        1.9817e+04, 2.0258e+04, 1.5153e+04, 1.1409e+04, 1.3363e+05, 1.8069e+04,\n",
       "        1.5924e+04, 1.3005e+04, 2.0590e+04, 4.2655e+04, 1.1087e+05, 5.9778e+04,\n",
       "        3.0308e+04, 1.4039e+04, 2.7197e+04, 6.0298e+04, 1.5687e+04, 1.6265e+04,\n",
       "        3.6578e+05, 3.5776e+04, 1.4046e+04, 5.4843e+04, 3.6446e+04, 2.2814e+04,\n",
       "        2.1885e+04, 1.3470e+05, 2.5671e+04, 5.2545e+04, 2.4983e+04, 1.3228e+06,\n",
       "        1.2228e+04, 5.1825e+04, 1.8222e+04, 1.3326e+04, 2.5841e+04, 6.6363e+04,\n",
       "        2.3296e+04, 2.1752e+04, 1.2282e+05, 9.5685e+04, 4.1633e+04, 1.4679e+05,\n",
       "        5.7777e+04, 7.4344e+04, 3.5539e+04, 5.7615e+05, 2.2962e+04, 1.2157e+04,\n",
       "        1.6223e+04, 1.3393e+04, 1.2400e+04, 2.1889e+04, 2.5304e+04, 1.2933e+04,\n",
       "        8.6376e+04, 3.1296e+04, 1.2374e+04, 4.0567e+04, 1.2777e+04, 3.8791e+04,\n",
       "        3.9731e+04, 1.7082e+04, 3.1123e+04, 1.2173e+04, 1.2941e+04, 2.0557e+05,\n",
       "        1.3651e+04, 1.6630e+04, 1.1406e+04, 1.1147e+06, 1.8439e+04, 2.2968e+04,\n",
       "        1.5717e+04, 1.2555e+04, 2.6088e+04, 2.0256e+04, 3.6649e+04, 3.5916e+04,\n",
       "        1.0112e+05, 1.6539e+05, 3.7441e+04, 2.8392e+04, 3.2292e+05, 7.0795e+06,\n",
       "        1.5531e+05, 2.0017e+04, 2.5254e+04, 1.3754e+05, 1.0958e+05, 5.7762e+04,\n",
       "        1.2058e+04, 1.2931e+04, 1.6829e+05, 4.5421e+04, 7.6868e+06, 2.4852e+04,\n",
       "        2.1742e+04, 1.0915e+06, 1.6250e+04, 1.0098e+06, 1.7814e+04, 4.3843e+04,\n",
       "        6.7713e+04, 4.0226e+04, 6.4695e+04, 1.6822e+04, 3.4551e+04, 1.2523e+04,\n",
       "        1.6164e+04, 9.4317e+04, 3.2607e+04, 1.6482e+04, 2.5063e+04, 7.0748e+04,\n",
       "        3.4072e+04, 1.4398e+04, 1.6502e+05, 4.2330e+05, 1.1755e+04, 6.6754e+04,\n",
       "        1.6152e+04, 2.1085e+04, 4.4689e+04, 2.7900e+04, 1.4968e+04, 8.1829e+04,\n",
       "        3.3147e+04, 8.7252e+04, 1.7753e+04, 9.5975e+04, 3.4278e+04, 1.4182e+04,\n",
       "        3.9893e+04, 5.6021e+04, 4.4360e+04, 4.5800e+05, 7.2309e+04, 5.2684e+04,\n",
       "        3.0952e+05, 1.4281e+04, 7.3847e+04, 1.4415e+04, 1.3178e+04, 7.1232e+04,\n",
       "        1.9778e+04, 1.1170e+06, 7.4094e+04, 4.3809e+04, 5.0479e+05, 1.9904e+05,\n",
       "        1.5702e+05, 2.2520e+05, 1.3473e+04, 1.6201e+04, 1.1679e+05, 3.3908e+05,\n",
       "        7.2706e+04, 3.5506e+04, 3.3191e+05, 2.8778e+04, 8.1689e+04, 2.9377e+04,\n",
       "        4.3919e+04, 1.6385e+04, 2.8040e+04, 1.6078e+04, 2.8118e+04, 4.3850e+05,\n",
       "        2.2158e+04, 1.2933e+04, 2.6546e+05, 1.5802e+05, 2.7992e+04, 2.6805e+04,\n",
       "        3.5699e+04, 3.1330e+05, 1.2040e+05, 4.7289e+04, 2.0214e+04, 3.6689e+04,\n",
       "        7.9276e+04, 2.1801e+04, 1.9064e+04, 3.2997e+06, 1.3409e+06, 4.3867e+04,\n",
       "        1.3297e+04, 2.0792e+04, 1.5789e+04, 5.3352e+04, 2.3392e+04, 3.6614e+04,\n",
       "        3.2311e+04, 1.1739e+05, 3.0869e+04, 2.7653e+04, 2.1683e+04, 1.4543e+04,\n",
       "        2.1605e+04, 2.2345e+04])"
      ]
     },
     "execution_count": null,
     "metadata": {},
     "output_type": "execute_result"
    }
   ],
   "source": [
    "t['tile_params']['galaxy_params'][:, -1]"
   ]
  },
  {
   "cell_type": "code",
   "execution_count": null,
   "metadata": {},
   "outputs": [
    {
     "data": {
      "text/plain": [
       "tensor([False, False, False, False, False, False, False,  True, False, False,\n",
       "         True, False, False, False, False, False, False, False, False, False,\n",
       "        False, False, False, False, False, False, False,  True, False, False,\n",
       "        False, False,  True, False, False, False, False, False, False, False,\n",
       "        False, False, False, False, False, False, False, False, False, False,\n",
       "        False, False, False, False, False, False, False, False, False, False,\n",
       "         True, False, False, False, False, False, False,  True, False, False,\n",
       "        False,  True, False, False,  True, False, False,  True, False, False,\n",
       "        False, False, False, False, False, False, False, False, False, False,\n",
       "        False, False, False, False, False, False, False, False, False,  True,\n",
       "        False, False, False, False, False, False, False, False, False, False,\n",
       "        False, False, False, False, False,  True, False, False, False, False,\n",
       "        False, False, False, False, False, False, False, False, False, False,\n",
       "        False, False, False,  True, False,  True, False, False, False,  True,\n",
       "        False, False, False, False, False, False,  True, False, False, False,\n",
       "        False, False, False, False, False, False, False, False,  True, False,\n",
       "        False, False, False, False, False, False, False, False, False, False,\n",
       "        False, False, False, False, False, False, False, False,  True,  True,\n",
       "        False, False, False, False, False, False, False, False, False, False,\n",
       "        False, False, False, False, False, False, False, False, False, False,\n",
       "        False, False, False, False, False,  True, False, False, False, False,\n",
       "        False, False, False, False, False,  True, False, False, False, False,\n",
       "        False, False, False, False, False, False, False,  True, False, False,\n",
       "        False, False, False, False, False, False, False,  True, False,  True,\n",
       "        False, False, False, False, False, False, False, False, False, False,\n",
       "        False, False, False, False, False, False, False, False, False, False,\n",
       "        False, False, False, False, False, False, False, False, False, False,\n",
       "        False, False, False, False, False, False, False, False, False, False,\n",
       "        False, False, False, False, False, False, False, False, False, False,\n",
       "        False, False, False, False, False,  True, False, False, False, False,\n",
       "         True, False, False, False, False,  True, False, False, False, False,\n",
       "        False, False, False, False, False, False, False, False, False, False,\n",
       "        False, False, False, False, False, False,  True, False, False, False,\n",
       "        False, False,  True, False,  True, False, False, False, False, False,\n",
       "        False, False,  True,  True, False, False, False,  True, False, False,\n",
       "        False, False, False, False, False, False,  True, False, False, False,\n",
       "        False,  True, False, False, False, False, False, False, False, False,\n",
       "        False, False, False, False, False, False,  True, False, False, False,\n",
       "         True, False, False, False, False, False, False, False, False, False,\n",
       "        False, False, False, False, False, False, False, False, False, False,\n",
       "        False, False, False, False, False, False, False, False, False,  True,\n",
       "        False, False, False, False, False,  True,  True, False, False, False,\n",
       "        False, False, False, False, False, False, False, False, False, False,\n",
       "         True, False, False, False, False, False, False,  True, False, False,\n",
       "        False, False, False, False, False, False,  True, False, False, False,\n",
       "        False, False, False, False, False, False, False, False, False, False,\n",
       "        False, False, False,  True, False, False, False, False, False,  True,\n",
       "        False, False, False, False, False, False, False, False, False, False,\n",
       "        False, False, False, False, False, False, False,  True, False, False,\n",
       "        False, False, False,  True, False, False, False, False, False, False,\n",
       "        False, False, False, False, False, False, False, False, False, False,\n",
       "        False, False])"
      ]
     },
     "execution_count": null,
     "metadata": {},
     "output_type": "execute_result"
    }
   ],
   "source": [
    "t['tile_params']['locs'][:, 0] > 0.9"
   ]
  },
  {
   "cell_type": "code",
   "execution_count": null,
   "metadata": {},
   "outputs": [
    {
     "data": {
      "text/plain": [
       "torch.Size([512, 1, 52, 52])"
      ]
     },
     "execution_count": null,
     "metadata": {},
     "output_type": "execute_result"
    }
   ],
   "source": [
    "t['images'].shape"
   ]
  },
  {
   "cell_type": "code",
   "execution_count": null,
   "metadata": {},
   "outputs": [],
   "source": [
    "# t['tile_params']['locs']"
   ]
  },
  {
   "cell_type": "code",
   "execution_count": null,
   "metadata": {},
   "outputs": [
    {
     "data": {
      "text/plain": [
       "torch.Size([512, 1, 52, 52])"
      ]
     },
     "execution_count": null,
     "metadata": {},
     "output_type": "execute_result"
    }
   ],
   "source": [
    "t['paddings'].shape"
   ]
  },
  {
   "cell_type": "code",
   "execution_count": null,
   "metadata": {},
   "outputs": [
    {
     "data": {
      "text/plain": [
       "tensor([0.9126, 0.4776])"
      ]
     },
     "execution_count": null,
     "metadata": {},
     "output_type": "execute_result"
    }
   ],
   "source": [
    "t['tile_params']['locs'][10]"
   ]
  },
  {
   "cell_type": "code",
   "execution_count": null,
   "metadata": {},
   "outputs": [],
   "source": []
  },
  {
   "cell_type": "code",
   "execution_count": null,
   "metadata": {},
   "outputs": [
    {
     "data": {
      "text/plain": [
       "<matplotlib.lines.Line2D at 0x7f31004c0cd0>"
      ]
     },
     "execution_count": null,
     "metadata": {},
     "output_type": "execute_result"
    },
    {
     "data": {
      "image/png": "[encoded data removed]",
      "text/plain": [
       "<Figure size 640x480 with 1 Axes>"
      ]
     },
     "metadata": {},
     "output_type": "display_data"
    }
   ],
   "source": [
    "plt.imshow(t['uncentered_sources'][7,0])\n",
    "plt.axvline(25.5)\n",
    "plt.axhline(25.5)"
   ]
  },
  {
   "cell_type": "code",
   "execution_count": null,
   "metadata": {},
   "outputs": [
    {
     "data": {
      "text/plain": [
       "<matplotlib.lines.Line2D at 0x7f30881f7340>"
      ]
     },
     "execution_count": null,
     "metadata": {},
     "output_type": "execute_result"
    },
    {
     "data": {
      "image/png": "[encoded data removed]",
      "text/plain": [
       "<Figure size 640x480 with 1 Axes>"
      ]
     },
     "metadata": {},
     "output_type": "display_data"
    }
   ],
   "source": [
    "plt.imshow(im_out[200,0].cpu())\n",
    "plt.axvline(25.5)\n",
    "plt.axhline(25.5)"
   ]
  },
  {
   "cell_type": "code",
   "execution_count": null,
   "metadata": {},
   "outputs": [
    {
     "data": {
      "text/plain": [
       "<matplotlib.lines.Line2D at 0x7f3100357130>"
      ]
     },
     "execution_count": null,
     "metadata": {},
     "output_type": "execute_result"
    },
    {
     "data": {
      "image/png": "[encoded data removed]",
      "text/plain": [
       "<Figure size 640x480 with 1 Axes>"
      ]
     },
     "metadata": {},
     "output_type": "display_data"
    }
   ],
   "source": [
    "# center of plt always forget\n",
    "plt.imshow(torch.rand(4, 4))\n",
    "plt.axvline(2-0.5, color='r')\n",
    "plt.axhline(2-0.5, color='r')"
   ]
  },
  {
   "cell_type": "code",
   "execution_count": null,
   "metadata": {},
   "outputs": [],
   "source": []
  }
 ],
 "metadata": {
  "kernelspec": {
   "display_name": "bliss-deblender-W0ocb7P7-py3.10",
   "language": "python",
   "name": "python3"
  },
  "language_info": {
   "codemirror_mode": {
    "name": "ipython",
    "version": 3
   },
   "file_extension": ".py",
   "mimetype": "text/x-python",
   "name": "python",
   "nbconvert_exporter": "python",
   "pygments_lexer": "ipython3",
   "version": "3.10.12"
  }
 },
 "nbformat": 4,
 "nbformat_minor": 2
}
