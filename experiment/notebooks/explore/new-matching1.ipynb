{
 "cells": [
  {
   "cell_type": "code",
   "execution_count": null,
   "id": "0",
   "metadata": {},
   "outputs": [],
   "source": [
    "import torch\n",
    "from einops import rearrange\n"
   ]
  },
  {
   "cell_type": "code",
   "execution_count": null,
   "id": "1",
   "metadata": {},
   "outputs": [],
   "source": [
    "\n",
    "\n",
    "a = torch.tensor([1.1, 2.1, 3.0])\n",
    "b = torch.tensor([2.5, 1.2, 3.3])\n",
    "err = rearrange(a, 'n -> n 1') - rearrange(b, 'n -> 1 n')\n",
    "err = torch.abs(err)\n",
    "err = torch.where(err > 0.4, err.max()*2, err)\n",
    "\n",
    "\n",
    "\n"
   ]
  },
  {
   "cell_type": "code",
   "execution_count": null,
   "id": "2",
   "metadata": {},
   "outputs": [
    {
     "data": {
      "text/plain": [
       "tensor([[4.4000, 0.1000, 4.4000],\n",
       "        [4.4000, 4.4000, 4.4000],\n",
       "        [4.4000, 4.4000, 0.3000]])"
      ]
     },
     "execution_count": null,
     "metadata": {},
     "output_type": "execute_result"
    }
   ],
   "source": [
    "err"
   ]
  },
  {
   "cell_type": "code",
   "execution_count": null,
   "id": "3",
   "metadata": {},
   "outputs": [],
   "source": [
    "from scipy import optimize as sp_optim\n",
    "r, c = sp_optim.linear_sum_assignment(err)"
   ]
  },
  {
   "cell_type": "code",
   "execution_count": null,
   "id": "4",
   "metadata": {},
   "outputs": [
    {
     "data": {
      "text/plain": [
       "(array([0, 1, 2]), array([1, 0, 2]))"
      ]
     },
     "execution_count": null,
     "metadata": {},
     "output_type": "execute_result"
    }
   ],
   "source": [
    "r, c"
   ]
  },
  {
   "cell_type": "code",
   "execution_count": null,
   "id": "5",
   "metadata": {},
   "outputs": [
    {
     "data": {
      "text/plain": [
       "(tensor([1.1000, 2.1000, 3.0000]), tensor([1.2000, 2.5000, 3.3000]))"
      ]
     },
     "execution_count": null,
     "metadata": {},
     "output_type": "execute_result"
    }
   ],
   "source": [
    "a[r], b[c]"
   ]
  },
  {
   "cell_type": "markdown",
   "id": "6",
   "metadata": {},
   "source": [
    "## Test match by score"
   ]
  },
  {
   "cell_type": "code",
   "execution_count": null,
   "id": "7",
   "metadata": {},
   "outputs": [
    {
     "name": "stdout",
     "output_type": "stream",
     "text": [
      "tensor([[ 0.1118,  0.2236,  7.7719],\n",
      "        [ 7.7337,  7.5606,  0.0707],\n",
      "        [11.7593, 11.5850,  4.0330]])\n",
      "tensor([[1.0005, 1.0001, 1.0022],\n",
      "        [1.0015, 1.0009, 1.0012],\n",
      "        [1.0025, 1.0019, 1.0002]])\n",
      "tensor([[ 1.0005,  1.0001, 10.0250],\n",
      "        [10.0250, 10.0250,  1.0012],\n",
      "        [10.0250, 10.0250, 10.0250]])\n"
     ]
    }
   ],
   "source": [
    "from bliss.reporting import match_by_score, match_by_score\n",
    "from bliss.datasets.lsst import BACKGROUND\n",
    "\n",
    "locs1 = torch.tensor([[1.1, 2.25], [7.1, 7.2], [10, 10]])\n",
    "locs2 = torch.tensor([[1.2, 2.2], [1.3, 2.35], [7.05, 7.25]])\n",
    "\n",
    "fluxes1 = torch.tensor([10, 20, 30])\n",
    "fluxes2 = torch.tensor([5, 11, 32])\n",
    "\n",
    "r, c, dkeep, _ = match_by_score(locs1=locs1, locs2=locs2, \n",
    "                                fluxes1=fluxes1, fluxes2=fluxes2, slack=2, background=10000)"
   ]
  },
  {
   "cell_type": "code",
   "execution_count": null,
   "id": "8",
   "metadata": {},
   "outputs": [
    {
     "data": {
      "text/plain": [
       "(array([0, 1, 2]), array([1, 2, 0]), tensor([ True,  True, False]))"
      ]
     },
     "execution_count": null,
     "metadata": {},
     "output_type": "execute_result"
    }
   ],
   "source": [
    "r, c, dkeep"
   ]
  },
  {
   "cell_type": "code",
   "execution_count": null,
   "id": "9",
   "metadata": {},
   "outputs": [
    {
     "data": {
      "text/plain": [
       "(tensor([[ 1.1000,  2.2500],\n",
       "         [ 7.1000,  7.2000],\n",
       "         [10.0000, 10.0000]]),\n",
       " tensor([[1.3000, 2.3500],\n",
       "         [7.0500, 7.2500],\n",
       "         [1.2000, 2.2000]]))"
      ]
     },
     "execution_count": null,
     "metadata": {},
     "output_type": "execute_result"
    }
   ],
   "source": [
    "locs1[r], locs2[c]"
   ]
  },
  {
   "cell_type": "code",
   "execution_count": null,
   "id": "10",
   "metadata": {},
   "outputs": [
    {
     "data": {
      "text/plain": [
       "tensor([[0, 1],\n",
       "        [0, 0],\n",
       "        [0, 1]])"
      ]
     },
     "execution_count": null,
     "metadata": {},
     "output_type": "execute_result"
    }
   ],
   "source": [
    "a = torch.randn(3, 2)\n",
    "torch.where(a > 0, 1, 0)"
   ]
  },
  {
   "cell_type": "markdown",
   "id": "11",
   "metadata": {},
   "source": [
    "## Another example"
   ]
  },
  {
   "cell_type": "code",
   "execution_count": null,
   "id": "12",
   "metadata": {},
   "outputs": [],
   "source": [
    "from bliss.reporting import match_by_score, match_by_score\n",
    "from bliss.datasets.lsst import BACKGROUND\n",
    "\n",
    "locs1 = torch.tensor([[1.1, 2.25], [10, 10]])\n",
    "locs2 = torch.tensor([[1.2, 2.2], [1.3, 2.35], [1.0, 2.0]])\n",
    "\n",
    "fluxes1 = torch.tensor([10, 20])\n",
    "fluxes2 = torch.tensor([5, 20, 11])\n",
    "\n",
    "r, c, dkeep, _ = match_by_score(locs1=locs1, locs2=locs2, \n",
    "                                fluxes1=fluxes1, fluxes2=fluxes2, slack=2, background=1)"
   ]
  },
  {
   "cell_type": "code",
   "execution_count": null,
   "id": "13",
   "metadata": {},
   "outputs": [
    {
     "data": {
      "text/plain": [
       "(array([0, 1]), array([2, 0]), tensor([ True, False]))"
      ]
     },
     "execution_count": null,
     "metadata": {},
     "output_type": "execute_result"
    }
   ],
   "source": [
    "r, c, dkeep"
   ]
  },
  {
   "cell_type": "code",
   "execution_count": null,
   "id": "14",
   "metadata": {},
   "outputs": [],
   "source": []
  }
 ],
 "metadata": {
  "kernelspec": {
   "display_name": ".venv",
   "language": "python",
   "name": "python3"
  },
  "language_info": {
   "codemirror_mode": {
    "name": "ipython",
    "version": 3
   },
   "file_extension": ".py",
   "mimetype": "text/x-python",
   "name": "python",
   "nbconvert_exporter": "python",
   "pygments_lexer": "ipython3",
   "version": "3.10.16"
  }
 },
 "nbformat": 4,
 "nbformat_minor": 5
}
